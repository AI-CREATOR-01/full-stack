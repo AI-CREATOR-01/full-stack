{
 "cells": [
  {
   "cell_type": "markdown",
   "id": "4a36b1d2",
   "metadata": {},
   "source": [
    "# reactDom.render() ----------->>> take three arguments see below\n",
    "\n",
    "reactDom.render(\n",
    "     what-to-show(UI),\n",
    "     where-to-show,\n",
    "     a-callback-function(exceptional)\n",
    ")\n",
    "\n",
    "example:\n",
    "ReactDom.render(\n",
    "  <div>\n",
    "    <h1>hello world</h1>\n",
    "    <p>hey everyone</p>\n",
    "  </div>,\n",
    "  document.getElementById(\"root\")\n",
    ");\n",
    "\n",
    "\n",
    "\n",
    "what-to-show --->> bole to what UI we want to create on web page\n",
    "where-to-show --->> bole to the location in our html where we want to inject these UI kyuiki wahi html file render hogi so                           basically yha pr hm ek html element ko select krte hai\n"
   ]
  },
  {
   "cell_type": "markdown",
   "id": "b570e603",
   "metadata": {},
   "source": [
    "# babel ---->>>>\n",
    "\n",
    "it convert JSx into compatible JS code that anny browser can understand\n",
    "\n",
    "use babel website to see this conversion "
   ]
  },
  {
   "cell_type": "markdown",
   "id": "7193b32f",
   "metadata": {},
   "source": [
    "# JSX\n",
    "\n",
    "ek aisa tarika jis ki help se hm JS ke ander html ko embedd kr paate hai aur further esss embeded hmtl ke ander JSexp not js statement  ko see \n",
    "\n",
    "+-----------------------+----------\n",
    "| JS                              |\n",
    "|       +---------------+++++     |\n",
    "|       |  HTML             |     |\n",
    "|       |   +-----------+   |     |\n",
    "|       |   |           +   |     |\n",
    "|       |   |  JS Exp   +   |     |\n",
    "|       |   |           +   |     |\n",
    "|       |   +-----------+   |     |\n",
    "|       +---------------+++++     |\n",
    "+-----------------------+++++++++++        \n"
   ]
  },
  {
   "cell_type": "markdown",
   "id": "83a5b88b",
   "metadata": {},
   "source": [
    "# ERROR\n",
    "\n",
    "1. don't forget to import react and reactDom library into main index.js and react library to rest .js files\n",
    "\n",
    "2. when we inject JS code to html document mneans when we place <script> tag at the end of <> body tag then specify \n",
    "   type=\"text/JSX\" otherwise things will be rendered but will also some unexpected error in console\n",
    "    \n",
    "3. html elements should be closed (</>)\n",
    "    \n"
   ]
  },
  {
   "cell_type": "markdown",
   "id": "1fbb9bc8",
   "metadata": {},
   "source": [
    "# component\n",
    "\n",
    "1. component is a way to break down a large and complex user interface into smallerand more manageable parts/UI\n",
    "\n",
    "2. component is a reusable and self-contained piece of code that encapsulates a specific functionality or a part of the user        interface\n",
    "\n",
    "3. ab jaisa ki hm jaante hai ki to create content/UI on web page hm ReactDom.render() ke ander jaake hm jo bhi content/UI chhte    hai usko  specify kr rhe hote hai see\n",
    "   \n",
    "ReactDom.render(\n",
    "  <div>\n",
    "    <h1>hello world</h1>\n",
    "    <p>hey everyone</p>\n",
    "  </div>,\n",
    "  document.getElementById(\"root\")\n",
    ");\n",
    "\n",
    "1. but yah ek small content/UI hai but jab hme large UI ko create krna hoga tab index.js file and ReactDom.render() become very    complex to understand and read so isliye UI ko different smaller and manageable/readable parts/ui ya yu kahu reusable and        self content piece of code me split/break down kr dete hai aur phir unko multiple .jsx file/module me rkhte hai aur phir main    index.js me import krdete hai kyuki main index.js hi render hogi \n",
    "\n",
    "2. ab jaisa ki definition me likha hai ki component is a self contained piece of code aur chunki ek function bhi self contrained    pice of code hota hai so component ek function hi hota hai that return an UI when that function/component is rendered by        ReactDom.render() method as a closed html tag/element \n",
    "\n",
    "3. component/function ko main index.js me bhi rkh skte hai ya yu kahu ki components can live in main index.js aur chahe to ek      different .jsx file me bhi rkh skte hai and then import that/those functions/components into main index.js kyuki main            index.js hi finally render hogi when browser encounter <script></script> in html file/document"
   ]
  },
  {
   "cell_type": "markdown",
   "id": "03fb0df3",
   "metadata": {},
   "source": [
    "# NOTE:\n",
    "\n",
    "1. jo main index.js hoti hai mtlb wah .js file jisko link kiya to html document, nevver forget to import two main library\n",
    "   i.  react\n",
    "   ii. reactDom\n",
    "   \n",
    "   import React from \"react\";\n",
    "   import ReactDom from \"reactDom\"\n",
    "   \n",
    "2. if we don't want the components live in main index.js then we can create more .js ya yu kahu ki .jsx files go for .jsx          extension  file and can keep components into them if we do so then don't forget to import react library into those all          .jsx files because only react library can understand the JSX and convert them into more compatible syntax  so that browser      could understand them if we don't do so then we will get error"
   ]
  },
  {
   "cell_type": "markdown",
   "id": "bedbb4aa",
   "metadata": {},
   "source": [
    "# import/export\n",
    "\n",
    "1. named export vs default export\n",
    "\n",
    "2. per module/file there should be only one default export\n",
    "\n",
    "3. in case of named export we need to specify exact name within {} while importing them aur jisko default export kiya that that    can be any variabvle,object,function etc usko kisi bhi naam se import kr skte hai no need {}\n",
    "\n",
    "4. when we import a function then  to activate it we need to ionvoke it isliye express ko import kre ke baad we do\n",
    "   const app = express()\n",
    "\n",
    "\n",
    "const foo = 'foo';\n",
    "const bar = 'bar';\n",
    "const bar1 = \"bar1\"\n",
    "\n",
    "\n",
    "<!-- exporting the things -->\n",
    "export { foo, bar }; // Named exports\n",
    "export default bar1; // Default export\n",
    "\n",
    "<!--importing the things  -->\n",
    "import mydefault,{foo,bar} from \"file_path\"\n",
    "\n",
    "NOTE:\n",
    "\n",
    "the concept of import/export and module litrerally allow us to split a large JS file into multiple JS files to make entire codebase easy to read and understand \n",
    "\n",
    "# Renaming During Import:\n",
    "\n",
    "anotherModule.js\n",
    "import { variable1 as v1, myFunction as func } from './module';\n",
    "\n",
    "\n",
    "# Importing All:\n",
    "Import all named exports into an object.the deafult export will be found in object with \"default\" property name rest as we do nomanclature\n",
    "\n",
    "anotherModule.js\n",
    "import * as myModule from './module';\n",
    "\n",
    "# NOTE\n",
    "\n",
    "1. per file/moudule only single default export should be there\n",
    "2. we can import default export under any name rest exports ko import krne ke liye we need to write exxct name within {} \n",
    "3. in case of importing all we get an object with all exports including default export as \"default\" property name "
   ]
  },
  {
   "cell_type": "code",
   "execution_count": null,
   "id": "0bbfac5b",
   "metadata": {},
   "outputs": [],
   "source": []
  },
  {
   "cell_type": "code",
   "execution_count": null,
   "id": "32a8b2d2",
   "metadata": {},
   "outputs": [],
   "source": [
    "how to create react "
   ]
  }
 ],
 "metadata": {
  "kernelspec": {
   "display_name": "Python 3 (ipykernel)",
   "language": "python",
   "name": "python3"
  },
  "language_info": {
   "codemirror_mode": {
    "name": "ipython",
    "version": 3
   },
   "file_extension": ".py",
   "mimetype": "text/x-python",
   "name": "python",
   "nbconvert_exporter": "python",
   "pygments_lexer": "ipython3",
   "version": "3.9.13"
  }
 },
 "nbformat": 4,
 "nbformat_minor": 5
}
