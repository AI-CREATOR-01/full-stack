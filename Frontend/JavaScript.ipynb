{
 "cells": [
  {
   "cell_type": "markdown",
   "id": "189265ac",
   "metadata": {},
   "source": [
    "#                                      adding JS to website\n",
    "\n",
    "1.inline JS(like onClick=\"\", onLoad=\"\")\n",
    "2.internal JS (<script><script/> just before body tag)\n",
    "3.external JS (a sepearte file and then include the file by uaing script <script src=\"index.js\" charset=\"\"></script> and place     just from body tag)"
   ]
  },
  {
   "cell_type": "code",
   "execution_count": null,
   "id": "6d4def1e",
   "metadata": {},
   "outputs": [],
   "source": []
  },
  {
   "cell_type": "markdown",
   "id": "f89fc62c",
   "metadata": {},
   "source": [
    "#                                                       DOM"
   ]
  },
  {
   "cell_type": "markdown",
   "id": "5165eb6d",
   "metadata": {},
   "source": [
    "document ----- document word ka mtlb hai an entire html document/file\n",
    "\n",
    "1.innerHtml\n",
    "2.textContent\n",
    "\n",
    "remember only these things:\n",
    "\n",
    "1.how to select any html elements \n",
    "2.after selecting html element how can i style it \n",
    "3.after selecting the hmtl element how can i manipulate the content and textconetnt of that element\n",
    "4.after selecting html eleement how can i manipulate the attribute of that element like deleting and adding attribute\n",
    "5.event listner(mtlb how to add addEventListner()method to an element or an entire web page to listen any click or key press)\n"
   ]
  },
  {
   "cell_type": "markdown",
   "id": "1d89b481",
   "metadata": {},
   "source": [
    "# addEventListner(\"event(like click,load etc)\",call_back_function)\n",
    "\n",
    "jabhi hm addEventListener() kisi element pr lagatae hai tab yah hone waale uss event ko sunta hai aur phir jaise hi koi event hota hai associated with any element then usss event ki saaari info aur uss element ki saari info (jisse yah event associated hai) ek \"event\" naam ke object me store kr leta hai aur phir hm jo chahe wo jaan skte hai let mujhe jaanana hai ki jo element click hua uss element ka attribute(like id, class ) and content kya hai simply type \n",
    "\n",
    "event.target ------>>> essse hme ye pta chlega ki kaunsa element target hua hgai mtlb complete element <h1>hello<h1/> milega\n",
    "event.target.id ------>>> ess hme target element ki id milegi bole to id ki values"
   ]
  },
  {
   "cell_type": "code",
   "execution_count": null,
   "id": "cbba4966",
   "metadata": {},
   "outputs": [],
   "source": [
    "1.how to play sound on website by using JS\n",
    "2.how to use onclick and onload method in JS and in html directly as well "
   ]
  },
  {
   "cell_type": "markdown",
   "id": "b90a8173",
   "metadata": {},
   "source": [
    "# NOTE\n",
    "addEventListner() method is used to listen event like click event, keyboard press event etc ab ye hm pr depend krta hai ki hm kisi particular eleement ke liye sunna chahte hai ya pure web page ko \n"
   ]
  },
  {
   "cell_type": "markdown",
   "id": "462eb82c",
   "metadata": {},
   "source": [
    "# NOTE\n",
    "jabhi hme javascript ke through kisi selected element ko style provide krni ho tab simply wah style css file me  defined krlo aur phir uss style se associated selector(class/id ) ko simply add krdo to that element kyuki hm attribute ko manipulate kr skte hai"
   ]
  },
  {
   "cell_type": "markdown",
   "id": "b40870a9",
   "metadata": {},
   "source": []
  },
  {
   "cell_type": "markdown",
   "id": "7dee0f1e",
   "metadata": {},
   "source": []
  },
  {
   "cell_type": "markdown",
   "id": "6e3f172f",
   "metadata": {},
   "source": []
  },
  {
   "cell_type": "code",
   "execution_count": null,
   "id": "4c691d7a",
   "metadata": {},
   "outputs": [],
   "source": []
  },
  {
   "cell_type": "markdown",
   "id": "c68d0436",
   "metadata": {},
   "source": []
  }
 ],
 "metadata": {
  "kernelspec": {
   "display_name": "Python 3 (ipykernel)",
   "language": "python",
   "name": "python3"
  },
  "language_info": {
   "codemirror_mode": {
    "name": "ipython",
    "version": 3
   },
   "file_extension": ".py",
   "mimetype": "text/x-python",
   "name": "python",
   "nbconvert_exporter": "python",
   "pygments_lexer": "ipython3",
   "version": "3.9.13"
  }
 },
 "nbformat": 4,
 "nbformat_minor": 5
}
