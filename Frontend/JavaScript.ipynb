{
 "cells": [
  {
   "cell_type": "markdown",
   "id": "189265ac",
   "metadata": {},
   "source": [
    "#                                      adding JS to website\n",
    "\n",
    "1.inline JS(like onClick=\"\", onLoad=\"\")\n",
    "2.internal JS (<script><script/> just before body tag)\n",
    "3.external JS (a sepearte file and then include the file by uaing script <script src=\"index.js\" charset=\"\"></script> and place     just from body tag)"
   ]
  },
  {
   "cell_type": "code",
   "execution_count": null,
   "id": "6d4def1e",
   "metadata": {},
   "outputs": [],
   "source": []
  },
  {
   "cell_type": "markdown",
   "id": "f89fc62c",
   "metadata": {},
   "source": [
    "#                                                       DOM"
   ]
  },
  {
   "cell_type": "markdown",
   "id": "5165eb6d",
   "metadata": {},
   "source": [
    "document ----- document word ka mtlb hai an entire html document/file\n",
    "\n",
    "1.innerHtml\n",
    "2.textContent\n",
    "\n",
    "remember only these things:\n",
    "\n",
    "1.how to select any html elements \n",
    "2.after selecting html element how can i style it \n",
    "3.after selecting the hmtl element how can i manipulate the content and textconetnt of that element\n",
    "4.after selecting html eleement how can i manipulate the attribute of that element like deleting and adding attribute\n",
    "5.event listner(mtlb how to add addEventListner()method to an element or an entire web page to listen any click or key press)\n"
   ]
  },
  {
   "cell_type": "markdown",
   "id": "1d89b481",
   "metadata": {},
   "source": [
    "# addEventListner(\"event(like click,load etc)\",call_back_function)\n",
    "\n",
    "jabhi hm addEventListener() kisi element pr lagatae hai tab yah hone waale uss event ko sunta hai aur phir jaise hi koi event hota hai associated with any element then usss event ki saaari info aur uss element ki saari info (jisse yah event associated hai) ek \"event\" naam ke object me store kr leta hai aur phir hm jo chahe wo jaan skte hai let mujhe jaanana hai ki jo element click hua uss element ka attribute(like id, class ) and content kya hai simply type \n",
    "\n",
    "event.target ------>>> essse hme ye pta chlega ki kaunsa element target hua hgai mtlb complete element <h1>hello<h1/> milega\n",
    "event.target.id ------>>> ess hme target element ki id milegi bole to id ki values"
   ]
  },
  {
   "cell_type": "code",
   "execution_count": null,
   "id": "cbba4966",
   "metadata": {},
   "outputs": [],
   "source": [
    "1.how to play sound on website by using JS\n",
    "2.how to use onclick and onload method in JS and in html directly as well "
   ]
  },
  {
   "cell_type": "markdown",
   "id": "b90a8173",
   "metadata": {},
   "source": [
    "# NOTE\n",
    "addEventListner() method is used to listen event like click event, keyboard press event etc ab ye hm pr depend krta hai ki hm kisi particular eleement ke liye sunna chahte hai ya pure web page ko \n"
   ]
  },
  {
   "cell_type": "markdown",
   "id": "462eb82c",
   "metadata": {},
   "source": [
    "# NOTE\n",
    "jabhi hme javascript ke through kisi selected element ko style provide krni ho tab simply wah style css file me  defined krlo aur phir uss style se associated selector(class/id ) ko simply add krdo to that element kyuki hm attribute ko manipulate kr skte hai"
   ]
  },
  {
   "cell_type": "markdown",
   "id": "b40870a9",
   "metadata": {},
   "source": [
    "#                                                            jQuery\n",
    "\n",
    "jquery is javascript library that make things easier means the things that we do with vanilla javascript(pure javascript) we can do same things with jquery in much easier way or i can say that just writting few line of codes\n",
    "\n",
    "example:1 \n",
    "let we want to select an element see how we do that with vanilla javascript\n",
    "document.querySelector(\"h1\")\n",
    "\n",
    "but with the help of jquery we can make this thing much easier or shorter see how\n",
    "\n",
    "jquery(\"h1\") or even can make more shorter see $(\"h1\")\n",
    "\n",
    "NOTE: jquery ==== $"
   ]
  },
  {
   "cell_type": "markdown",
   "id": "7dee0f1e",
   "metadata": {},
   "source": [
    "# how to incorporate jquery(mtlb how can we add jquery code to our website)\n",
    "\n",
    "1. sbse phle ki jquery/jquery code bhi .js file me likhi jaati hai so create a .js file and have to write jquery inside that\n",
    "2. place <script src=\"./file.js\"></script> just before body\n",
    "3. place jquery CDN link just before previus one by using <script> tag\n",
    "   see <script src=\"cdn-link\"></script>\n",
    "\n",
    "    \n",
    "NOTE:\n",
    "\n",
    "but agar hmne dono <script> ko head me put krdiya tab  chize work nhi kregi tab iss problem ko do tarike se solve kr skte hai ya to dono <script> ko just <body> se phle place krdo ya phir write all jquery code within a function see\n",
    "    \n",
    "$(document).ready(function(){\n",
    "    $(\"h1\").css(\"color\",\"red\");\n",
    "});\n",
    "mtlb jab hrml document(web page) puri tarah se load/ready ho jaaye tab callback function ke andeer jitni bhi chized likhi hue hai unko apply krdo \n",
    "    \n",
    "but agar hmene dono <script> ko just <body> se phle place kr rkha hai not into head hme\n",
    "    \n",
    "$(document).ready(function(){\n",
    "    //jquerycode\n",
    "})\n",
    "\n",
    "eske ander jquery code likhne ki jarurat nhi hai hm directly code ko likh skte hai see simply\n",
    "\n",
    "$(\"h1\"),css(\"color\",\"red\");"
   ]
  },
  {
   "cell_type": "markdown",
   "id": "6e3f172f",
   "metadata": {},
   "source": [
    "# NOTE\n",
    "we can minify our css and js files bu using minifier.org website as we minify the orginal css and js files then minification  reduce the size of files \n",
    "\n",
    "how minification does work:\n",
    "\n",
    "it remove all comments,tab,space and lines space and by doing so minification reduce the size of file kyuki files me har ek letter har ek chiz space leti hai "
   ]
  },
  {
   "cell_type": "code",
   "execution_count": null,
   "id": "4c691d7a",
   "metadata": {},
   "outputs": [],
   "source": []
  },
  {
   "cell_type": "markdown",
   "id": "c68d0436",
   "metadata": {},
   "source": [
    "1. selecting element with jquery:\n",
    "\n",
    "   by simply jQuery(\"selector pattern\") or $(\"selector pattern\")\n",
    "   chahe ek eleemnt select krna ho ya phir multiples elements aise select honge\n",
    "   \n",
    "2. maipulating styles with jquery:\n",
    "\n",
    "   $(\"selector pattern\").css(\"property_name\",\"property_value\")\n",
    "   agar hm kewl property_name specify krnege to to usss property ki valur milegi \n",
    "   \n",
    "3. adding class to an element:\n",
    "   $(\"selector pattern\").addClass(\"class_name_1 class_name_2 etc\")\n",
    "   \n",
    "4. knowing class exist or not:\n",
    "   $(\"selector pattern\").hasClass(\"class_name\")\n",
    "  \n",
    "5. manipulating text with jquery:\n",
    "   $(\"selector pattern\").text(\"whatever we want\")\n",
    "   \n",
    "6. $(\"selector pattern\").html()\n",
    "\n",
    "7. manipulating attribute  with jquery:\n",
    "   $(\"selector pattern\").attr(\"name_of_attribute\",\"value_for_attribute\")\n",
    "   \n",
    "8. adding eventlistner with jquery:\n",
    "   $(\"selector pattern\").click(function(){})\n",
    "   $(\"selector pattern\").keypress(function(){})\n",
    "   \n",
    "9. adding and removing element with jquery:\n",
    "   $(\"selector pattern\").before(element)\n",
    "   $(\"selector pattern\").after(element)\n",
    "   $(\"selector pattern\").append(element)\n",
    "   $(\"selector pattern\").prepend(element)\n",
    "   $(\"selector pattern\").remove() --->> then it will remove these selected elements\n",
    "   \n",
    "\n",
    "NOTE: after vs before vs append vs prepend\n",
    "after ---->>> bole to selected element ke baad appear hoga\n",
    "before ---->> bole to selected element ke phle appear hoga\n",
    "append ---->> bole to selected element ke conetnt ke baad\n",
    "prepend --->> bole to selected element ke content ke phle \n",
    "\n",
    "\n",
    "10. animation with jquery:\n",
    "    $(\"selector pattern\").animate({css declaration})\n",
    "    \n",
    "    \n",
    "NOTE:\n",
    "\n",
    "jiasa ki hmne dekha ki we have different methods for diffrent purpose mtlb ki ek baar element/elements ko select krlo aur phir apply different methods for different purpose simple\n"
   ]
  }
 ],
 "metadata": {
  "kernelspec": {
   "display_name": "Python 3 (ipykernel)",
   "language": "python",
   "name": "python3"
  },
  "language_info": {
   "codemirror_mode": {
    "name": "ipython",
    "version": 3
   },
   "file_extension": ".py",
   "mimetype": "text/x-python",
   "name": "python",
   "nbconvert_exporter": "python",
   "pygments_lexer": "ipython3",
   "version": "3.9.13"
  }
 },
 "nbformat": 4,
 "nbformat_minor": 5
}
