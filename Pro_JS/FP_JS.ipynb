{
 "cells": [
  {
   "cell_type": "markdown",
   "id": "8fdbbd7b",
   "metadata": {},
   "source": [
    "# firts class function \n",
    "\n",
    "when someone says that first class fucntion it can have major three meanings :\n",
    "\n",
    "1. a function can be stored to variable \n",
    "2. a function can accept an another fucntion \n",
    "3. a fucntion can return another function "
   ]
  },
  {
   "cell_type": "code",
   "execution_count": null,
   "id": "7334d5e5",
   "metadata": {},
   "outputs": [],
   "source": []
  },
  {
   "cell_type": "markdown",
   "id": "953e563d",
   "metadata": {},
   "source": [
    "# Pure function\n",
    "\n",
    "1. same output for same input see what does it mean:\n",
    "\n",
    "  1. same output for same input\n",
    "  2. same/constant output for no input\n",
    "  3. same/constant output for no matter what input is\n",
    "\n",
    "2. No side effect:mtlb see\n",
    "\n",
    "   1. ess function ki wajah ki wajah se koi bhi observable changes/effect nhi hone/dikhne chahiye jaise ki  function should not       log anything should not read or write any files \n",
    "   \n",
    "   2. a pure function never mutate/modify anything like any parameter, variable and data structure chhahe wo outer scope ke ho         ya phir iske scope ke chahe wo original ho ya phir copy essi ko immutabbility bolte hai\n",
    "   \n",
    "NOTE:\n",
    "every function kuchhh na kuchh return krta hai kyuki jo function explicitly kuchh bhhi return nhi krta wo implicitly undefined  return krta hai"
   ]
  }
 ],
 "metadata": {
  "kernelspec": {
   "display_name": "Python 3 (ipykernel)",
   "language": "python",
   "name": "python3"
  },
  "language_info": {
   "codemirror_mode": {
    "name": "ipython",
    "version": 3
   },
   "file_extension": ".py",
   "mimetype": "text/x-python",
   "name": "python",
   "nbconvert_exporter": "python",
   "pygments_lexer": "ipython3",
   "version": "3.9.13"
  }
 },
 "nbformat": 4,
 "nbformat_minor": 5
}
