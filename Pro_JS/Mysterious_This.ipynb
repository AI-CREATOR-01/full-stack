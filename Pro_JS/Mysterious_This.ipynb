{
 "cells": [
  {
   "cell_type": "markdown",
   "id": "5b1c0587",
   "metadata": {},
   "source": [
    "# NOTE:\n",
    "\n",
    "1. agr hm ek object ke method ko access krke ek variable me store kr lete  hai aur phir call krte hai tab wah globaml object ko    point krega \n",
    "\n",
    "2. but agr hm ek class ke instance method ko access krke ek variable me store kra lete hai then that will point to undefined"
   ]
  },
  {
   "cell_type": "code",
   "execution_count": null,
   "id": "a7db2002",
   "metadata": {},
   "outputs": [],
   "source": []
  },
  {
   "cell_type": "markdown",
   "id": "b03e358e",
   "metadata": {},
   "source": [
    "# feel oof call()\n",
    "\n",
    "function_name.call(obj) -->> mltb hey call() method call this fucntion on this obj object ya yu kahu ess function ka this keyword will point to obj it can any value of object"
   ]
  }
 ],
 "metadata": {
  "kernelspec": {
   "display_name": "Python 3 (ipykernel)",
   "language": "python",
   "name": "python3"
  },
  "language_info": {
   "codemirror_mode": {
    "name": "ipython",
    "version": 3
   },
   "file_extension": ".py",
   "mimetype": "text/x-python",
   "name": "python",
   "nbconvert_exporter": "python",
   "pygments_lexer": "ipython3",
   "version": "3.9.13"
  }
 },
 "nbformat": 4,
 "nbformat_minor": 5
}
