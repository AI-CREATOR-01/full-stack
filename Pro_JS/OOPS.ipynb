{
 "cells": [
  {
   "cell_type": "markdown",
   "id": "c7a79b33",
   "metadata": {},
   "source": [
    "# 1 Plane JS object\n",
    "\n",
    "1. const obj = {} and const obj1 = new Object() both are similar things mtlb directly using curly braces we can create an object    and even using Object constructor fucntion as well\n",
    "\n",
    "2. jaisa ki hm jaante hai ki object ke ander hm key ko string ki tarah nhi lkhte  but they all are stringify behind the scene      mtlb see \n",
    "   const obj2={name:'creator'}\n",
    "   obj2[name]===obj2['name']===creator\n",
    "   \n",
    "3. property that does not exist on ebject get undefined rather we get error in case of other programing  language \n"
   ]
  },
  {
   "cell_type": "code",
   "execution_count": null,
   "id": "641ce9e2",
   "metadata": {},
   "outputs": [],
   "source": []
  },
  {
   "cell_type": "markdown",
   "id": "f6a33d5b",
   "metadata": {},
   "source": [
    "# 2 the super() method\n",
    "\n",
    "1. instance property --->> bole to wah property that can be access by instances of an class\n",
    "2. static property   --->> wah propertty that  belong to class itself only means on class can access it's stattic property\n",
    "\n",
    "3. jaisa ki hm jaante hai ki ek class can inherit other class\n",
    "\n",
    "4. jaise hi hm extends keyword use krte hai child class now can access the prototypal properties and insttances propetries of      parent class as well \n",
    "\n",
    "5. hme super() method ki jrurat tab padti hai jab child class ke ander hme constructor fucntion define krna hota hai aur ess        child class ke constructor fucntion ke ander property define krne se phle we need to call super() method otherwise no need to    call super() method kyuki super() method call the coonstructor fucntion of parent class "
   ]
  },
  {
   "cell_type": "code",
   "execution_count": null,
   "id": "87351b19",
   "metadata": {},
   "outputs": [],
   "source": []
  },
  {
   "cell_type": "markdown",
   "id": "af99a713",
   "metadata": {},
   "source": [
    "# 3 use cases of static method \n",
    "\n",
    "1. to create API or wrapp APIS jaisa ki hmne  dekha hai ki \n",
    "\n",
    "2. to create a factory method mtlb simple ek instance method or static method of a class that can create an instance for use        example ke taur pe hm dekh skte hai Object.create() see \n",
    "\n",
    "   class Fn {\n",
    "    constructor() {\n",
    "      this.name = 100;\n",
    "    } \n",
    "    fn1() {\n",
    "      console.log(200);\n",
    "    }\n",
    "    static fn3() {\n",
    "      return new Fn();\n",
    "    }\n",
    "  }\n",
    "\n",
    "const obj = Fn.fn3();\n",
    "console.log(obj);\n"
   ]
  },
  {
   "cell_type": "code",
   "execution_count": null,
   "id": "3e89da28",
   "metadata": {},
   "outputs": [],
   "source": []
  },
  {
   "cell_type": "markdown",
   "id": "ec1990d5",
   "metadata": {},
   "source": [
    "# public field\n",
    "\n",
    "1. to initialize the default  data to instances of a class we don't need to describe them within constructor function using this    keyword mtlb hm kuchhh aisa instances ko set krna chahte hai jo jinhe class ko call krte samay paas krne ki jrurat nhi hai      then directly  class body ke ansder descibe krna and then  they become/called as public fields  \n",
    "\n",
    "NOTE:\n",
    "classes me public fields(attributes) hote hai but public method jaise koi chiz nhi hoti hai wo actuall me prototypal methods hote hhai"
   ]
  }
 ],
 "metadata": {
  "kernelspec": {
   "display_name": "Python 3 (ipykernel)",
   "language": "python",
   "name": "python3"
  },
  "language_info": {
   "codemirror_mode": {
    "name": "ipython",
    "version": 3
   },
   "file_extension": ".py",
   "mimetype": "text/x-python",
   "name": "python",
   "nbconvert_exporter": "python",
   "pygments_lexer": "ipython3",
   "version": "3.9.13"
  }
 },
 "nbformat": 4,
 "nbformat_minor": 5
}
