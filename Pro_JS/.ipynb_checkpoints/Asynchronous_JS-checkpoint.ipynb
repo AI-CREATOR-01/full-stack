{
 "cells": [
  {
   "cell_type": "markdown",
   "id": "eb518587",
   "metadata": {},
   "source": [
    "NOTE:\n",
    "    \n",
    "1. for(var i=0;) in this case the var i  is globaly scoped so declare with let and const will not become gloably scoped\n",
    "\n"
   ]
  },
  {
   "cell_type": "markdown",
   "id": "d6875bf9",
   "metadata": {},
   "source": [
    "# 2. static scope\n",
    "also known as lexical scope \n",
    "\n",
    "1. the value of variable is determined by where that variable is written or declared not how and  where that variable is used \n",
    "\n",
    "2. let there is function and this function use a variable but this variable is not found in local scope/function scope  then        ab yah function uss variable ko kaise access krega ya yu kahu ki  wah variable ki value ess function ke liye kaise              determinded hogi yah depend krta hai ki  function kha pr writtten ya declared hai naaki where and how this function is being    callled see example\n",
    "\n",
    "3. ya essi ko bol skte hai ki the scope of variable and fucntion is determined by where thery are written or declared not where    and how they are used/called ya essi ko bol skte hai ki ek fucntion kisi variable ko kha se aur kaise access krega it depend    upon ki wah function declare ya written hai kha naaki how and where that is  called\n",
    "\n",
    "   let animal = \"animal_1\";\n",
    "   function fn() {\n",
    "     console.log(animal);\n",
    "   }\n",
    "   function fn2() {\n",
    "     let animmal = \"animal_2\";\n",
    "     fn();\n",
    "   }\n"
   ]
  },
  {
   "cell_type": "code",
   "execution_count": null,
   "id": "14856465",
   "metadata": {},
   "outputs": [],
   "source": []
  }
 ],
 "metadata": {
  "kernelspec": {
   "display_name": "Python 3 (ipykernel)",
   "language": "python",
   "name": "python3"
  },
  "language_info": {
   "codemirror_mode": {
    "name": "ipython",
    "version": 3
   },
   "file_extension": ".py",
   "mimetype": "text/x-python",
   "name": "python",
   "nbconvert_exporter": "python",
   "pygments_lexer": "ipython3",
   "version": "3.9.13"
  }
 },
 "nbformat": 4,
 "nbformat_minor": 5
}
