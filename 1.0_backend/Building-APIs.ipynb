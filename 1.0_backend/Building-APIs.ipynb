{
 "cells": [
  {
   "cell_type": "markdown",
   "id": "123e66c7",
   "metadata": {},
   "source": [
    "### APIs(application programming interface):\n",
    "\n",
    "API is a part/piece of software/application that can be used by another part/piece of software/application, in order to allow softwares/applications to talk to each other.\n",
    "\n",
    "examples:\n",
    "\n",
    "1. Node API\n",
    "   \n",
    "   fs module ,http module ya any core module ek  khud me software/application(logic and codes written in any progrtamming          language and stored in file/folder) hote hai and then we would be using them ya yu kahu ki we would be interacting with them    by using some piece of code associated with them jaise by using fs.readFile() to interact with fs systme/application etc\n",
    "   \n",
    "2. in case of object-oriented programming when exposing methods to the public , then we can say that we are creating API \n",
    "\n",
    "3. in case of nodes.js when we create/writes http methods and exposed their associated URL/endpointsa and mentioned/specify that    how other can format/trigger those URL/endpoint taaki client(an application) could interact with our server application ,        then we can say that we are creating API \n",
    "\n",
    "\n",
    "4. whenever JS interact with html document then we would not writing JS at that time balki we would using DOM API privided by      web browser jaise ki document.getElementById(\"id_value\") then it is not JS balki it is an API ya yu kahu ki a piece of DOM      software/application\n",
    "\n"
   ]
  },
  {
   "cell_type": "markdown",
   "id": "b2de77c2",
   "metadata": {},
   "source": [
    "# NOTE:\n",
    "\n",
    "so finally we can say that create/write a software/application/programm and then tell/expose that how another software/application/programm can interact with them like telling/exposing methods, URL, piece of code ya set of rules known as APIs jinke through applications could interact with each other\n",
    "  \n",
    "example:\n",
    "1. jaise ek module dusre mdoule se interact kr paata hai bu using some piece of code jaise node.js interact kr paata hai with      express.js jaise our index.js could interact with node core module \n",
    "\n",
    "2. jaise client could interact with server application by using/formatting/triggering URL\n"
   ]
  },
  {
   "cell_type": "code",
   "execution_count": null,
   "id": "fde97b3d",
   "metadata": {},
   "outputs": [],
   "source": []
  },
  {
   "cell_type": "markdown",
   "id": "99dec759",
   "metadata": {},
   "source": [
    "# NOTE\n",
    "\n",
    "1. req.url     ----->>> it will return url that triggred the endpoint\n",
    "2. req.params  ----->>> it is an object hold all path parameters of an URL\n",
    "3. req.query   ----->>> it is an object holds all query parameter of an URL\n",
    "\n",
    "4. /api/v1/tours/:id? --->> ? tell that path parameter is optional mtlb while formatting URL we can pass path parameter or not                                 tabhi kewl localhost:3000/api/v1/tours url ko request krne pe yah endpoint trigger krega\n"
   ]
  },
  {
   "cell_type": "code",
   "execution_count": null,
   "id": "09d0cd4c",
   "metadata": {},
   "outputs": [],
   "source": []
  },
  {
   "cell_type": "markdown",
   "id": "611be3fd",
   "metadata": {},
   "source": [
    "# map()\n",
    "# filter()\n",
    "# reduce()\n",
    "# find()\n",
    "# split()\n",
    "# join()\n",
    "# Object.assign(obj1,obj2,...) \n",
    "   it is going to merge provided objects to give a single object\n",
    "   \n",
    "# JSON.parse()\n",
    "# JSON.stringify()\n",
    "# res.json()"
   ]
  },
  {
   "cell_type": "markdown",
   "id": "3fd096ce",
   "metadata": {},
   "source": [
    "# const prompt = require('prompt-sync')();\n",
    "used to take input in node.js environment"
   ]
  },
  {
   "cell_type": "markdown",
   "id": "419a9f84",
   "metadata": {},
   "source": [
    "# app.route()                      \n",
    "---->> return an object\n",
    "\n",
    "# app.any_http_method() \n",
    "---->>>> does not return anything so if we assigned them to a variable them get undefined"
   ]
  },
  {
   "cell_type": "code",
   "execution_count": null,
   "id": "ee27e082",
   "metadata": {},
   "outputs": [],
   "source": []
  },
  {
   "cell_type": "markdown",
   "id": "9e0eb221",
   "metadata": {},
   "source": [
    "# Routers\n",
    "\n",
    "yah ek middleware hota hai Routers allow developers to organize routes and related logic into separate files or modules\n",
    "\n",
    "router general meaning --->>> router bole to a device or a software component that direct the data from one point/location to                                 another point/location"
   ]
  },
  {
   "cell_type": "markdown",
   "id": "56af8534",
   "metadata": {},
   "source": [
    "# app.use()  ---->> \n",
    "\n",
    "this method is used to mount(attach) the middleware to a specific route/endpoint/URL or to an entire application let understand through examples:\n",
    "\n",
    "1. app.use(express.json());\n",
    "\n",
    "2. app.use('/admin', (req, res, next) => {\n",
    "     // This middleware will only be executed for requests with paths starting with '/admin'\n",
    "     ya yu kahu ki yah middleware/function will be executed when /admin endpoint will trigger\n",
    "     next();\n",
    "   });\n",
    "\n",
    "\n",
    "\n",
    "3. app.use((req, res, next) => {\n",
    "     // Middleware logic\n",
    "     and this callback function/middleware will be executed for all kind of incoming request means app.use() method mount/attach      this middleware to an entire application\n",
    "     next(); \n",
    "   });\n"
   ]
  },
  {
   "cell_type": "code",
   "execution_count": null,
   "id": "492da7fa",
   "metadata": {},
   "outputs": [],
   "source": []
  },
  {
   "cell_type": "markdown",
   "id": "f8d16003",
   "metadata": {},
   "source": [
    "# export/import using commonJS module\n",
    "\n",
    "\n",
    "// multipleExports.js\n",
    "const function1 = () => {\n",
    "  console.log('Function 1');\n",
    "};\n",
    "\n",
    "const function2 = () => {\n",
    "  console.log('Function 2');\n",
    "};\n",
    "\n",
    "const multipleExportsObject = {\n",
    "  key1: 'value1',\n",
    "  key2: 'value2'\n",
    "};\n",
    "\n",
    "module.exports = {\n",
    "  function1,\n",
    "  function2,\n",
    "  multipleExportsObject\n",
    "};\n",
    "\n",
    "while importing:\n",
    "\n",
    "// app.js (or any other file)\n",
    "\n",
    "const allExports = require('./multipleExports');\n",
    "\n",
    "now allExports variable will store an object that will hold all exports of multiExports.js file\n",
    "\n",
    "// Using the exports through a single variable\n",
    "allExports.function1();\n",
    "allExports.function2();\n",
    "console.log(allExports.multipleExportsObject.key1);\n",
    "console.log(allExports.multipleExportsObject.key2);\n"
   ]
  },
  {
   "cell_type": "markdown",
   "id": "81d10b87",
   "metadata": {},
   "source": [
    "# what happened while importing\n",
    "\n",
    "when a JS executor encounter the import keyword/statement then the path of file are provided executor us file ko load krta hai phir us file ke saare codes ko execute krta hai from top to bottom and perform their task and then make imported variable,function or object available for use in current file/modules"
   ]
  },
  {
   "cell_type": "code",
   "execution_count": null,
   "id": "bb2d60a5",
   "metadata": {},
   "outputs": [],
   "source": []
  },
  {
   "cell_type": "markdown",
   "id": "4fcbb4b4",
   "metadata": {},
   "source": [
    "# NOTE:(inbuilt middlewares)\n",
    "\n",
    "1. body-parser\n",
    "2. json\n",
    "2. morgan\n",
    "3. param\n",
    "4. static \n",
    "\n",
    "jaisa ki hm jaante hai ki routes are responsible to server resources but we want server to serve static files not from any route bulki directly from folder then we use static middleware"
   ]
  },
  {
   "cell_type": "code",
   "execution_count": null,
   "id": "da3fad41",
   "metadata": {},
   "outputs": [],
   "source": []
  },
  {
   "cell_type": "markdown",
   "id": "de77cac7",
   "metadata": {},
   "source": [
    "# NOTE:\n",
    " \n",
    "1. agr hme ya yu kahu ki client ko kuchh access krna hai from server side then we need to make an API/URL request so jo bhi URL    hm format krenge to make request then same URL should be associated with any HTTP method/handler on server side "
   ]
  }
 ],
 "metadata": {
  "kernelspec": {
   "display_name": "Python 3 (ipykernel)",
   "language": "python",
   "name": "python3"
  },
  "language_info": {
   "codemirror_mode": {
    "name": "ipython",
    "version": 3
   },
   "file_extension": ".py",
   "mimetype": "text/x-python",
   "name": "python",
   "nbconvert_exporter": "python",
   "pygments_lexer": "ipython3",
   "version": "3.9.13"
  }
 },
 "nbformat": 4,
 "nbformat_minor": 5
}
