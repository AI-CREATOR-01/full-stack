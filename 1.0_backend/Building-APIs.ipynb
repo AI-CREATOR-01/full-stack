{
 "cells": [
  {
   "cell_type": "markdown",
   "id": "123e66c7",
   "metadata": {},
   "source": [
    "# APIs(application programming interface):\n",
    "\n",
    "API is a part/piece of software/application that can be used by another part/piece of software/application, in order to allow softwares/applications to talk to each other.\n",
    "\n",
    "examples:\n",
    "\n",
    "1. Node API\n",
    "   \n",
    "   fs module ,http module ya any core module ek  khud me software/application(logic and codes written in any progrtamming          language and stored in file/folder) hote hai and then we would be using them ya yu kahu ki we would be interacting with them    by using some piece of code associated with them jaise by using fs.readFile() to interact with fs systme/application etc\n",
    "   \n",
    "2. in case of object-oriented programming when exposing methods to the public , then we can say that we are creating API \n",
    "\n",
    "3. in case of nodes.js when we create/writes http methods and exposed their associated URL/endpointsa and mentioned/specify that    how other can format/trigger those URL/endpoint taaki client(an application) could interact with our server application ,        then we can say that we are creating API \n",
    "\n",
    "\n",
    "4. whenever JS interact with html document then we would not writing JS at that time balki we would using DOM API privided by      web browser jaise ki document.getElementById(\"id_value\") then it is not JS balki it is an API ya yu kahu ki a piece of DOM      software/application\n",
    "\n"
   ]
  },
  {
   "cell_type": "markdown",
   "id": "b2de77c2",
   "metadata": {},
   "source": [
    "# NOTE:\n",
    "\n",
    "so finally we can say that create/write a software/application/programm and then tell/expose that how another software/application/programm can interact with them like telling/exposing methods, URL, piece of code ya set of rules known as APIs jinke through applications could interact with each other\n",
    "\n",
    "example:\n",
    "1. jaise ek module dusre mdoule se interact kr paata hai bu using some piece of code jaise node.js interact kr paata hai with      express.js jaise our index.js could interact with node core module \n",
    "\n",
    "2. jaise client could interact with server application by using/formatting/triggering URL\n"
   ]
  }
 ],
 "metadata": {
  "kernelspec": {
   "display_name": "Python 3 (ipykernel)",
   "language": "python",
   "name": "python3"
  },
  "language_info": {
   "codemirror_mode": {
    "name": "ipython",
    "version": 3
   },
   "file_extension": ".py",
   "mimetype": "text/x-python",
   "name": "python",
   "nbconvert_exporter": "python",
   "pygments_lexer": "ipython3",
   "version": "3.9.13"
  }
 },
 "nbformat": 4,
 "nbformat_minor": 5
}
