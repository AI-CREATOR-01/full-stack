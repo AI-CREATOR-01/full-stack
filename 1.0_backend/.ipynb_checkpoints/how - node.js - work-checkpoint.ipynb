{
 "cells": [
  {
   "cell_type": "markdown",
   "id": "a981b43e",
   "metadata": {},
   "source": [
    "1. Node.js just a c++ programm/application/software matlb ek aisa programm jo likha gya hai by using c++ language ya yu kahu ki    node.js ek aisa environment hai jo c++ programm/application use krta hai to execute the JS code outisde the brpowser\n",
    "\n",
    "2. thread ---->>> just a sequence of instruction \n",
    "\n",
    "3. node.js have single thread or single threaded --->> means only one instruction can be executed at once ya yu kahu ki node.js                                                        can run in only one thread\n"
   ]
  },
  {
   "cell_type": "markdown",
   "id": "21dfd17b",
   "metadata": {},
   "source": [
    "I/O operation ---->>> such action/operation/process/communication that does not happen on our local computer only rather it                           happen between computer and outer world like readinf files, sending data etc"
   ]
  },
  {
   "cell_type": "markdown",
   "id": "22d3ca73",
   "metadata": {},
   "source": [
    "node.js event loop  ---- ab chunki node.js is single threaded  but phir bhi  multiple instruction node.js me execute hote hai                            simultaneously how so event loop is that eneble the execution of multiple task/instruction within a                              node.js programm. if there is no event loop in node.js environment then node.js instrcution will be                              executed sequently one after another mtlb no two or more than two insttucftion within node.js programm                          will be executed simultaneosly"
   ]
  },
  {
   "cell_type": "code",
   "execution_count": null,
   "id": "e9d9df10",
   "metadata": {},
   "outputs": [],
   "source": []
  }
 ],
 "metadata": {
  "kernelspec": {
   "display_name": "Python 3 (ipykernel)",
   "language": "python",
   "name": "python3"
  },
  "language_info": {
   "codemirror_mode": {
    "name": "ipython",
    "version": 3
   },
   "file_extension": ".py",
   "mimetype": "text/x-python",
   "name": "python",
   "nbconvert_exporter": "python",
   "pygments_lexer": "ipython3",
   "version": "3.9.13"
  }
 },
 "nbformat": 4,
 "nbformat_minor": 5
}
