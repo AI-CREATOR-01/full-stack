{
 "cells": [
  {
   "cell_type": "markdown",
   "id": "f535b779",
   "metadata": {},
   "source": [
    "# FEEL\n",
    "\n",
    "Database bole to collection of data aur yah collection of data jis computer/server me stored hote haai unko khte hai database server aur wah logic/app/software jo enn collection of data ko uss computer/server pr manipulate/interact krta usse bolte hai DBMS aur wah software/app jo UI privide krte hai taaki hm DBMS se interact kr paaye known as corresponding GUI software and the language that we use in our GUI to actually communicate with DBMS knowna as Query language"
   ]
  }
 ],
 "metadata": {
  "kernelspec": {
   "display_name": "Python 3 (ipykernel)",
   "language": "python",
   "name": "python3"
  },
  "language_info": {
   "codemirror_mode": {
    "name": "ipython",
    "version": 3
   },
   "file_extension": ".py",
   "mimetype": "text/x-python",
   "name": "python",
   "nbconvert_exporter": "python",
   "pygments_lexer": "ipython3",
   "version": "3.9.13"
  }
 },
 "nbformat": 4,
 "nbformat_minor": 5
}
