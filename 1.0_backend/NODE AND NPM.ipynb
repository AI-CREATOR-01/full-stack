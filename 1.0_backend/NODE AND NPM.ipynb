{
 "cells": [
  {
   "cell_type": "markdown",
   "id": "8c44f373",
   "metadata": {},
   "source": [
    "# NOTE:\n",
    "\n",
    "1. to execute JS code enter into node terminal by typing simple \"node\" but to execute a JS file only type node \"file_name\"\n",
    "\n",
    "2. enter into node mode and hit tab ---->> it will show you the list of object,methods, proeprty and variable of js and module                                              of node.js\n",
    "\n",
    "3. command clear === ctrl+L to clear terminal "
   ]
  },
  {
   "cell_type": "markdown",
   "id": "c82a2fbd",
   "metadata": {},
   "source": []
  },
  {
   "cell_type": "markdown",
   "id": "ecc04b12",
   "metadata": {},
   "source": [
    "# NOTE:\n",
    "\n",
    "1. to access/use ya yu kahu to import core module of node.js to our file we don't need to initialize the NPM we can access          directly see\n",
    "2. like const fs = require(\"fs\") ----->> return an object stored to fs and then use all method of fs module"
   ]
  },
  {
   "cell_type": "code",
   "execution_count": null,
   "id": "70b32b72",
   "metadata": {},
   "outputs": [],
   "source": []
  },
  {
   "cell_type": "markdown",
   "id": "506c3a03",
   "metadata": {},
   "source": [
    "# NOTE:\n",
    "\n",
    "kisi bhi file ko .js file ko execute krne ke liye uske current/parent folder me hona jruri hota hai"
   ]
  },
  {
   "cell_type": "code",
   "execution_count": null,
   "id": "a8ed7944",
   "metadata": {},
   "outputs": [],
   "source": []
  },
  {
   "cell_type": "markdown",
   "id": "d40053a9",
   "metadata": {},
   "source": [
    "# CPU VS OS\n",
    "\n",
    "1. CPU: The CPU is a physical hardware component located on the computer's motherboard.\n",
    "\n",
    "2. OS: The operating system is a software program that resides on storage media (e.g., hard drive, SSD) and is loaded into          memory when the computer starts."
   ]
  },
  {
   "cell_type": "code",
   "execution_count": null,
   "id": "8a25809c",
   "metadata": {},
   "outputs": [],
   "source": []
  },
  {
   "cell_type": "markdown",
   "id": "fe48012f",
   "metadata": {},
   "source": [
    "# THREAD AND THREADING CONCEPT\n",
    "\n",
    "1. software/application/app ---->>> a program\n",
    "\n",
    "1. program                 ----->>> set of instructions written by in a programming language \n",
    "\n",
    "1. instruction             ----->>> bole to collection of code ya yu kahu ki line/lines of code that can perform a task a                                           program have multiple instruction mtlb like console.log(\"hello world\") is an instruction jo                                     computer/machine ko batayega ki hello world ko print krna hai \n",
    "\n",
    "1. progtraming language    ----->>> set of rules to write/express/make/prepare something(instruction)\n",
    "\n",
    "1. process/task/execution  ----->>> running of entire programm/software like youtube running on our machine khud me ek                                               task/process hai for CPU  means we are using youtube or youtube is running on our machine                                       mtlb CPU has started a process/task to execute/run it \n",
    "\n",
    "2. a CPU have CORE or multi CORE and a CORE have multi THREAD\n",
    "   mtlb ek cpu multitheading nhi hota blki ek CPU multi-core CPU hota/ho skta hai aur phir ye core multi-threading hote/ho skte    hai\n",
    "   \n",
    "3. CPU AND CORE  ------>> are physical component\n",
    "\n",
    "4. THREAD        ------>> smallest unit of execution within a process/task mtlb ek programm me multiple set of instruction ya yu                           kahu ki multiple line/lines of code hote hai to perform different-2 task so har ek set of instructin                             ya yu kahu ki har ek line of code ke execution ko thread khte hai\n",
    " \n",
    "\n",
    "                          ya essi ko bolte hai a single thread can perform a single task(an instruction or line/lines of                                   code) at a time so finally i can say that thread is where our main execution happen so finally thread                           is an abstraction that represent control of flow of execution of a programm mtlb jab koi ek program                             ko simultaneouly execute ho skte hai ya kiye ja skte hai in that core is known as thread ya phir\n",
    "                          \n",
    "                          \n",
    "                          jab ek core me ek program run krta hai tab yah core ess program ke ander ya yu kahu ki ess programm ke                           kitne task(instruction) ko simultaneously execute kr skta hai known as thread\n",
    "                          \n",
    "                          \n",
    "                          A thread is a sequence of instructions that can be executed independently. When a program is running                             on a CPU core, it may have multiple threads associated with it. mtlb if one instruction is running at                           a time means single threaded, two/more than instrcution can be executed simultaneously ya y kahu at a                           time means multi-threaded\n",
    "                          \n",
    "                          \n",
    "                          \n",
    "5. JavaScript is single-threaded ------>>> mtlb jab ek  javascript program  kisi environment me run hoga like (web browser                                                  engine, node.js runtime environement) tab ess javascript program ke                                                              instructions(tasks) will be executed sequently mtlb each instruction will be executed                                            one after another aur jabtak previous instruction will not be completed tab tak next                                            instruction will not be executed \n",
    "                          \n",
    "example:\n",
    "\n",
    "let we built an app/aplication/software thih hai now users want to use/acces it jaise hi unn logo ne ess app ko download and install kiya and try to login to it then they face a time delay kyuki program me ek instruction hai jo large file ko read krta hai ilsye aur yah instruction asynchronous nhi hai isliye isne aage ke instruction ko block kr diya aur phir user interface load hone me time le rha hai jab tak ki large file puri tarah se read nhi ho jaati             "
   ]
  },
  {
   "cell_type": "code",
   "execution_count": null,
   "id": "f410e7ff",
   "metadata": {},
   "outputs": [],
   "source": []
  },
  {
   "cell_type": "markdown",
   "id": "24f070fb",
   "metadata": {},
   "source": [
    "# nature of javascript\n",
    "\n",
    "1. asynchronous javascript  ---->> such a javascript instruction which have non-blocking behaviour\n",
    "2. synchronous javascript   ---->> such a javascript instruction which have blocking behaviour"
   ]
  },
  {
   "cell_type": "code",
   "execution_count": null,
   "id": "71d1346f",
   "metadata": {},
   "outputs": [],
   "source": []
  },
  {
   "cell_type": "markdown",
   "id": "6c31ed00",
   "metadata": {},
   "source": [
    "# NOTE:\n",
    "\n",
    "2. agar koi instrution asynchronous nature ki hai to uss instruction ke next waale instructions esse p-hle execute hote jaate      hai jabtak ki yah complete na ho jaaye jaise hi complete hota hai js phir isko execute krta hai isliye agr next instruction      previous instruction pe dependent hai then use AWAIT for previous one \n",
    "\n",
    "\n",
    "3. mtlb asynchronous JavaScript code will not block next instruction executin balki balki compiler move to next instruction        immediately to execute it \n",
    " \n",
    "example:\n",
    "\n",
    "fs.readFileSync()    ---->>> synchronous nature/synchronous javascript\n",
    "fs.readFile()        ---->>> asynchronous nature/asynchronous javascript"
   ]
  },
  {
   "cell_type": "code",
   "execution_count": null,
   "id": "53d1c28f",
   "metadata": {},
   "outputs": [],
   "source": []
  },
  {
   "cell_type": "markdown",
   "id": "d4a4f85f",
   "metadata": {},
   "source": [
    "# synchronous and asynchronous nature/way\n",
    "\n",
    "both are ways that represent control of flow of instruction execution mtlb they represent how instruction  of a program will be executed \n",
    "\n",
    "synchronous   ---->>>  blocking behaviour (sequence of instruction will be executed after one another)\n",
    "asynchronous  ---->>>  non-blocking behaviour(sequnece of instruction can be executed simultaneously)"
   ]
  },
  {
   "cell_type": "markdown",
   "id": "bdc42c95",
   "metadata": {},
   "source": []
  },
  {
   "cell_type": "code",
   "execution_count": null,
   "id": "b21f2aea",
   "metadata": {},
   "outputs": [],
   "source": [
    "1.the  function use callback function are asynchronous?\n",
    "2.how can i identified it which instruction is asynchronous or which not"
   ]
  },
  {
   "cell_type": "code",
   "execution_count": null,
   "id": "4e3f950e",
   "metadata": {},
   "outputs": [],
   "source": []
  },
  {
   "cell_type": "markdown",
   "id": "d2b0416f",
   "metadata": {},
   "source": [
    "# callback hell\n",
    "\n",
    "callback hell is situation in our programm where asynchronous operation are nested ya yu kahu ki where callback function are nested ya yu kahu ki where our code becomes nested with too many callbacks to achieve some task and then codes/operations with too many callback function become very hard to understand and read because they look like pyramid of doom\n",
    "\n",
    "ya yu kahu ki jab dependent asynchronous operation ho mtlb ek asynchronous opeartin ke baad we want to perform another asynchronous opeartion once previuous one completed as so on so to achieve so called task jab hm code likhte hai then our cod becoe nested with too many callback function and code structure look like pyramid not easy to read and understand so to get rid ovetr this problem we have alternative option to achieve that task aurt hmaaa code pyramid ki tarh dikhega bhi nhi and that is ASYNC/AWAIT"
   ]
  },
  {
   "cell_type": "code",
   "execution_count": null,
   "id": "97dd36f6",
   "metadata": {},
   "outputs": [],
   "source": []
  },
  {
   "cell_type": "markdown",
   "id": "d3574e9f",
   "metadata": {},
   "source": [
    "# NOTE:\n",
    "\n",
    "top level code executed once as we run the server means the code outside of http.createServer() and http.listen() executed once and codes inside them executed again and again as client make request to different API/url"
   ]
  },
  {
   "cell_type": "code",
   "execution_count": null,
   "id": "bbdf96f5",
   "metadata": {},
   "outputs": [],
   "source": []
  },
  {
   "cell_type": "markdown",
   "id": "d3faeb74",
   "metadata": {},
   "source": [
    "# NOTE:\n",
    "\n",
    "1. .  ---->>> refer to current directory(means start from current directory)\n",
    "2. .. ---->>> refer to one level up directory of current directory\n",
    "2.  /  ---->>> refer to root directory if it come before any path otherwise refer to divider"
   ]
  },
  {
   "cell_type": "code",
   "execution_count": null,
   "id": "b98912e4",
   "metadata": {},
   "outputs": [],
   "source": []
  },
  {
   "cell_type": "markdown",
   "id": "4198f9be",
   "metadata": {},
   "source": [
    "# path\n",
    "\n",
    "1. path is a sequence of string bole to collection of characters or a way that is used  to locate/find/reach out to a specific      file/folder in our file system ya simple bhasa me kahu to kisi specific file/folder tak kaise pahucha ja skta hai and from      where to start to find that specific file/folder\n",
    "\n",
    "\n",
    "\n",
    "2. efers to the complete route or sequence of directories that must be followed to locate a particular directory/file within the    file system. \n",
    "\n",
    "TYPES OF PATH:\n",
    "\n",
    "1. absoulte path ---->> path relative to root folder ya yu kahu ki path from root to to target file/directory\n",
    "2. relative path ---->> path relative to current directory of file being executed \n",
    "\n",
    "HOW PATH RESOLUTION WORK:\n",
    "\n",
    "1. If the path starts with a \"/\", it is an absolute path, and the file executor starts looking for the file from the root          directory. mltb executor ek dam root se start krega to reach that file \n",
    "   \n",
    "   example:\n",
    "   \n",
    "   /home/user/projects/script.js (on  unix like system)\n",
    "   C:\\Users\\User\\Documents\\script.js (on window)\n",
    "\n",
    "   In this case, the file executor looks for script.js starting from the root directory \n",
    "\n",
    "\n",
    "2. If the path is specified without a leading \"/\" (Unix-like systems) or drive letter (Windows), it is a relative path. The file    executor starts looking for the file relative to the current working directory.\n",
    " \n",
    "   example:\n",
    "   \n",
    "   scripts/script.js or ./scripts/script.js \n",
    "   \n",
    "   In this case, the file executor looks for script.js within the scripts directory, starting from the current working              directory.\n",
    "\n",
    "3. # Current working directory is /home/user/projects\n",
    "     cd scripts\n",
    "     node script.js\n",
    "     \n",
    "     In this case, script.js is a relative path. The operating system combines it with the current working directory                  (/home/user/projects/scripts) to form the absolute path.\n",
    "     \n",
    "4. ./subdir/../script.js\n",
    "\n",
    "\n",
    "NOTE:\n",
    "\n",
    "1. jab node.js ya koib runtime enevirnment ko kisi file ko run/execute krna hoga tab wah usss file tak kaise phuchega ya yu kahu    kaise dhhondhega aur kha se start krega yah depend krta hai ki hmne absolute path speicified kiya hai ya phir relative path\n",
    "\n",
    "2. If i specify absolute paths in your code, and then the project is run on a different machine or directory structure, those      absolute paths may no longer be valid, leading to issues.\n",
    "\n",
    "3. dircetory_name ---->> a. directory ka kelw naam ya phir\n",
    "                         b. directory ka absolute path"
   ]
  },
  {
   "cell_type": "code",
   "execution_count": null,
   "id": "06d8a5f8",
   "metadata": {},
   "outputs": [],
   "source": []
  },
  {
   "cell_type": "code",
   "execution_count": null,
   "id": "55c8709b",
   "metadata": {},
   "outputs": [],
   "source": []
  },
  {
   "cell_type": "code",
   "execution_count": null,
   "id": "faeafa57",
   "metadata": {},
   "outputs": [],
   "source": []
  }
 ],
 "metadata": {
  "kernelspec": {
   "display_name": "Python 3 (ipykernel)",
   "language": "python",
   "name": "python3"
  },
  "language_info": {
   "codemirror_mode": {
    "name": "ipython",
    "version": 3
   },
   "file_extension": ".py",
   "mimetype": "text/x-python",
   "name": "python",
   "nbconvert_exporter": "python",
   "pygments_lexer": "ipython3",
   "version": "3.9.13"
  }
 },
 "nbformat": 4,
 "nbformat_minor": 5
}
