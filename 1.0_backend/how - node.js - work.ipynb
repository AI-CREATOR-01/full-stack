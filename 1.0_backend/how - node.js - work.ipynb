{
 "cells": [
  {
   "cell_type": "markdown",
   "id": "335dba4a",
   "metadata": {},
   "source": [
    "Environment ------>>jabhi koi environment bole it means it is like a imaginory big-box jiske ander dher saare different                             components hai ya yu kahu ki this imgainory bos contain different components inside it that work together to                     achieve a common task ya phir \n",
    "\n",
    "                    a collection  of dher saare different compomnents that work together to achieve a common/some task \n",
    "                    \n",
    "                    \n",
    "runtime environment ----->>  bole to ek programm ko human readable code se machine code me convert krna mtlb enn dono steps ke                                bichh me hone waale processes/mechanism esssi runtime environemnt me honge aur uske baad final jo                                machine code hoga wah CPU hi execute krega "
   ]
  },
  {
   "cell_type": "markdown",
   "id": "77be2f14",
   "metadata": {},
   "source": [
    "1. Node.js just a c++ programm/application/software matlb ek aisa programm jo likha gya hai by using c++ language ya yu kahu ki    node.js ek aisa environment hai jo c++ programm/application use krta hai to execute the JS code outisde the brpowser\n",
    "\n",
    "2. thread ---->>> just a sequence of instruction \n",
    "\n",
    "3. node.js have single thread or single threaded --->> means only one instruction can be executed at once ya yu kahu ki node.js                                                        can run in only one thread\n"
   ]
  },
  {
   "cell_type": "markdown",
   "id": "4a91a071",
   "metadata": {},
   "source": [
    "I/O operation ---->>> such action/operation/process/communication that does not happen on our local computer only rather it                           happen between computer and outer world like readinf files, sending data etc"
   ]
  },
  {
   "cell_type": "markdown",
   "id": "ff79cb64",
   "metadata": {},
   "source": [
    "node.js event loop  ---- ab chunki node.js is single threaded  but phir bhi  multiple instruction node.js me execute hote hai                            simultaneously how so event loop is that eneble the execution of multiple task/instruction within a                              node.js programm. if there is no event loop in node.js environment then node.js instrcution will be                              executed sequently one after another mtlb no two or more than two insttucftion within node.js programm                          will be executed simultaneosly"
   ]
  },
  {
   "cell_type": "markdown",
   "id": "c084330c",
   "metadata": {},
   "source": [
    "jaise hi hm node.js application/script ko run krte hai to sbse phle synchronous code or code outside of callback function executed first"
   ]
  },
  {
   "cell_type": "code",
   "execution_count": null,
   "id": "b5ad832e",
   "metadata": {},
   "outputs": [],
   "source": [
    "jaise hi node.js ru hota hai it initilized it's component including event loop "
   ]
  },
  {
   "cell_type": "markdown",
   "id": "d0527bb8",
   "metadata": {},
   "source": [
    "all the node.js application code that is inside callback function (non-top-level-code outside of any callback function) and asynchronous operation registered to event loop and executed by event loop"
   ]
  },
  {
   "cell_type": "markdown",
   "id": "01e5aa5f",
   "metadata": {},
   "source": [
    "so wah code/instrcutions jo event loop execute krega agar wah code/instructiuons heavy hai bole to nested asytnchronous operatyions ya time taking opeartion furhter loaded to thread pool"
   ]
  },
  {
   "cell_type": "markdown",
   "id": "5ba08762",
   "metadata": {},
   "source": [
    "waise node.js ek environment hai means it is like a big box that hold componentts inside it ya yu kahu ki made up of many components here are some main components folloing\n",
    "\n",
    "1. V8 engine   ------>>  a C++ programm/component hai and it convert JS code into machine code\n",
    "2. Libuv       ------>>  yah ek C/C++ library/prpogramm/component hai aue essi ki wajah se multiuples JS instructions can be                              executed simuyltaneously all asynchronous operations and code outside of callback fuction(non-top-                              level-code) executed by this library kyuki essi library ki pass event loop and thread pool hotra hai \n",
    "\n",
    "3. software ki duniya me har ek chiz bs programm hi bhia ya phir idea/concept/abstraction hai enhi ko hm kucch na kuchh bulate      rhte hai "
   ]
  },
  {
   "cell_type": "code",
   "execution_count": null,
   "id": "86f60a3b",
   "metadata": {},
   "outputs": [],
   "source": [
    "if any programm has started and running on machine it means that programm is being executed "
   ]
  },
  {
   "cell_type": "code",
   "execution_count": null,
   "id": "33d612df",
   "metadata": {},
   "outputs": [],
   "source": [
    "Node.js utilizes callback functions extensively to handle asynchronous operations"
   ]
  },
  {
   "cell_type": "markdown",
   "id": "2cf1c2c1",
   "metadata": {},
   "source": [
    "phases:\n",
    "\n",
    "1. initialize program\n",
    "2. execute top level code\n",
    "3. requires modules\n",
    "4. register event callback\n",
    "5. start event loop"
   ]
  },
  {
   "cell_type": "markdown",
   "id": "a29bffc1",
   "metadata": {},
   "source": [
    "# NOTE:\n",
    "\n",
    "1. the code outside of callback function executed first as node.js script started \n",
    "2. callback function ---->> bole a function that is passed as an argument to another function and it executed after some time or                             after some sepcific task happend"
   ]
  }
 ],
 "metadata": {
  "kernelspec": {
   "display_name": "Python 3 (ipykernel)",
   "language": "python",
   "name": "python3"
  },
  "language_info": {
   "codemirror_mode": {
    "name": "ipython",
    "version": 3
   },
   "file_extension": ".py",
   "mimetype": "text/x-python",
   "name": "python",
   "nbconvert_exporter": "python",
   "pygments_lexer": "ipython3",
   "version": "3.9.13"
  }
 },
 "nbformat": 4,
 "nbformat_minor": 5
}
