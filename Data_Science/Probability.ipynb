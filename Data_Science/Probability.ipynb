{
 "cells": [
  {
   "cell_type": "markdown",
   "id": "09f90f65",
   "metadata": {},
   "source": [
    "# Definition \n",
    "\n",
    "Probability is about figuring out how likely(the chance or probability of something happening) something is to happen.\n",
    "\n",
    "or the likelihood(the chances or probability of something happening) of an event(outcome) occcuring. \n",
    "\n",
    "\n",
    "Experiment/trial  ----> the action or activity that we perform to observe something \n",
    "\n",
    "outcome           ----> hm jo bhi action ya activity perform krenge uska ek result aaayega ya ek se adhik result bhi ho skte hai                         so every single result is an outcome\n",
    "\n",
    "event(E)            ----> An event is a set of outcomes or a collection of possible results from an experiments that we're                                 interested in analyzing or observing. \n",
    "                        \n",
    "                        mtlb hm jo bhi experiment kr rhe hai then uss experiment se what possible result/outcome we are hoping                           expecting or interested in analyzing or observing that result can  be one or more than 1 \n",
    "                        \n",
    "                        or what outocomes/results we want to see happen from an experiments \n",
    "                        \n",
    "certain event     ----> A certain event is guaranteed to happen with probability 1 (or 100%).\n",
    "uncertain event   ----> An uncertain event is one where the outcome is not guaranteed.an uncertain event has a probability                               between 0 and 1, but less than 1.\n",
    "\n",
    "likely event      ----> A likely event has a high probability of occurring, but it's not guaranteed. greater than 0.5\n",
    "unlikely event    ----> An unlikely event has a low probability of occurring. less that 0.5 \n",
    "\n",
    "\n",
    "NOTE: \n",
    "\n",
    "probability is expressed numericaly  like in percentage , fraction but conventionaly we write them between 0 and 1 \n",
    "\n",
    "1 -->> bole to event 100% hoga (absolute certain event )\n",
    "0 -->> bole to event 100% nhi hoga (absolute uncertain event )"
   ]
  },
  {
   "cell_type": "markdown",
   "id": "c1cb601b",
   "metadata": {},
   "source": [
    "# Formula \n",
    "\n",
    "p(E) = preferred outcome or favourable outcomes/ all possible outcome or sample space \n",
    "\n",
    "preferred/favourable means --->> outcomes that we want to see happen\n"
   ]
  },
  {
   "cell_type": "markdown",
   "id": "baa3057d",
   "metadata": {},
   "source": [
    "# trial vs experiments \n",
    "\n",
    "trial      --->> every single activity/action/performance or every single try(prayas)\n",
    "experiment --->> collection of trials/try \n",
    "\n",
    "a coin is flipped 100 times == 100 trials == one experiment\n",
    "\n"
   ]
  },
  {
   "cell_type": "markdown",
   "id": "67f3437c",
   "metadata": {},
   "source": [
    "# Experimental probability vs theoritical (true) probability\n",
    "\n",
    "Experimental : \n",
    "\n",
    "This is determined by conducting an actual experiment or observation and recording the outcomes. The experimental probability of an event is calculated by dividing the number of times the event occurs by the total number of trials or observations. It's essentially a measure of what actually happens in practice.\n",
    "\n",
    "For example, if you flip a coin 100 times and it lands heads-up 60 times, then the experimental probability of getting heads is\n",
    "60/100 = 0.6\n",
    "\n",
    "\n",
    "Formula : \n",
    "\n",
    "P(A) = successful trials / all trials\n",
    "\n"
   ]
  },
  {
   "cell_type": "markdown",
   "id": "a967dcb9",
   "metadata": {},
   "source": [
    "# Expected value (E) \n",
    "\n",
    " the expected value of an event A denoted by E(A) is the average outcome we expect if we run an experiment many times "
   ]
  }
 ],
 "metadata": {
  "kernelspec": {
   "display_name": "Python 3 (ipykernel)",
   "language": "python",
   "name": "python3"
  },
  "language_info": {
   "codemirror_mode": {
    "name": "ipython",
    "version": 3
   },
   "file_extension": ".py",
   "mimetype": "text/x-python",
   "name": "python",
   "nbconvert_exporter": "python",
   "pygments_lexer": "ipython3",
   "version": "3.9.13"
  }
 },
 "nbformat": 4,
 "nbformat_minor": 5
}
