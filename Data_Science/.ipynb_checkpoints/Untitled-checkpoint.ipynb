{
 "cells": [
  {
   "cell_type": "markdown",
   "id": "e201a88f",
   "metadata": {},
   "source": [
    "#                                        analysis vs analytics \n",
    "\n",
    "analysis   ---->>> (past) bole to analyze the event/data that has happened in past and figure out why and how or like explaining                    past behaviour/performance  \n",
    "\n",
    "analytics  ---->>> (future) bole to who plan or make prediction or like predicting the future behaviour  or future planning or                       we can say that on the basis of existing analyzed data create plan or make decision or make predictions \n",
    "\n",
    "Note: analytics = analysis + analytics so finaly we can say that analyse the past performance and improve the future performance \n",
    "\n",
    "Business Intelligence:\n",
    "\n",
    "the process of analysing and repoprting the historical business data or aims to explain the past events using business data and improve the future performance "
   ]
  }
 ],
 "metadata": {
  "kernelspec": {
   "display_name": "Python 3 (ipykernel)",
   "language": "python",
   "name": "python3"
  },
  "language_info": {
   "codemirror_mode": {
    "name": "ipython",
    "version": 3
   },
   "file_extension": ".py",
   "mimetype": "text/x-python",
   "name": "python",
   "nbconvert_exporter": "python",
   "pygments_lexer": "ipython3",
   "version": "3.9.13"
  }
 },
 "nbformat": 4,
 "nbformat_minor": 5
}
