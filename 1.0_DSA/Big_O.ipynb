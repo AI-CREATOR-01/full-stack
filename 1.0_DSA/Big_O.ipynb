{
 "cells": [
  {
   "cell_type": "markdown",
   "id": "5d6137f5",
   "metadata": {},
   "source": [
    "# Big O and  scalibility\n",
    "\n",
    "1. let i write an algorithm and this algorithm take input so as the input increase then how much the algorithm slow down \n",
    "   or we can say that whenever we grow bigger and bigger with our input then does how much our written algorithm or functions      slow down this all about Big O if algorithm lesser/slower the slow down it is a better algorithm or scalable algorithm\n",
    "\n",
    "2. let we write algorithms or we can say that let we built a software and we have to add a feature to it then if we don't need      to rewrite the to much codes/algorithms we just simply add that feature to it then our algorithm/software is scalable\n",
    "\n",
    "3. taking less time and less memory to finish/execute/run\n",
    "\n"
   ]
  },
  {
   "cell_type": "code",
   "execution_count": null,
   "id": "f8fdc509",
   "metadata": {},
   "outputs": [],
   "source": []
  },
  {
   "cell_type": "markdown",
   "id": "cbd1bd99",
   "metadata": {},
   "source": [
    "#  Data Structures + Algorithms = Program/Software/Algorithm\n",
    "\n",
    "1. Mtlb ek program/application/software is just a mixture/combination of data structures and algorithms \n",
    "\n",
    "2. Data Structure\n",
    "\n",
    "   Data       --->> bole to a piece of information ya just data\n",
    "   structure  --->> bole to chizo ko arrange krna organize krna store krna ya represent krna \n",
    "\n",
    "3. Algorithm  --->> An algorithm is a step-by-step procedure or set of rules followed to solve a problem or perform a specific                       task\n",
    "\n",
    "4. aur ek programming language me multiple data structures hote hai aur ek problem ko solve krne ke multiple procedure/approach    ho skte hai but kaunsa data structure and kaunsa algorithm  right/good/better hai we need Big O to determined/know \n",
    "\n",
    "5. an Algorithm take time to run              --->> Speed(how fast an algorithm is) \n",
    "   a data structure take space to store data  --->> Memory(how lesser the memory need)\n",
    "   \n",
    "6. isliye data structure and algorothm padna jruri hai taaki we could know or choose right data sructure and algorithm to make a    right/good program(readable and scalable)\n",
    "\n",
    "7. DSA also help in logic building \n",
    "\n",
    "8. Big O is all about knowing what's the right/good data structure and what's the right/good algorithm to make right/good          program\n",
    "\n",
    "\n",
    "9.  when we say what is good good code/software/application/programm mean iska simple sa mltb hai ki code are readable and           scalable further see the scalable mean\n",
    "\n",
    "             |--->> Speed -->> means how much time an alogrithm or program or code take to run\n",
    "10. Scalable |\n",
    "             |--->> Memory-->> means how much space memory an algorithm or program or code take to run  \n",
    "             \n",
    "11. finally we can say that Big O analyze the time complexity and space complexity\n",
    "\n",
    "12. Both time coomplexity and space complexity used to analyse the effeciency of algorithms \n",
    "    time complexity   --->> in term of amount of time\n",
    "    space complexity  --->> in term of amount of memory\n",
    "    \n",
    "13. so fiinally we can say that there are three pillars of good code/program\n",
    "    1. readable --->> code/program should be easy to read and understand and mainatainable\n",
    "    2. speed    --->> code/program should be faster means should take lesser time to run\n",
    "    3. memory   --->> code/program should take lesser memory kyuki we have limited memory\n",
    "    \n",
    "14. when size of inputs increase/decrease the algorithm or program or code scales mtlb time and space taken by algorithm or         programm ya to constant hoga ya phir increase/decrease krega either linearly, quadratically or exponentially etc."
   ]
  },
  {
   "cell_type": "code",
   "execution_count": null,
   "id": "2db04900",
   "metadata": {},
   "outputs": [],
   "source": []
  }
 ],
 "metadata": {
  "kernelspec": {
   "display_name": "Python 3 (ipykernel)",
   "language": "python",
   "name": "python3"
  },
  "language_info": {
   "codemirror_mode": {
    "name": "ipython",
    "version": 3
   },
   "file_extension": ".py",
   "mimetype": "text/x-python",
   "name": "python",
   "nbconvert_exporter": "python",
   "pygments_lexer": "ipython3",
   "version": "3.9.13"
  }
 },
 "nbformat": 4,
 "nbformat_minor": 5
}
