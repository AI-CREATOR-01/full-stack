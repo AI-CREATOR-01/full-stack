{
 "cells": [
  {
   "cell_type": "markdown",
   "id": "b949c138",
   "metadata": {},
   "source": [
    "# data structure\n",
    "\n",
    "1. every datas need to stored in a specific format known as data structure \n",
    "2. format ----->> bole to how something is organized, structured and arranged\n",
    "\n",
    "3. data structure is like a container that store the data in such a way that accessibility and modification of data become easy \n",
    "\n",
    "4. data structure bole to collection of data that are oragnaized and structurede in a specific way\n",
    "\n",
    "5. data structure is a representation of data "
   ]
  }
 ],
 "metadata": {
  "kernelspec": {
   "display_name": "Python 3 (ipykernel)",
   "language": "python",
   "name": "python3"
  },
  "language_info": {
   "codemirror_mode": {
    "name": "ipython",
    "version": 3
   },
   "file_extension": ".py",
   "mimetype": "text/x-python",
   "name": "python",
   "nbconvert_exporter": "python",
   "pygments_lexer": "ipython3",
   "version": "3.9.13"
  }
 },
 "nbformat": 4,
 "nbformat_minor": 5
}
