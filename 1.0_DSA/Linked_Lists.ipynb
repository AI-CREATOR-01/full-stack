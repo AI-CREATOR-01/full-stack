{
 "cells": [
  {
   "cell_type": "markdown",
   "id": "9042e2db",
   "metadata": {},
   "source": [
    "# linkedList\n",
    "\n",
    "1. a list/collectionwe of elements that are linked to each other \n",
    "\n",
    "2. in this case the element is called node so finally we can say that a linklist refer to a collection of nodes or a list of        nodes are connected to each other.\n",
    "\n",
    "3. each node have two things :\n",
    "   1) the value stored in  it. \n",
    "   2) the reference(pointer) stored in it for next node and as so on. "
   ]
  }
 ],
 "metadata": {
  "kernelspec": {
   "display_name": "Python 3 (ipykernel)",
   "language": "python",
   "name": "python3"
  },
  "language_info": {
   "codemirror_mode": {
    "name": "ipython",
    "version": 3
   },
   "file_extension": ".py",
   "mimetype": "text/x-python",
   "name": "python",
   "nbconvert_exporter": "python",
   "pygments_lexer": "ipython3",
   "version": "3.9.13"
  }
 },
 "nbformat": 4,
 "nbformat_minor": 5
}
