{
 "cells": [
  {
   "cell_type": "markdown",
   "id": "b556a9b5",
   "metadata": {},
   "source": [
    "# Hash table \n",
    "\n",
    "hash table also called as hash map, maps, unorder maps, dictionary , objects \n",
    "in JS  the hash table is called as objects wre\n",
    "\n",
    "1. hash table is a collection of key value pair \n",
    "2. key is used to calculate the index to store and retrieve the data(ek function hota hai jo key ko use krta hai to calculate      the i ndex to store the data and ek another function hota hai that use key to calculate the index to retrieve the data\n",
    "\n",
    "3. aur jab hash fucntion index(memmory address) calculate kr leta hai by using key tab usss index ke corresponding key and value    dono store kr diye jaate hai \n",
    "\n",
    "#linear probing(open addressing) \n",
    "\n",
    "#hash function \n",
    "it is a function that take an input convert it into a zebrish(a value) and then into an index  "
   ]
  }
 ],
 "metadata": {
  "kernelspec": {
   "display_name": "Python 3 (ipykernel)",
   "language": "python",
   "name": "python3"
  },
  "language_info": {
   "codemirror_mode": {
    "name": "ipython",
    "version": 3
   },
   "file_extension": ".py",
   "mimetype": "text/x-python",
   "name": "python",
   "nbconvert_exporter": "python",
   "pygments_lexer": "ipython3",
   "version": "3.9.13"
  }
 },
 "nbformat": 4,
 "nbformat_minor": 5
}
