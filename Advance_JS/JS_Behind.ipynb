{
 "cells": [
  {
   "cell_type": "markdown",
   "id": "5ef93fad",
   "metadata": {},
   "source": [
    "1.engine          ----->>   engine that include compiler/interpreter and other component\n",
    "\n",
    "2.compiler        ----->>   both convert human readable code into machine code and also generate bytecode\n",
    "3.interpreter\n",
    "\n",
    "4.virtual machine ----->>   convert bytecode into machine code\n",
    "\n",
    "5.JIT             ----->>   compiler + intrepreter\n",
    "\n",
    "NOTE\n",
    "\n",
    "1. they all are just programm/software/application\n",
    "2. human readable code vs bytecode vs machine code(compiled code)\n",
    "3. machine code platform dependent and bytecode platform independent"
   ]
  },
  {
   "cell_type": "code",
   "execution_count": null,
   "id": "4502100f",
   "metadata": {},
   "outputs": [],
   "source": []
  },
  {
   "cell_type": "markdown",
   "id": "93c0219b",
   "metadata": {},
   "source": [
    "# x86,ARM,MIPS\n",
    "\n",
    "they all are CPU ISA(instruction set architecture)"
   ]
  },
  {
   "cell_type": "markdown",
   "id": "7037b035",
   "metadata": {},
   "source": [
    "#                                                    execution context \n",
    "\n",
    "NOTE:\n",
    "1. sbse phle execution context create hota hai aur phir har har ek execution context me do phase hote hai creation phase and        execution phase so kisi bhi execution context me actual code execute hone se phle creation phase happen and then actual code    is being executed(means execution phase)\n",
    "\n",
    "2. maanlo global execution context create hua tab global scope ke var variables and function declaration will be hoisted(moved      to top of global scope) thik essi prakar agar function execution context create hua hai tab  function ke ander ke var            variables and function declaration will be hoisted (moved to top of function scope/function body) and can use them before        their actual declaration but within thei containing scope\n",
    "\n",
    "3. sbse  phle global execution context create hota hai aur phir har function call ke liye ek function execution context create      hota hai aur phir ess uss function body ke ander sabhi var variables and function declaration will be hoisted and then can      use them before their declaration but within their containing scope mtlb jis scope me declared hai\n",
    "\n",
    "\n",
    "have two phase:\n",
    "\n",
    "1. creation phase \n",
    "2. execution phase\n",
    "\n",
    "1. creation phase\n",
    "\n",
    "in this phase following things happen see\n",
    "\n",
    "1.creation of variable environment:- \n",
    "\n",
    "2.creation of this keyword\n",
    "\n",
    "3.creation of arguments keywords(in case of function execution context jo ki ek object hota hai)\n",
    "\n",
    "3.creation of scope chain \n",
    "\n",
    "4.hoisting:- the javascript engine read/scan entire script and look for variables declared with var keyword and function                      declration and then variable with var partialy hoisted and function declaration completely hoisted mean only                    variable with var and function declaration get allocated memory(mltb they stored in heap memmory and when actuall                code excution start and if compiler encounter before their actuall declaration then it look them into heap memory                and then access them) before the actuall execution start tabhi to declaration se phle inko use kr paate hai.                    function declaration should not be inside ()parenthesis\n",
    "\n",
    "\n",
    "2. execution phase \n",
    "and then execution phase start "
   ]
  },
  {
   "cell_type": "code",
   "execution_count": null,
   "id": "6a92d5d1",
   "metadata": {},
   "outputs": [],
   "source": []
  },
  {
   "cell_type": "markdown",
   "id": "89fec479",
   "metadata": {},
   "source": [
    "#                         feel of call stack and execution context\n",
    "\n",
    "1. both call stack and heap memory are reserved region/part of memory(RAM). dono ka use hota hai ksis na kisi type ke              info,concept and data of programm  ko represent and store krne  ke liye \n",
    "\n",
    "1. call stack ke ander execution context create hote hai ya yu kahu the collection of execution context collectivelly known as      call stack\n",
    "\n",
    "2. codes actually executed inside executed context\n",
    "\n",
    "2. kewl do types ke execution context hi create hote hai ek for top level code(global execution context) and dusra for codes        inside any function(function execuion context ) ya essi ko bol skte hai only two types of eexecution context are created        global execution context for global scope/global scope codes and function execution context for function scope/function scope    codes aur rhi baat block scope/block scope codes ki to block scope ya to gllobal scope me hoga ya phir function scope so        block scope codes ya to global execution context me execute hoga ya phir function execution context me depend ki block scope    kis scope me hai \n",
    "\n",
    "3. for top level code (means simple wo codes ya line of codes jo kisi function ke ander nhi hai) the global execution context is    created\n",
    "\n",
    "4. jab JS engine encounter function call/invocation tab uss function ke liye ek function execution context create hota hai to      execute those lines of codes that are inside that function \n",
    "\n",
    "\n",
    "5. jab ek execution context create hota hai tab just uske baad uss execution context ke ander aur bhi chize create hoti hai see\n",
    "   \n",
    "   1. creation of variable enevironment --->>  it contain variables,parameters and refernces for complex data(like object and                                                  array kyuki complex data are stored in heap memory)                                                                                                                   \n",
    "                                                                                                        \n",
    "   2. creation of this keyword\n",
    "   \n",
    "   3. creation of scope chain\n",
    "   \n",
    "   4. creation of arguments keyword jo ki ek object hota hai (in case of function execution context only)\n",
    "   \n",
    "   5. hoisting happen\n",
    "   \n",
    "\n",
    "6. jab previous saari chize ho jaati hai(essi ko execution context ka creation phase bolte hai) tab execution context ke ander      actaully codes excute hona shuru hote hai (aur essi phase ko execution context ka execution phase khte hai) \n",
    "                                              "
   ]
  },
  {
   "cell_type": "markdown",
   "id": "abf0905d",
   "metadata": {},
   "source": [
    "# NOTE \n",
    "\n",
    "1. SO finally i can say that global execution context ka nirman hota hai to execute the code of global scope aur ek function        executioon context ka nirman hota hai to execute the codes of function scope\n",
    "\n",
    "2. so finallly we can also  say that global scope have it's own execution context and a variable environment and each function      scope have it's own execution context and a variable environent \n",
    "\n",
    "3. har ek function scope ka variable environment apne enclosing/surrounding scope/parent scope(bole to wah scope jisme khud \n",
    "   function is written/declared that can be global scope or even an another function scope ) ke variable environment se            link/connected hota hai \n",
    "   \n",
    "   taaki current function scope  ke execution  context ke variable environment me koi variable na mile/dikhe to wah parent scope    ke varable environment se access kr paaaye  and as so on \n",
    "   \n",
    "4. so finnaly we can say that each function scope can have access to variable environment of it's parent scope and as so on aur    esssi ko lexical scope bolte hai"
   ]
  },
  {
   "cell_type": "markdown",
   "id": "3e067dd0",
   "metadata": {},
   "source": [
    "# hoisting\n",
    "\n",
    "during creation phase of execution context simply the JS engine put variables(declared with var keyword) and function declaration in heap memory and set variable to undefined (isssi ko bolte hai partially hoisted) and function completely hoisted and now can use them before their actuall declaration and initialization within their scope only"
   ]
  },
  {
   "cell_type": "code",
   "execution_count": null,
   "id": "19f274e3",
   "metadata": {},
   "outputs": [],
   "source": []
  },
  {
   "cell_type": "markdown",
   "id": "07da171b",
   "metadata": {},
   "source": [
    "#                 function expression vs regular function(function declaration)\n",
    "\n",
    "1. function declaration(regular function) ---->> jabhi hm regular function declare krte hai wo ussi samay defined ho jaate hai\n",
    "2. function expression                    ---->> jabhi hm function expression likhte hai tab wo function runtime pe defined hote                                                  hai naai before runtime or actual execution aur yahi reason hai ki function                                                      expression hoisted nhi hote hai"
   ]
  },
  {
   "cell_type": "markdown",
   "id": "eb198063",
   "metadata": {},
   "source": [
    "# function function_name()\n",
    "\n",
    "1. issi ko bolte hai function call/invocation/execution\n",
    "\n",
    "2. so jabhi hm function ko call krte hai tab  hm JS engine ko yah bta rhe hote hai ki hey JS engine at runtime go and create a      execution context(also known as function execution context)and then execute all lines of codes that are inside this function    and hoist the var variables and function declaration of this function while creation phase or before execution phase\n",
    "\n",
    "3. ek function ke liye execution context tabhi create hota hai jab JS engine encounter function invocation for that function"
   ]
  },
  {
   "cell_type": "markdown",
   "id": "f77c1432",
   "metadata": {},
   "source": [
    "#                                         feel of scope & scoping\n",
    "\n",
    "1. injitially JS have only two types scope global scope and function scope and only have one way to declare variable and that is    using var keyword mtlb agr var variable kisi function ke ander hai then wah variable kewl usss function ke ander hi              accessible higa  not outside  but var variable agr kisi if else ya loop ya {} braces ke ander hoga to accesssible hoga          outside but other programming me aisa nhi hota hai aur essi ko block scope bolte hai \n",
    "\n",
    "2. then JS developer also thought that we can also introduce/achieve block scope in our JS and then they introduced another way    to declare variable using let and const  means now we also have block scoped variables means they will not be accesible          outside of block "
   ]
  },
  {
   "cell_type": "code",
   "execution_count": null,
   "id": "d0ee4d83",
   "metadata": {},
   "outputs": [],
   "source": []
  },
  {
   "cell_type": "code",
   "execution_count": null,
   "id": "13c7249e",
   "metadata": {},
   "outputs": [],
   "source": []
  }
 ],
 "metadata": {
  "kernelspec": {
   "display_name": "Python 3 (ipykernel)",
   "language": "python",
   "name": "python3"
  },
  "language_info": {
   "codemirror_mode": {
    "name": "ipython",
    "version": 3
   },
   "file_extension": ".py",
   "mimetype": "text/x-python",
   "name": "python",
   "nbconvert_exporter": "python",
   "pygments_lexer": "ipython3",
   "version": "3.9.13"
  }
 },
 "nbformat": 4,
 "nbformat_minor": 5
}
