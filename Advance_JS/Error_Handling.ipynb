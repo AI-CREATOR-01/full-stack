{
 "cells": [
  {
   "cell_type": "markdown",
   "id": "4231c2d7",
   "metadata": {},
   "source": [
    "# NOTE:\n",
    "\n",
    "1. top level code --->>> top level code are those that are not inside any  fucntions ya essi ko simply bol skte hai those lines    of codes that are dircetly inside the script body"
   ]
  },
  {
   "cell_type": "code",
   "execution_count": null,
   "id": "7501774b",
   "metadata": {},
   "outputs": [],
   "source": []
  },
  {
   "cell_type": "markdown",
   "id": "c32fab19",
   "metadata": {},
   "source": [
    "# Error\n",
    "\n",
    "\n",
    "\n",
    "1. this is a constructor function used to create an error object\n",
    "2. abd this error object have only three properties name,message and stack\n",
    "   message --->> jo bhi hm set krte hai\n",
    "   stack   --->> kis exceutionn context/scope me yah error create hua "
   ]
  },
  {
   "cell_type": "code",
   "execution_count": null,
   "id": "6c9de6c6",
   "metadata": {},
   "outputs": [],
   "source": []
  },
  {
   "cell_type": "markdown",
   "id": "9a95c9ff",
   "metadata": {},
   "source": [
    "# throw keyword\n",
    "\n",
    "1. it is a special  keyword that can throw anything \n",
    "\n",
    "2. when JS engine encounter the throw keyword then the execution of entire script/program stopped and then error start              propogating while looking try catch block or just catch method to handle the thrown error if there is no try catch block to      handle the thrown error then the error will propogate till global scope ya essi ko bol skte hai till last line of script and    finally gone handled by global error handler aur agr bich me hi error ko handle kr liya gya using try catch block or just        catch method then try catch block or catch method ke baad ke code ka execution phir se start ho jaayega otherwise no chance\n",
    "\n",
    "3. in case of  asynchronous operation the  try catch block would not work because asynchronous operation are send to web API aur    jab tab wapas call stack me lautega tab try catch block gone exeuted and popped off\n",
    "\n",
    "4. so basically try catch block are used to handle the error of synchronous codes only agar chahte hai ki try catch block          asynchroonous operations ko bhi handle kre then that try catch block should be in another async funciton or any promises\n",
    "\n",
    "5. then how to handle the errors of async operations by using the catch() method "
   ]
  }
 ],
 "metadata": {
  "kernelspec": {
   "display_name": "Python 3 (ipykernel)",
   "language": "python",
   "name": "python3"
  },
  "language_info": {
   "codemirror_mode": {
    "name": "ipython",
    "version": 3
   },
   "file_extension": ".py",
   "mimetype": "text/x-python",
   "name": "python",
   "nbconvert_exporter": "python",
   "pygments_lexer": "ipython3",
   "version": "3.9.13"
  }
 },
 "nbformat": 4,
 "nbformat_minor": 5
}
