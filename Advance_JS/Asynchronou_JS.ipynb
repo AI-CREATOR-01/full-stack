{
 "cells": [
  {
   "cell_type": "markdown",
   "id": "f6a17b99",
   "metadata": {},
   "source": [
    "# console \n",
    " it is a JS object that provide a lot of method to ingteract with console (interface) like log(), clear() and table() etc"
   ]
  },
  {
   "cell_type": "code",
   "execution_count": null,
   "id": "d16575db",
   "metadata": {},
   "outputs": [],
   "source": []
  },
  {
   "cell_type": "code",
   "execution_count": null,
   "id": "4ee4ca5d",
   "metadata": {},
   "outputs": [],
   "source": []
  },
  {
   "cell_type": "markdown",
   "id": "63d6858c",
   "metadata": {},
   "source": [
    "1. synchronous/synchronous code/synchronous JS ----->> bole to blocking nature means codes/intructions will be executed in                                                              sequential manner means one after another means next one need to wait     \n",
    "                                                       untill previous one completed \n",
    "\n",
    "2. asynchronous/asynchronous code/asynchronous js -->> bole to having non-blocking nature/behaviour \n"
   ]
  },
  {
   "cell_type": "code",
   "execution_count": null,
   "id": "59c9b564",
   "metadata": {},
   "outputs": [],
   "source": []
  },
  {
   "cell_type": "code",
   "execution_count": null,
   "id": "0cd9e34d",
   "metadata": {},
   "outputs": [],
   "source": []
  },
  {
   "cell_type": "markdown",
   "id": "509e8ed5",
   "metadata": {},
   "source": [
    "# prompt\n",
    "\n",
    "always ask what are the possible arguments for a fucntion like then(),catch(),finally() and setTimeOut() etc even for new Promise()"
   ]
  },
  {
   "cell_type": "code",
   "execution_count": null,
   "id": "6f50ee6d",
   "metadata": {},
   "outputs": [],
   "source": []
  },
  {
   "cell_type": "code",
   "execution_count": null,
   "id": "838ec714",
   "metadata": {},
   "outputs": [],
   "source": []
  },
  {
   "cell_type": "markdown",
   "id": "f9a31007",
   "metadata": {},
   "source": [
    "# Proimise\n",
    "\n",
    "1. promise ek object  hota hai jisme kewl tin tarike ki properties can exist see\n",
    "\n",
    "2. {<pending>:running} or {<resolved>:any value or any other object} or {<rejected>:{error object}}\n",
    "\n",
    "3. now to consume a promise we use then() , catch() and  finally() method\n",
    "  "
   ]
  },
  {
   "cell_type": "markdown",
   "id": "57e08e8b",
   "metadata": {},
   "source": [
    "# NOTE:\n",
    "\n",
    "{promise object}.then()--->>> again  will give an object promise aur ess promise ka resolved value wah hogi jissse then ka                                     callback fucntion explicitly return krega wrna wrna undefined kyuki implicitly all fucntion return                               undefined"
   ]
  },
  {
   "cell_type": "code",
   "execution_count": null,
   "id": "15fe7e07",
   "metadata": {},
   "outputs": [],
   "source": []
  },
  {
   "cell_type": "code",
   "execution_count": null,
   "id": "7b3bdbf6",
   "metadata": {},
   "outputs": [],
   "source": []
  },
  {
   "cell_type": "markdown",
   "id": "1eb26a13",
   "metadata": {},
   "source": [
    "# Async and await keyword\n",
    "1. callback hell is a situation where there are nested asynchronous operations jiski wajah se there are nested callback            functions and then code look like very coomplex  \n",
    "1. callback hell/ callback pyramid of doom ko soolve krne ke liye Promkises ka concept aaya \n",
    "2. jaise classes are just  syyntactic sugar over the consteuctor fucntion thik waise hi \n",
    "2. Async and await are just the syntactic sugar over the Promises\n",
    "3. Async  and await make asynchronous code look like synchronous code because a synchronous code is always easy to read and        understand than asynchronous code \n",
    "\n",
    "4. await keyword  is used before an expression that may return a promise or not\n"
   ]
  },
  {
   "cell_type": "code",
   "execution_count": null,
   "id": "57cd6e13",
   "metadata": {},
   "outputs": [],
   "source": []
  },
  {
   "cell_type": "code",
   "execution_count": null,
   "id": "d7bf154d",
   "metadata": {},
   "outputs": [],
   "source": []
  },
  {
   "cell_type": "markdown",
   "id": "a3899551",
   "metadata": {},
   "source": [
    "# throw keyword\n",
    "\n",
    "1. jaise hi throw keyword encounter hota hai throw ki gay chiz propogate hoti hai till try catch  block agr koi bhi try catch      block nhi milta hai then it propogate till global scope mtlb ab koi aur lines of codes execute nhi honge and programmm gone      crash"
   ]
  },
  {
   "cell_type": "code",
   "execution_count": null,
   "id": "53d53db1",
   "metadata": {},
   "outputs": [],
   "source": []
  },
  {
   "cell_type": "code",
   "execution_count": null,
   "id": "9e61894a",
   "metadata": {},
   "outputs": [],
   "source": []
  },
  {
   "cell_type": "markdown",
   "id": "e8439960",
   "metadata": {},
   "source": [
    "# Job queue/microtask queue\n",
    "\n",
    "priority of microtask queue >> callback queue\n",
    "\n",
    "mtlb promise resolution, promises chaining  and async fucntion are added to Job queue will be executed first than callback queue codes "
   ]
  },
  {
   "cell_type": "code",
   "execution_count": null,
   "id": "08eed7fc",
   "metadata": {},
   "outputs": [],
   "source": []
  },
  {
   "cell_type": "code",
   "execution_count": null,
   "id": "fb855a7b",
   "metadata": {},
   "outputs": [],
   "source": []
  },
  {
   "cell_type": "markdown",
   "id": "086314ad",
   "metadata": {},
   "source": [
    "# Concept\n",
    "\n",
    "1. ab jaisa ki hm jaante hai ki asynchronous operations are executed in web API environment and then codes/callback added/pushed    to microtask queue and callback queue \n",
    "\n",
    "2. but behind the scene in case of multiples asynchronous codes/operation they also gone executed one by one in web API            environment but \n",
    "\n",
    "3. but asynchronous operations ko sequentially and parallely and racely tino tarike se execute kra skte hai using see\n",
    "   Promise.sequence()\n",
    "   Promise.parallel()\n",
    "   Promise.race()     --->> mtlb the fastest one will be executed fisrt no matter which one come first  for execution"
   ]
  },
  {
   "cell_type": "code",
   "execution_count": null,
   "id": "4498e87c",
   "metadata": {},
   "outputs": [],
   "source": []
  },
  {
   "cell_type": "markdown",
   "id": "6b655629",
   "metadata": {},
   "source": [
    "# Promise.all() vs Prommise.allSettled()"
   ]
  },
  {
   "cell_type": "code",
   "execution_count": null,
   "id": "8e0db29d",
   "metadata": {},
   "outputs": [],
   "source": []
  },
  {
   "cell_type": "markdown",
   "id": "95575d51",
   "metadata": {},
   "source": [
    "# web worker"
   ]
  }
 ],
 "metadata": {
  "kernelspec": {
   "display_name": "Python 3 (ipykernel)",
   "language": "python",
   "name": "python3"
  },
  "language_info": {
   "codemirror_mode": {
    "name": "ipython",
    "version": 3
   },
   "file_extension": ".py",
   "mimetype": "text/x-python",
   "name": "python",
   "nbconvert_exporter": "python",
   "pygments_lexer": "ipython3",
   "version": "3.9.13"
  }
 },
 "nbformat": 4,
 "nbformat_minor": 5
}
