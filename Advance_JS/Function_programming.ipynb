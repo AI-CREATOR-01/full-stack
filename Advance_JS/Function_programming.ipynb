{
 "cells": [
  {
   "cell_type": "markdown",
   "id": "5f12cb1a",
   "metadata": {},
   "source": [
    "# Pure fucntion\n",
    "\n",
    "1. ek aisa fucntion jo same input ke liye same ouutput deta hai kya mtlb hai let see\n",
    "   maanlo ek function hai jisko hmne ek input diya X aur output aaya Y jab ussi fucntion ko dusri baar call kiya aur phirse        input same rakha mtlb ess bar bhi input diya X to again Y hi as a result milega mtlb depend nhi krta ki mai kiss function ko    kitni baar call kiya agr har bar same input denge to result bhi same hi aaayega jo phli baar me hi aaya tha \n",
    "\n",
    "2. does not produuce any side effect\n",
    "   mtlb function outer scope me koi bhi changes nhi krega mtlb outer scope ke kisi bhi code effect/change nhi krega aur  hi        depend krega\n"
   ]
  }
 ],
 "metadata": {
  "kernelspec": {
   "display_name": "Python 3 (ipykernel)",
   "language": "python",
   "name": "python3"
  },
  "language_info": {
   "codemirror_mode": {
    "name": "ipython",
    "version": 3
   },
   "file_extension": ".py",
   "mimetype": "text/x-python",
   "name": "python",
   "nbconvert_exporter": "python",
   "pygments_lexer": "ipython3",
   "version": "3.9.13"
  }
 },
 "nbformat": 4,
 "nbformat_minor": 5
}
