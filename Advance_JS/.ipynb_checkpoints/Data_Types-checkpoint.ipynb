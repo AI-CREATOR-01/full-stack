{
 "cells": [
  {
   "cell_type": "markdown",
   "id": "5e0918cf",
   "metadata": {},
   "source": [
    "# primitive vs non-primitive\n",
    "\n",
    "1. they are two category of datatypes in js"
   ]
  },
  {
   "cell_type": "code",
   "execution_count": null,
   "id": "696acc63",
   "metadata": {},
   "outputs": [],
   "source": []
  },
  {
   "cell_type": "markdown",
   "id": "1e224df7",
   "metadata": {},
   "source": [
    "# prompt(cloning)\n",
    "how to have a copy of an array or object so that changes should not be reflected in both original and copy kyuki jab ek array ya object ko dusre variable me store krte hai tab same array or object store to ho jaata hai but kisi bhi ek me changes krne se dono me reflection honge\n",
    "\n",
    "cloning vs supercloning"
   ]
  },
  {
   "cell_type": "code",
   "execution_count": null,
   "id": "39a984df",
   "metadata": {},
   "outputs": [],
   "source": []
  },
  {
   "cell_type": "markdown",
   "id": "5235d1a4",
   "metadata": {},
   "source": [
    "# compiler\n",
    "\n",
    "compiler is just a machine ya yu kahu ki ek software/application hai that take a form/format of code/instrcutions and output/give another form/format of same codes/instrcutions"
   ]
  }
 ],
 "metadata": {
  "kernelspec": {
   "display_name": "Python 3 (ipykernel)",
   "language": "python",
   "name": "python3"
  },
  "language_info": {
   "codemirror_mode": {
    "name": "ipython",
    "version": 3
   },
   "file_extension": ".py",
   "mimetype": "text/x-python",
   "name": "python",
   "nbconvert_exporter": "python",
   "pygments_lexer": "ipython3",
   "version": "3.9.13"
  }
 },
 "nbformat": 4,
 "nbformat_minor": 5
}
