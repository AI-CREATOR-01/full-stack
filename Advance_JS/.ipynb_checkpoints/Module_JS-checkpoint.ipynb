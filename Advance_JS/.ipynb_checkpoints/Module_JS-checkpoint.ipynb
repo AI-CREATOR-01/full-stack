{
 "cells": [
  {
   "cell_type": "markdown",
   "id": "ef2ad056",
   "metadata": {},
   "source": [
    "# 1 history\n",
    "\n",
    "1. in early days of JS developer start writing JS codes into multiples files and then start including those separates files one    by one using <script></script> tag\n",
    "\n",
    "2. aise krke ek large codebase ko multiple separate files me organize to krliya and make codebase easy to read and understand\n",
    "\n",
    "3. but ek problem thi aur wah problem yeh thi ki wah variable decalaration fucntion  decalaration jo ki global scope me hai they    gone overrride mtlb let ek file hai jiske global scope me ek fn() naam ka function hai aur dusri file ke bhi global scope me    ek fucntion hai with same name now dono files ko html me include kr diya using script tag ab ab jo file baad me include          hogi wah previous file ke fn() ko override krdegi\n",
    "    \n",
    "4. aur ess problem ko solve krne ke liye IIFE ka concept aaya   let understand more deeply\n",
    "    \n",
    "5. jaisa ki hm jaante hai ki there are mainly two types of scopes global scope and function scope global scope me declare          fucntion and variables are accessible to any any fucntion scope but codes of function scope are not accessible to another        fucntion scope \n",
    "\n",
    "6. thik ussi prakar jab hm koi file include krte hai using script tag ya yu kahu ki jab hm js codes likhte hai using multiple      script tag tab script tag ke global scope ke  variables and function ya yu kahu ki script tag ke files ke global scope ke        variables and fucntions are accessible to another script tag ya script tag file islye chize override ho jaati hai in ocase of    same name of variable and function\n",
    "\n",
    "7. aisa isliye hota hai kyuki jab hm multiples script tag ka use krte hai to weite  JS codes ya yu kahu  ki when we use            multiples script tag to include multiple JS file one by one then JS engine enn sabhi ko script tags ko combined kr deta hai      and make a single tag aur isliye now all codes have single and common global scope aur isliye files/script tag ke global        scope ke variables and fucntions are gone override  in case of same name conflict \n",
    "\n",
    "8. script tags order matter mtlb agr ek script tag A dusre script tag B pr depend krti hai then A should be come after B \n"
   ]
  },
  {
   "cell_type": "code",
   "execution_count": null,
   "id": "8b144195",
   "metadata": {},
   "outputs": [],
   "source": []
  },
  {
   "cell_type": "markdown",
   "id": "1cf86628",
   "metadata": {},
   "source": [
    "# 2 history\n",
    "\n",
    "1. jaisa ki hm jaate hai ki  JS ko execute krne ke do tarike hai \n",
    "   1. directly <script> tag ke ander JS ko likh skte hai \n",
    "   2. files me likhe files ko html me include kr skte hai using <script> tag\n",
    "    \n",
    "2. so in early days of javascript in a case of large application ya yu kahu ki in case of very large codebase mtlb ek single js    file me millions of lines of JS codes hai aise case me codebase become hard to read and maintain \n",
    "    \n",
    "3. tab developer ne uss single file ko multiple  files me tod diya aur phir sabhi files ko include kiya using <script> tag aisa    krke readibility aur maintainability ki problem to solve ho gyi but alongside ek problem  bhi generate ho gayi that was name    conflict mtlb agar ek se adhik files me same variable names and same functions decalarations of global scope then ya to wo      override kr jaayenge ya phir error aayega \n",
    "    \n",
    "4. aur ess problem ko solve krne ke liye module ka concept aaya module ek piece of code hota hai ya yu kahu ki it is a just        standalone file \n",
    "   \n",
    "5. ab sawal ye hai ki how to create module ya yu kahu what is module pattern\n",
    "    \n",
    "6. ess case me bhi multiples files hongi but sabhi files ko include nhi krenge using <script> tag bs ek hi main file include        hongi aur baaki ke files ke codes ko use krne ke liye ya baaaki ki files ko execute krne ke liye we gone use export and          import keyword aaiye dekhte hai how achieve module pattern or how to create module\n",
    "    \n",
    "   1. create a file\n",
    "   2. don't load/include file with <script> tag agar hm aisa nhi krenge to codes ko access krnege then we need three steps see\n",
    "      1. add type='module' attribute to <script> tag\n",
    "      2. export\n",
    "      3. import \n",
    " \n",
    "    \n",
    "    \n",
    "NOTE: whenever we have modules then don't open/run html file directly means always run/open html file with live server                otherwise modules would not work\n",
    "    \n"
   ]
  },
  {
   "cell_type": "code",
   "execution_count": null,
   "id": "78ea69fa",
   "metadata": {},
   "outputs": [],
   "source": []
  },
  {
   "cell_type": "markdown",
   "id": "3cfcf538",
   "metadata": {},
   "source": [
    "# NOTE:\n",
    "\n",
    "1. jab hmare pass multiples files hoti hai aur sabhi files ko load krte hai using <script> tag to execute/access their codes ya    yu kahu ki taaki browser(JS engine) could execute/access their codes one by one ess case me unn files ko just considered as a    file\n",
    "    \n",
    "2. but jab hmare paas multiples files hoti hai aur sabhi files ko <script> tag ke sath load/include krne ki jagah kisi ek main      file ko load/include krte hai aur baaki ki files ke codes ko execute/access krne ke liye we use exporta and import tab unhi      har ek file ko module bolte hai aur aisa krne se ek module scope create ho jaata hai mtlb ek file/module can have access to      olny those lines of codes jinko export kiya hain jabki normal files ke case me aisa nhi tha \n",
    "    \n",
    "3. so now finally we have following scope see:\n",
    "   global scope\n",
    "      module scope\n",
    "        function scope\n",
    "              block scope \n",
    "    \n",
    "4. type='module'attribute add krte hi main file be able to access the line of codes(variables, data or fucntion) from other file\n",
    "   jinko export kiya hai using export keyword mltb ki ab koi name conflict nhi hoga due to module scope "
   ]
  }
 ],
 "metadata": {
  "kernelspec": {
   "display_name": "Python 3 (ipykernel)",
   "language": "python",
   "name": "python3"
  },
  "language_info": {
   "codemirror_mode": {
    "name": "ipython",
    "version": 3
   },
   "file_extension": ".py",
   "mimetype": "text/x-python",
   "name": "python",
   "nbconvert_exporter": "python",
   "pygments_lexer": "ipython3",
   "version": "3.9.13"
  }
 },
 "nbformat": 4,
 "nbformat_minor": 5
}
