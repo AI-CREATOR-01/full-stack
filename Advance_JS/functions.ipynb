{
 "cells": [
  {
   "cell_type": "markdown",
   "id": "7dae431b",
   "metadata": {},
   "source": [
    "# function\n",
    "\n",
    "1. function are just special types of object tabhi to hm call(), bind(), name() jaise method function pe lga paate hai aur          property bhi add kr paate hai see \n",
    "\n",
    "2. only regular function of any scope are hoisted top top of their scope means wo jis scope me wriitten hai uss within that        scope they can  be access and used beforre thetir actual  declaration\n",
    "\n",
    "\n",
    "\n",
    "function_name.bind()\n",
    "function_name.name()\n",
    "function_name.name1='creator'\n",
    "\n",
    "aur aisi hrkte ham kelw object ke saath hii kr skte hai isliye function is an object\n"
   ]
  },
  {
   "cell_type": "code",
   "execution_count": null,
   "id": "33bc9d2f",
   "metadata": {},
   "outputs": [],
   "source": []
  },
  {
   "cell_type": "markdown",
   "id": "78bde4db",
   "metadata": {},
   "source": [
    "# lexical scopping\n",
    "\n",
    "lexical ---->>> where the function is written/declared simple(mtlb where we write/declare the  function not call the function)\n",
    "scopping ---->> means what variables a function can have accessed to"
   ]
  },
  {
   "cell_type": "code",
   "execution_count": null,
   "id": "2b27055c",
   "metadata": {},
   "outputs": [],
   "source": []
  },
  {
   "cell_type": "markdown",
   "id": "d1244f11",
   "metadata": {},
   "source": [
    "# closure \n",
    "\n",
    "1. closure is like lexical scopping means a fucntion can have access to all variables outside of that fucction no matter that      their variable environment are in call  stack or not \n",
    "\n",
    "2. let ek function hai then all the variables that are outside of that function are packed into a bag/box and now this bag/box      is in heap memory named as closure taaki garbage colector isko clean na kre aur phir bhale hi enn variables ke corresponding    variable environment call stack  me ho ya na ho will be accessible to that function \n",
    "\n",
    "3. aur yah sab actual execution se phle hota hai means creation phase me hi \n",
    " "
   ]
  },
  {
   "cell_type": "code",
   "execution_count": null,
   "id": "aa51d47c",
   "metadata": {},
   "outputs": [],
   "source": []
  },
  {
   "cell_type": "markdown",
   "id": "cb9db199",
   "metadata": {},
   "source": [
    "# NOTE###\n",
    "\n",
    "\n",
    "1. in js everything is just an object mtlb function, array are also an special object known as function object itself and array    object itself respesctivelly\n",
    "\n",
    "2. constructor funcrtions are just a simple function so constructor functions are also an function object itself \n",
    "\n",
    "2. mtlb jaise hm ek regular object me properties ko add and access kr skte hai thik uussi prakar we can add and access              properties to a fucntion object itself and an array object itself see \n",
    "\n",
    "   function fn() {}\n",
    "   fn.num1 = 100;\n",
    "   fn.num2 = 200;\n",
    "   console.log(fn.num1);\n",
    "   console.log(fn.num2);\n"
   ]
  },
  {
   "cell_type": "markdown",
   "id": "a8b2799c",
   "metadata": {},
   "source": [
    "# feel of __proto__\n",
    "\n",
    "1. in JS each object have a prototype \n",
    "2. each object have prototype object\n",
    "3. each object are liked to another object as so on \n",
    "4. an object can access properties from another obejct \n",
    "\n",
    "uppar likhi gay sabhi baato ka mltb ek hi hai ya same hai aaiaye samajhte hai kkya mtlb hai\n",
    "\n",
    "1. prototype ya prototype object ka simple mltb hai ek object mtlb see below\n",
    "\n",
    "2. each object have a inbuilt special property called as __proto__ and this property references/link/refer to an another object    and this another object  is called/known as prototype ya prototype object see\n",
    "   const obj1={\n",
    "       //other properties\n",
    "       __proto__= obj2     now this obj2 will be called as prototype ya prototype object of obj1 not vice versa and obj1 can                                access properties from obj2 but  not vice-versa \n",
    "   }\n",
    "\n",
    "3. so finally wwe can say that each object have prototype/prototype object jisse wo properies access krte hai if any properties    does not found within them  \n"
   ]
  },
  {
   "cell_type": "markdown",
   "id": "3912255e",
   "metadata": {},
   "source": [
    "# feel of prototype\n",
    "\n",
    "1. ab jaisa ki hm jaante hai ki ek function bhi ek special obejct hota hai so ek function/function object ke pass bhi prototype    object hota hai jisse ek function/function object properties access kr skta hai if that property does not found within that      function\n",
    "\n",
    "2. but ek fucntion ke pass ek aur inbuilt special properties hoti hai called as prototype jo ek empty object hota hai initially\n",
    "   see\n",
    "   \n",
    "   function fn(){\n",
    "     // other code\n",
    "     __proto__:reference for another object\n",
    "     prototype:{}\n",
    "   }\n",
    "   \n",
    "3. jjo prototype property hai of a function become the prototype object for instances created using that function\n",
    "\n",
    "4. but a prototype property of an object is not prototype object for that fucntion object itself\n",
    "\n",
    "5. fucntion/function obejct ke alawa aur kisi object ke pass prototype property nhi hoti hai \n",
    "\n",
    "6. saaf saaf bhaasa me bolu to wah fucntions jinhe hm define krte hai aur constructor function(inbuilt fucntion) ke paas hi  ye      prototype naaam ki property hoti hai jo ek empty object hota hai initially aur phir yahi empty obejct prototype obejct ban      jaata hai for those instances that are created using a fucntion ya yu kahu ki a constructor fucntion not for a function          obejct itself\n",
    "\n",
    "7. in case of only inbuilt constructor function see\n",
    "   Function.__proto__== Function.prototype\n",
    "   Array.__proto__ == Array.prototype\n",
    "   so Function.prototype.__proto__===Object.prototype "
   ]
  },
  {
   "cell_type": "code",
   "execution_count": null,
   "id": "862b82a9",
   "metadata": {},
   "outputs": [],
   "source": []
  },
  {
   "cell_type": "markdown",
   "id": "c9c111ae",
   "metadata": {},
   "source": [
    "# prompt\n",
    "\n",
    "1. what is the prototype of a function object itself() \n",
    "2. what does mean by when someone says what is prototype of an object"
   ]
  },
  {
   "cell_type": "code",
   "execution_count": null,
   "id": "e6453a4e",
   "metadata": {},
   "outputs": [],
   "source": []
  },
  {
   "cell_type": "code",
   "execution_count": null,
   "id": "a0f3d520",
   "metadata": {},
   "outputs": [],
   "source": []
  }
 ],
 "metadata": {
  "kernelspec": {
   "display_name": "Python 3 (ipykernel)",
   "language": "python",
   "name": "python3"
  },
  "language_info": {
   "codemirror_mode": {
    "name": "ipython",
    "version": 3
   },
   "file_extension": ".py",
   "mimetype": "text/x-python",
   "name": "python",
   "nbconvert_exporter": "python",
   "pygments_lexer": "ipython3",
   "version": "3.9.13"
  }
 },
 "nbformat": 4,
 "nbformat_minor": 5
}
