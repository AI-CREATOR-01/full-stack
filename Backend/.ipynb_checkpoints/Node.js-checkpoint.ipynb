{
 "cells": [
  {
   "cell_type": "markdown",
   "id": "b0f53169",
   "metadata": {},
   "source": [
    "# NODE.JS\n",
    "\n",
    "1. Node.js is an open-source, cross-platform JavaScript runtime environment ya software hai that executes JavaScript code          outside of a browser.\n",
    "\n",
    "2. Node.js is used to develop a wide variety of applications, including:\n",
    "\n",
    "   1.Web applications: Node.js is a popular choice for developing web applications, as it is efficient, scalable, and easy to                          use.\n",
    "\n",
    "   2.Networking applications: Node.js is also used to develop networking applications, such as chat servers and real-time data                                 streaming applications. mtlb simple hai ki networking application refer to such software                                         application that enable the communication and interaction between devices taaki hm real-time dataa                               exchange kr paaye like whatsapp or insta etc"
   ]
  },
  {
   "cell_type": "code",
   "execution_count": null,
   "id": "16139a65",
   "metadata": {},
   "outputs": [],
   "source": []
  },
  {
   "cell_type": "markdown",
   "id": "8a3af7f6",
   "metadata": {},
   "source": [
    "# how to use NPM\n",
    "\n",
    "agr hme kisi module/library/tool ka estemaal krna hai into our code jo npm pr available hai to uske liye hme we need to initilaize the npm first into our project by using (npm init) command jaise hi ye command hm dnege waise hi package.json and package-lock.json naam ki ek file/folder hmare porject me appear/install/load ho jaayegi jisme kaafi information hongi about our project aur jisme dependencies aur devdependencies bhi hongi aur jaise hi koi module/library/tool install krenge ek node_modules naam ka folder hmare project me dikhne lgega ya load ho jaayegas aur essi folder me hamare installed module hote hai ya yu kahu ki jo bhi module/library/tool install hoga usss module ka codes/files of codes esss node_modules folder me aa jaayenge  \n",
    "\n",
    "jaise maanlo maine live-server install kiya by using npm install live-server to live-server tool node_modules folder ma aa jaayega\n",
    "\n",
    "apne code ko share krte samay hm node_modules folder ko nhi  share krte hai because it mcontain thousands of modules and it can take a lot of time so while sharing our project we simply delete the node_module \n",
    "\n",
    "to phir jab koi dusra hmare project ko ya phir khud hm ess project ko use krenge to kaise pta chalta hai ki kya module use ho rha hi into this project to yahi pe aata hai concept of dependencies and devdependencies ka jinke paas record hota hai ki kya modules use hue hai for this project aur phir simply one by one we can intalll them aur ek saath bhi bu using (npm i) cmnd\n",
    "\n",
    "hm chahe to kisi bhi module/library/tool ko globally install kr skte hai   "
   ]
  },
  {
   "cell_type": "markdown",
   "id": "478b3ac8",
   "metadata": {},
   "source": [
    "# dependencies vs devdependencies\n",
    "In the context of Node.js and npm (Node Package Manager), dependencies and devDependencies are two types of dependencies/tool that you can specify in your package.json file to manage project dependencies.\n",
    "\n",
    "dependencies are packages/tools that are required for the application to run in production. These are the libraries and modules that your application needs to function correctly when deployed.\n",
    "\n",
    "devDependencies are packages that are only needed for development and testing purposes. These are not required for the production runtime of your application.\n",
    "\n",
    "command:\n",
    "npm install module_name --save ------>>> to install udner dependencies category\n",
    "npm install module_name --save-dev ----->>> to installl under devdependencies "
   ]
  },
  {
   "cell_type": "markdown",
   "id": "20a807c7",
   "metadata": {},
   "source": [
    "# native modules of node.js\n",
    "node.js comes with vast collection of native modules here are fews common and popular ones:\n",
    "1.file system module\n",
    "2.http and https module\n",
    "3.path module\n",
    "4.etc"
   ]
  }
 ],
 "metadata": {
  "kernelspec": {
   "display_name": "Python 3 (ipykernel)",
   "language": "python",
   "name": "python3"
  },
  "language_info": {
   "codemirror_mode": {
    "name": "ipython",
    "version": 3
   },
   "file_extension": ".py",
   "mimetype": "text/x-python",
   "name": "python",
   "nbconvert_exporter": "python",
   "pygments_lexer": "ipython3",
   "version": "3.9.13"
  }
 },
 "nbformat": 4,
 "nbformat_minor": 5
}
