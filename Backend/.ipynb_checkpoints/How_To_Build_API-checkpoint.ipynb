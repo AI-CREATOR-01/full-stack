{
 "cells": [
  {
   "cell_type": "markdown",
   "id": "bf5907d8",
   "metadata": {},
   "source": [
    "# alternative of \n",
    "import bodyParser from \"body-parser\";               ---------->>>>>>>>>> app.use(express.json());\n",
    "app.use(bodyParser.urlencoded({ extend: true }));\n",
    "\n",
    "parse ----->>> ka mtlb hota hai to read, analyze,extract relevant info/data and make it available so that we/application could                  interact with that data can perform some operation\n",
    "\n",
    "\n",
    "without app.use(express.json());\n",
    "\n",
    "req.body === undefined mtlb jha req.body hoga waha undefined dega\n",
    "\n",
    "with app.use(express.json());\n",
    "\n",
    "req.body === {key1:\"value1\", key2:\"value2\" etc } an object \n",
    "\n",
    "mtlb req.body property used to access ya yu kahu ki to make available data of request "
   ]
  },
  {
   "cell_type": "markdown",
   "id": "9dff6a86",
   "metadata": {},
   "source": [
    "architecture ------>>> bole to the fundamentals principal/set of rules/concept/design and the way the components of something                          organized and interact to each other to achieve specific goal"
   ]
  },
  {
   "cell_type": "markdown",
   "id": "dde17eff",
   "metadata": {},
   "source": [
    "# rest API\n",
    "\n",
    "also known as restful API so the rest/restful API is the API that follow the rest architecture\n",
    "\n",
    "rules:\n",
    "\n",
    "1. http methods(GET,POST,PUT,PATCH and DELETE) ----->> mtlb restfull api use http methods\n",
    "2. JSON                                        ----->> mtlb api json format me data ko serve kregi\n",
    "3. client-server                               ----->> mtlb client and server are not in same files/folder neither on same                                                              system\n",
    "4. stateless                                   ----->> means server only focus on current request it does not remember previus                                                          one mtlb Every request must contain all the information needed to                                                                understand and fulfill it on server side because it does not remember                                                            anything about previus request\n",
    "\n",
    "5. resource-based                              ----->> means Each resource in a RESTful API is uniquely identified by an URI                                                            (Uniform Resource Identifier)/endpoint"
   ]
  }
 ],
 "metadata": {
  "kernelspec": {
   "display_name": "Python 3 (ipykernel)",
   "language": "python",
   "name": "python3"
  },
  "language_info": {
   "codemirror_mode": {
    "name": "ipython",
    "version": 3
   },
   "file_extension": ".py",
   "mimetype": "text/x-python",
   "name": "python",
   "nbconvert_exporter": "python",
   "pygments_lexer": "ipython3",
   "version": "3.9.13"
  }
 },
 "nbformat": 4,
 "nbformat_minor": 5
}
