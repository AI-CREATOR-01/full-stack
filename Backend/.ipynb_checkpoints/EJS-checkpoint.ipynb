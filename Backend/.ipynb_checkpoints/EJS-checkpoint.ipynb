{
 "cells": [
  {
   "cell_type": "markdown",
   "id": "567ff93c",
   "metadata": {},
   "source": [
    "# NOTE:\n",
    "\n",
    "date-driven ------>> bole when something is done based on data ya yu kahu ki  when something use data to be happen ya yu kahu ki                      where decisions and actions are based on data analysis and interpretation ya yu kahu In a data-driven                            approach, data is used to take any action ya to make any decision \n",
    "\n",
    "data-driven website ---->>> A data-driven website is a website that utilizes/use data and information to dynamically generate                               ontent, make decisions ya yu kahu ki In a data-driven website, the design, content, and                                         functionality are influenced by real-time or stored data,"
   ]
  },
  {
   "cell_type": "markdown",
   "id": "cfb5733f",
   "metadata": {},
   "source": [
    "# EJS\n",
    "\n",
    "EJS is a templating language ya yu kahu ki templating engine. thik hai but what is key idea behind EJS means why we use it mtlb  yah krta hai ya esse hm kya kr skte hai see\n",
    "\n",
    "ya yu kahu ki EJS is way to mix/write JS code and HTML code together within a common  template(bole tpo pre-defined structure ya yu kahu ki ek aisa arrangenment jisme do ya do se adhik diff chize exist krti ho together )\n",
    "\n",
    "EJS stands for Embedded JavaScript. It is a templating engine/language for JavaScript that allows you to embed JavaScript code directly into your HTML files so that we could generate dynamic web pages/html pages/html files on server side and then could sent to client(browser) to render them ya yu kahu ki to create data-driven website ya data-driven web pages \n",
    "\n",
    "aaaiye isko thoda aur achhe se samajhte hai ::\n",
    "\n",
    "jaisa ki hm jaaante hai ki we create html pages ya yu kahu ki we create html files ya yu kahu we write html code to create/display content on web page/website so hm jo bhi content html tag ke ander likhte hai ya yu kahu ki hm jo kuchh bhi html tag(<tag_name></tag_name>) ke ander likhte hai hmtl usko ju ka tu dispaly kr deta hai but hm chahte hai ki html ke pass ek aisa power/feature ho jiski wajah se html apne ander usss data/information/content ko inject kr paaye jo kahi aur store hai ya kahi aur se aa rhe hai and can vary over the time aur phir enn data/information/content ko analys kr paaye interpret kr paaye aur phir ennko web page/website pe create/display kr paaaye rather than ki jo data/info/content hm statically type krte hai ya likte hai into html tag aur yah power HTML ko milti hai EJS SE so EJS hme kuch  special synatx/tag deta hai jiske ander hm JS code/expression ko like rhe hote hai to inject the data within html/html tag and then analys it interpret it and finaly display it to user \n"
   ]
  },
  {
   "cell_type": "code",
   "execution_count": null,
   "id": "eb34ecf5",
   "metadata": {},
   "outputs": [],
   "source": []
  },
  {
   "cell_type": "markdown",
   "id": "d1462e78",
   "metadata": {},
   "source": [
    "# NOTE**\n",
    "\n",
    "1. jabhi hme dynamic web/html pages create krna ho then we use to create file with .ejs extension(taaki we could mix/write JS      and html code together) rather than .html aur inko ek views naam ke folders me rkhna hai(because we can not mix/write JS and    hmtl code together in like filname.html files)\n",
    "\n",
    "2. and to send these types of files we don't use sendFile() method balki we use render() method jo ki file ka name leta hai aur    ek JS object(data structure) jha se data ess file ko inject kiya jayega so basically ess object me hm unn data/variable ko      rkhte hai jinko ess file me inject krna chahte hai \n",
    "\n",
    "3. filename.ejs naamk files just html files hi hoti hai ya yu kahu ki .ejs extension is an another way to create html files jo      ki ek dynamic web pages ko create krengi\n",
    "\n",
    "4. so jaise hi hm .ejs extension se html files create krte hai waise hi EJS ki power/feature accessible hote hai to  these html    files aur phir hm we can mix/write JS and html code together \n",
    "\n",
    "5. agr hm dynaimc web page create nhi krna chhahte mtlb ek aisa web page jiska content/data/info static hai to aise web pages ko    create krne ke liye create html files with .html extension rather than .ejs extension\n",
    "\n",
    "6. so finally khudse puchh ki ek dynamic web page create krna chahta hu ya phir ek statuc web page aur phir ussi ke according      html files create krna hai by using .ejs or .html extension kyuki html files hi responsible hoti hai to create web              pages(static or dynamic or both) ya yu kahu ki html files hi responsible hoti hai to create/display content/data/info\n",
    "\n",
    "7. ek website/webapp is a collection of  multiple web pages(can be either static or dynamic or both) and web pages are created      by HTML CSS AND JS files ya yu kahu ki these web pages comes from html css and js files and these html css and js files can      be made up of either pure code or their corresponding libraries\n",
    "\n",
    "8. in main folder(project) craete public naam ka folder jisme static files rkhni hai like .html and css files images files ya      data files aur JS files but not main index.js jo responsible hai to send/render files ya yu kahu ki wah index.js file jisme      server create krne ka codes likha hua aur jo aane waali request aur data ko handle krta hai and also create views naam ka        folder jisme dynamic html files hongi (bole to .ejs files)\n",
    "\n",
    "\n",
    "9. hmare project me bole to main folder(that holds all codes of our project) ek aisi .js file hogi that contain entire Expres.js    application/logic/codes jo ki responsible hote hai to create and run a server ya to make a computer/device able/capable to      respond to request and then this server become able to handle the http request and response so basically yahi file server        hoti hai ya essi file ko server khte hai kyuki essi file ki wajah se ek machine/device/computer able hua hai to respond to      request coming from client side. \n",
    "\n",
    "10. aisa nhi hai ki kewl ek hi .js file hongi jo entire express.js app/logic/codes ko hold kr rhi hong balki ek se adhik .js         files ho skti hai jo express.js logic ko hold kr rhi hongi bs mai itna khna chahta hu ki yahi wo files hoti hai jo make a       computer/machine able to respond to http request so enn files ko hi server bola jaata hai \n",
    "\n",
    "11. and baaki ki files responsible hoti hai to create frontend part of our project like .html files, .css files , .js files and     .ejs files\n",
    "\n",
    "\n",
    "12. actually we use .ejs extension for html files to create web pages(contents) from server side mtlb agr hm koi web page ya yhu     kahu koi content server side se generate krna chahte hai then we use .ejs extension rather than .html extension to create       html files kyuki html files hi responsible hoti hai to create content/user-interface on website"
   ]
  },
  {
   "cell_type": "markdown",
   "id": "26306e95",
   "metadata": {},
   "source": [
    "# how to use EJS\n",
    "\n",
    "1. sbse phle install EJS language support pluggin to our editor(vs code)\n",
    "2. install ejs \n",
    "3. create html files with .ejs extension and start writing JS and html code together to make web pages dynamic \n",
    "4. once the content is ready to display/render tab enn .ejs files ko send krdo by server(the .js file that contain express.js      logics/codes) using res.render() method"
   ]
  },
  {
   "cell_type": "markdown",
   "id": "16118728",
   "metadata": {},
   "source": [
    "# EJS SYNTAX(TAG)\n",
    "\n",
    "how to use EJS tags:\n",
    "\n",
    "each EJS TAG start with <% and end with this %> aur phir bich me kuchh aur sign bhi ho skte hai\n",
    "\n",
    "1. <%= %> ----->>>  tag in EJS is used to output the result of a JavaScript expression or variable mtlb wah JS code jo ek                           expresion hai ya variable hai jo ki apni jagah ek value denge after evaluating unko esss tag me rkhna hai\n",
    "\n",
    "2. <% %>  ----->>>  wah JS code jo value nhi dete apni jagh bs execute hote hai wo sabhi ess tag me jaayenge\n",
    "\n",
    "3. <%- %> ----->>> used to render html element \n",
    "\n",
    "4. <%% %%> ---->>> used to show any ejs tag \n",
    "\n",
    "5. <%# %>  ---->>> used for comment \n",
    "\n",
    "6. <%- include(\"path of .ejs file relative to views folder\")%> ------>>> used to insert another EJS file ya yu kahu to insert                                                                            content from another .ejs file iski help se jo reusable                                                                          components hai that come on different pages ya on                                                                                navigating different <a> tag unko simply insert kr skte                                                                          hai\n",
    "    \n",
    "NOTE:\n",
    "    \n",
    "hm jo bhi display krna chahte hai user ko ya yu kahu ki hm jo bhi content create krna chahte hai on website ya on web page usss chiz ko taiyar krlena hai by mixing/writing  JS code and html codes aur phir focus krna hai on JS CODE ONLY aur phir wah line of code of JS jo bs execute hoti hai but not produce anhy value unn har ek line ko <% %> ess tag se close krdena  hai aur wah line of code of js jo evaluate hone ke baaad kuchh outcome/value produce krti hai unn sabhi lines ko <%= %> ess tag se close krna hai "
   ]
  },
  {
   "cell_type": "markdown",
   "id": "6fd870ff",
   "metadata": {},
   "source": [
    "# how to pass data server <====> client\n",
    "\n",
    "server ----->>> bole to the .js file that contain entire express.js logic that enable machine to respond to requests coming from                 client side(browser) whenever client somehow trigger/hit specified endpoint/route \n",
    "\n",
    "\n",
    "1. how to pass data from server to .ejs files:\n",
    "\n",
    "   by using res.render(\"filename\", JS object jha se server data bhejega ya inject krega) method \n",
    "   \n",
    "2. how to pass data from client to server:\n",
    "\n",
    "   by using FORM submission beacuse when we click submit then it trigger the url/endpoint/route   "
   ]
  },
  {
   "cell_type": "code",
   "execution_count": null,
   "id": "611249cf",
   "metadata": {},
   "outputs": [],
   "source": []
  },
  {
   "cell_type": "markdown",
   "id": "3e7c46f0",
   "metadata": {},
   "source": [
    "# NOTE:\n",
    "\n",
    "1. to create a hyperlink ya yu kahu ki to have a clickable element on our web page use <a></a> tag here are most common and use    attribute :\n",
    "   a. href ----->> it is used to trigger URL \n",
    "   b. target\n",
    "   c. download"
   ]
  },
  {
   "cell_type": "markdown",
   "id": "0891f386",
   "metadata": {},
   "source": [
    "# NOTE\n",
    "\n",
    "we don't use .hmtl files to create content rather we use .ejs files to create content on server side ya yu kahu ki jabhi hme server side se content create krna hota hai ya bhejna hota hai then we use .ejs files aur uske baad hm .ejs files/contents ko style kr skte hai by "
   ]
  },
  {
   "cell_type": "markdown",
   "id": "4c7cb644",
   "metadata": {},
   "source": [
    "# NOTE(./ VS ../ VS /)\n",
    "\n",
    "1. ./   ----->>  mtlb look into the current directory\n",
    "\n",
    "2. ../  ----->> mtlb look into the one level up directory\n",
    "\n",
    "3. /    ----->> mtlb look into entire project"
   ]
  },
  {
   "cell_type": "code",
   "execution_count": null,
   "id": "2c4ea7aa",
   "metadata": {},
   "outputs": [],
   "source": []
  }
 ],
 "metadata": {
  "kernelspec": {
   "display_name": "Python 3 (ipykernel)",
   "language": "python",
   "name": "python3"
  },
  "language_info": {
   "codemirror_mode": {
    "name": "ipython",
    "version": 3
   },
   "file_extension": ".py",
   "mimetype": "text/x-python",
   "name": "python",
   "nbconvert_exporter": "python",
   "pygments_lexer": "ipython3",
   "version": "3.9.13"
  }
 },
 "nbformat": 4,
 "nbformat_minor": 5
}
