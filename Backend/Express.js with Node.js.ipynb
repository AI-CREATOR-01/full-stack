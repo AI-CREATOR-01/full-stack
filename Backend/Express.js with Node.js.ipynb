{
 "cells": [
  {
   "cell_type": "markdown",
   "id": "4926e94d",
   "metadata": {},
   "source": [
    "# express.js\n",
    "\n",
    "actual me this is the javascript framework not node.js because node.js is a runtime environment that help us to execute the JS code outside of web browser and by combining the power of node.js and express.js we can build backend, web app , appp etc\n",
    "\n",
    "1.so basically node.js is like a tool that allow us to use javascript on any computer not within the browser only mtlb agar       node.js nhi hota to kelw browser ke pass ability hai to execute the JS code mtlb agr hme JS use krni hai to kewl browser me kr   skte hai \n",
    "\n",
    "2.so finaly we can say that node.js allow us to use JS to perform many tasks but same task can be achieved easily if we use       framework like expreess rather than using vanilla JS \n",
    "\n",
    "3.so finally i can say that express.js use both node.js and javascript to make things easier and fast \n",
    "\n",
    "NOTE:\n",
    "\n",
    "jo tasks hm express.js ki help se kr skte hai same kaam hm node(using pure/vanilla JS) se bhi kr skte hai but express.js make task much easier and more readable"
   ]
  },
  {
   "cell_type": "markdown",
   "id": "d24d32d5",
   "metadata": {},
   "source": [
    "# creating server\n",
    "\n",
    "jaisa ki hm jaante hai ki backend bole to :\n",
    "\n",
    "Backend ==== server(24/7 running computers) + application(bole to index.js file/files jisme JS codes likhe hue honge to perform              task such as aane  waali request aur data ko handle ) + database(a computer system and we need it in case of more                copmplex data)\n",
    "\n",
    "so creating server refer to application/logic taiyar krna aur phir ess application/logic ko apne local machine ya ksi bade server pr run krna ban gya server ya yhi server kahlata hai see how actually a server is created using express.js \n",
    "\n",
    "1.create a directory\n",
    "2.create index.js file\n",
    "3.initialize NPM\n",
    "4.install the express package\n",
    "5.import express into index.js file\n",
    "6.write server application in index.js\n",
    "7.start server "
   ]
  },
  {
   "cell_type": "code",
   "execution_count": null,
   "id": "c323e66f",
   "metadata": {},
   "outputs": [],
   "source": []
  },
  {
   "cell_type": "markdown",
   "id": "820103e8",
   "metadata": {},
   "source": [
    "# http(hypertext transfer protocol):\n",
    "\n",
    "1.jaise agr hme apne thoughts share krne hote hai ek dusre se to we use general language like english,hindi etc\n",
    "\n",
    "2.a language bole to set of rules and guidelines that help us for communication(to share our thoughts to each other)\n",
    "\n",
    "3.so finally can i say that a general language is a thought transfer protocol yes i can\n",
    "\n",
    "4.protocol ka mltb hota hai set of rules and guidelines jinka hme dhyaan rkhna hota hai ya follow krna hota hai if we want \n",
    "\n",
    "communication or share our thoughts(any mesaage/information) thik ussi prakaar http is a language (not exactly a language)       that define the set of rules and guidelines for communication between computers mtlb agr hm computers ke bich communication     chahte hai over the internet hm chahate hai ki computers/devices over the internet ek dusre se data transfer kr paaye request kr paaye to hme/computers ko kuchh particular set of rules /guidelines ka dhyaan rakhna padta hai ya  yu kahu ki follow krna hota hai tabhi computers/devices can communicate to each other otherwise nhi kr payenge aur enhi set of rules/guidelines ko http bolte hai \n",
    "\n",
    "NOTE:\n",
    "HTTP stand for hypertext transfer protocol is a fundamental protocol that enable the communication between computers over the internet ya yu kahu enable the communication between client and server taaaki client can make request for something(any specific action or resource) to server and then server can response to those all request.  "
   ]
  },
  {
   "cell_type": "markdown",
   "id": "3f83b2df",
   "metadata": {},
   "source": [
    "# request and response\n",
    "\n",
    "both are messages then phark kya hai:\n",
    "\n",
    "request  : a message sent by client to server,asking for a specific action to be performed or requesting a particular resource.\n",
    "\n",
    "response : An HTTP response is the message sent by a server to a client in reply to an HTTP request. It contains the requested              resource or an indication of the success or failure of the requested action."
   ]
  },
  {
   "cell_type": "code",
   "execution_count": null,
   "id": "eecd4b30",
   "metadata": {},
   "outputs": [],
   "source": []
  }
 ],
 "metadata": {
  "kernelspec": {
   "display_name": "Python 3 (ipykernel)",
   "language": "python",
   "name": "python3"
  },
  "language_info": {
   "codemirror_mode": {
    "name": "ipython",
    "version": 3
   },
   "file_extension": ".py",
   "mimetype": "text/x-python",
   "name": "python",
   "nbconvert_exporter": "python",
   "pygments_lexer": "ipython3",
   "version": "3.9.13"
  }
 },
 "nbformat": 4,
 "nbformat_minor": 5
}
