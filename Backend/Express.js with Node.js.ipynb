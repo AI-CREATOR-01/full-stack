{
 "cells": [
  {
   "cell_type": "markdown",
   "id": "4926e94d",
   "metadata": {},
   "source": [
    "# express.js\n",
    "\n",
    "actual me this is the javascript framework not node.js because node.js is a runtime environment that help us to execute the JS code outside of web browser and by combining the power of node.js and express.js we can build backend, web app , appp etc\n",
    "\n",
    "1.so basically node.js is like a tool that allow us to use javascript on any computer not within the browser only mtlb agar       node.js nhi hota to kelw browser ke pass ability hai to execute the JS code mtlb agr hme JS use krni hai to kewl browser me kr   skte hai \n",
    "\n",
    "2.so finaly we can say that node.js allow us to use JS to perform many tasks but same task can be achieved easily if we use       framework like expreess rather than using vanilla JS \n",
    "\n",
    "3.so finally i can say that express.js use both node.js and javascript to make things easier and fast \n",
    "\n",
    "NOTE:\n",
    "\n",
    "jo tasks hm express.js ki help se kr skte hai same kaam hm node(using pure/vanilla JS) se bhi kr skte hai but express.js make task much easier and more readable"
   ]
  },
  {
   "cell_type": "markdown",
   "id": "d24d32d5",
   "metadata": {},
   "source": [
    "# creating server\n",
    "\n",
    "jaisa ki hm jaante hai ki backend bole to :\n",
    "\n",
    "Backend ==== server(24/7 running computers) + application(bole to index.js file/files jisme JS codes likhe hue honge to perform              task such as aane  waali request aur data ko handle ) + database(a computer system and we need it in case of more                copmplex data)\n",
    "\n",
    "so creating server refer to application/logic taiyar krna aur phir ess application/logic ko apne local machine ya ksi bade server pr run krna ban gya server ya yhi server kahlata hai see how actually a server is created using express.js \n",
    "\n",
    "1.create a directory\n",
    "2.create index.js file\n",
    "3.initialize NPM\n",
    "4.install the express package\n",
    "5.import express into index.js file\n",
    "6.write server application in index.js\n",
    "7.start server (by simply running index.js file how like this node index.js)"
   ]
  },
  {
   "cell_type": "markdown",
   "id": "2819946b",
   "metadata": {},
   "source": [
    "# client/client-side vs server/server-side\n",
    "\n",
    "client/client-side ------>>> bole to any desktop/mobile/laptop/phone or simply any computer that making http request to server\n",
    "server/server-side ------>>> bole to any computer/computer system jispe hamara likha hua code bole to index.js                                                file(application/logic) run kr rha hai saath me database ho bhi skta hai aur nhi bhi depend how                                  complex data we want to handle"
   ]
  },
  {
   "cell_type": "markdown",
   "id": "820103e8",
   "metadata": {},
   "source": [
    "# http(hypertext transfer protocol):\n",
    "\n",
    "1.jaise agr hme apne thoughts share krne hote hai ek dusre se to we use general language like english,hindi etc\n",
    "\n",
    "2.a language bole to set of rules and guidelines that help us for communication(to share our thoughts to each other)\n",
    "\n",
    "3.so finally can i say that a general language is a thought transfer protocol yes i can\n",
    "\n",
    "4.protocol ka mltb hota hai set of rules and guidelines jinka hme dhyaan rkhna hota hai ya follow krna hota hai if we want \n",
    "\n",
    "communication or share our thoughts(any mesaage/information) thik ussi prakaar http is a language (not exactly a language)       that define the set of rules and guidelines for communication between computers mtlb agr hm computers ke bich communication     chahte hai over the internet hm chahate hai ki computers/devices over the internet ek dusre se data transfer kr paaye request kr paaye to hme/computers ko kuchh particular set of rules /guidelines ka dhyaan rakhna padta hai ya  yu kahu ki follow krna hota hai tabhi computers/devices can communicate to each other otherwise nhi kr payenge aur enhi set of rules/guidelines ko http bolte hai \n",
    "\n",
    "NOTE:\n",
    "HTTP stand for hypertext transfer protocol is a fundamental protocol that enable the communication between computers over the internet ya yu kahu enable the communication between client and server taaaki client can make request for something(any specific action or resource) to server and then server can response to those all request.  "
   ]
  },
  {
   "cell_type": "markdown",
   "id": "3f83b2df",
   "metadata": {},
   "source": [
    "# request and response\n",
    "\n",
    "both are messages then phark kya hai:\n",
    "\n",
    "request  : a message sent by client to server,asking for a specific action to be performed or requesting a particular resource.\n",
    "\n",
    "response : An HTTP response is the message sent by a server to a client in reply to an HTTP request. It contains the requested              resource or an indication of the success or failure of the requested action."
   ]
  },
  {
   "cell_type": "markdown",
   "id": "a933c20b",
   "metadata": {},
   "source": [
    "# request methods\n",
    "1.get()\n",
    "2.post()\n",
    "3.put()\n",
    "4.patch()\n",
    "5.delete()\n",
    "\n",
    "aaiye sdamjhte hai kya mtlb hota hai inka with get() see below\n",
    "\n",
    "NOTE:\n",
    "\n",
    "app.get(\"/\", (req, res) => {  ------>>>>\n",
    "    //code                    ------>>>> iska mtlb ye hai ki jabhi client will make request at specified endpoint/root ('/')                                   ------>>>> ya yu kahu ki jabhi server will receive the request at specified root/endpoint that is                                          \"/\" then curly bracket ke ander specified operation ko perform krega jaise ki koi                                                action peform krna ya phir koi resources ko send krna in reply of request                              \n",
    "});                             \n",
    "\n"
   ]
  },
  {
   "cell_type": "markdown",
   "id": "ae17d357",
   "metadata": {},
   "source": [
    "# NOTE:\n",
    "\n",
    "1. so jab client specified routes ko trigger krta hai kaise bhi like main URL ke saath route/endpoint ko mentioned krke ya phir    user interface ke through like submitting form etc tab usss specified roots se associated htttp request methods like get(),      post() etc perform their operation so finally can i say get() and post() are  routes handlers kyuki jab  koi routes trigger      hota hai tabhi ye methods action lete hai ya koi resources send krte hai \n",
    "\n",
    "2. "
   ]
  },
  {
   "cell_type": "markdown",
   "id": "8716a9be",
   "metadata": {},
   "source": [
    "# nodemon\n",
    "whenever we changes somehting in our server then each time we need to stop(exist srver) and start(run index.js file) server but hm chahte hai ki server ek baar start ho jaaye aur phir jo bhi aur jitne bhi chnages ho wah automatically detect ho jaaye  aur server apne app restart ho jaaye hme baar baaar exit aur  restart na krna pde for each chnages simple so to solve this problem wew use nodemon tool  how see\n",
    "1.npm i -g nodemon\n",
    "2.nodemon index.js rather than node index.js"
   ]
  },
  {
   "cell_type": "markdown",
   "id": "9ed2f699",
   "metadata": {},
   "source": [
    "# postman\n",
    "\n",
    "1. used to develop and test API\n",
    "2. used to make http request "
   ]
  },
  {
   "cell_type": "markdown",
   "id": "3014c5d7",
   "metadata": {},
   "source": [
    "# http response status codes\n",
    "\n",
    "http response status codes indicate whether a specific http request has been successfully completed or not responses are grouped into five classe/category see ya yu kahu ki jo bhi request or response thi unka kya hua succesful hue ya fail ho gyi \n",
    "\n",
    "1.informational response (100-199)\n",
    "\n",
    "2.successful response (200-299)\n",
    "\n",
    "3.redirection messages (300-399)   ---->> means requested action or response has been moved to another location/endpoint/url so                                           we need to redirect\n",
    "\n",
    "4.client error responses (400-499) ---->> while making request there was some error on client side\n",
    "\n",
    "5.server error responses (500-599) ---->> These codes indicate that there was an error on the server's side while trying to                                               fulfill the request.\n",
    "\n",
    "1xx - Informational: Request received, continuing process.\n",
    "2xx - Successful: The action was successfully received, understood, and accepted.\n",
    "3xx - Redirection: Further action needs to be taken in order to complete the request.\n",
    "4xx - Client Error: The request contains bad syntax or cannot be fulfilled.\n",
    "5xx - Server Error: The server failed to fulfill a valid request.\n",
    "\n",
    "NOTE:\n",
    "user can see only >=300 status code directly in the web browser aisa nhi hai ki baaki ke status code nhi dekh skte dekh skte hai in postman or terminal means backend developer can see all status codes"
   ]
  },
  {
   "cell_type": "markdown",
   "id": "407562d3",
   "metadata": {},
   "source": [
    "# middleware\n",
    "\n",
    "middle -->>> bole to between ya bich me \n",
    "ware   -->>> bole to things/saamaaan\n",
    "\n",
    "1. so finally middleware is software/function that sit somewhere between two system like two computers ya between server and        client taaki jabhi koi data transfer ho dono system ke bich tab data/request ek duser ke paas phuchne se phle hme kuchh          operation perfrom krna hai on  that data aur phir allow krna hai to that data to reach their destination\n",
    "\n",
    "2. middleware is software that sit somewhere between server and client so that it  can perform some operation on incoming          request before it processed by any route handler\n",
    "\n",
    "3. ya yu kahu ki middleware is software used to preprocess the incoming/ongoing data/request before it finally processed by any    route handler\n",
    "\n",
    "4. ya yu kahu ki middleware ek software hai jiski help se hm various opeartion/function perform kr skte hai on request before it    finally processed by any route handler\n",
    "\n"
   ]
  },
  {
   "cell_type": "code",
   "execution_count": null,
   "id": "5dc2b784",
   "metadata": {},
   "outputs": [],
   "source": []
  },
  {
   "cell_type": "markdown",
   "id": "0c4871bb",
   "metadata": {},
   "source": [
    "# understanding http request\n",
    "\n",
    "1. jaisa ki hm jaante hai ki http request is basically a message sent by client to server to ask something or to do something \n",
    "\n",
    "2. a http request is made up of various fundamentals parts/components/information ya yu khu ki wah message jo client server ko      bhejta hai wah message kai fundamentals parts/component/information se milkar bna hua hota hai jaise kisi subject ka ek          chapter variou section me divide hota hai like cahpter ka naam jo sbse uppar mentioned hota hai, headings, sub-                  hedaings,paragraph/explaination section,examples-section and exercise-section etc bhale hi ek chapter various section me        didvide hota hai but overrall wo saare ke saare hai ek information hi thik uussi prakar ek request chahe kitne bhi components    me divide ho wo saare hai ek information hi hai and can access individsually\n",
    "\n",
    "3. few main components of http request see below:\n",
    "\n",
    "   1.request/htpp method ---->>> which tell the type of request\n",
    "   \n",
    "   2.URL                 ---->>> which identify the server where resources are hosted for which client has made request\n",
    "   \n",
    "   3.header              ---->>> a kind of extra detail/information like user-agent(chrome or mozilla etc),language of request\n",
    "   \n",
    "   4.body                ---->>> the actuall data that the client sent to server in case of put,patch and delete type request\n",
    "   \n",
    "   5.parameter           ---->>> an information for asking questions\n"
   ]
  },
  {
   "cell_type": "markdown",
   "id": "b18b6ebc",
   "metadata": {},
   "source": [
    "# body-parser\n",
    "\n",
    "body-parser is a middleware and a middleware is a function that can perform an operation on http request and response and that operation is to parse the body aaiye samajhte hai kya mtlb hai\n",
    "\n",
    "body   ----->>>>  bole to the component/part of http request that hold/represent the actual data sent by client to server ya yu                   kahu ki the actuall data that client sent to server in case of PUT,PATCH and DELETE type request \n",
    "\n",
    "parse  ----->>>>  refer to analyzing and interpreting the things means reading and understanding the things to extract the                         relevant information aur phir ess relevant information ko translate/represent krna in such a form/format jisko                   hm ya ek application samajh paaye aur interact kr paaye\n",
    "\n",
    "NOTE:\n",
    "\n",
    "when a client make request to server then the actual data sent by client to server can be in the form of JSON, XML,URL(ENCODED FORM DATA) etc ye wo data format hote hai jinko hm ya node.js application nahi samajh skta hai aur naahi enke sath interact kr skta hai taaaki enn data pr koi operation  perform kr paaye isliye body-parser come into role/picture jo enn data format ko ek aise data format me translate krdeta hai jinko hm ya node.js application samajh paaye aur interact kr paaaye to perform some operation on those datas sent by client to server \n",
    "\n",
    "HOW TO USE IT:\n",
    "\n",
    "1.npm install body-parser\n",
    "2.import body-parser\n",
    "3.write this line of code see\n",
    "  app.use(bodyParser.urlencoded({extend:true})) -->> agr ess line ko nhi likhenge to req ki body(actual data) ko access nhi kr                                                        paayenge without it if we try to access req.body then we will get undefined\n",
    "                       ^\n",
    "                       |\n",
    "                       mtlb ki body-parser jis data ko parse krne waala hai wo kis form me hai JSON format me hota  to yha JSON                        likhte"
   ]
  },
  {
   "cell_type": "markdown",
   "id": "471d515c",
   "metadata": {},
   "source": [
    "# NOTE:\n",
    "\n",
    "log/logging ---->> refer to process of recording something(like information) means process of capturing something means process                    of saving details of something or the process to note something"
   ]
  },
  {
   "cell_type": "markdown",
   "id": "e346b3c6",
   "metadata": {},
   "source": [
    "# NOTE\n",
    "\n",
    "1. jabhi hm  kuchh google search engine me ya  web  browser me type krte hai like direct any URL or any plane text iska simple      mtlb hai ki we are making request to server where the resources are available for which we are interested in ya jisko accesss    ya visit krna chahte hai\n",
    "\n",
    "2. ya yu kahu ki agr hm kuchh bhi internet pr access ya visit kr paa rhe hai iska mtlb  simple sa hai ki sbse phle we made a        request by simply typing/providing the direct URL or any plane text into google searh engine or web browser tab jaake hm        chizo ko access ya visit kr paaa rhe hai so finally i can say that jabhi hme kuchh accesss ya visit krna hota hai to first we    need to make a request to server where the resources are available to which we want to access or visit "
   ]
  },
  {
   "cell_type": "markdown",
   "id": "44cf9fa9",
   "metadata": {},
   "source": [
    "# req and res\n",
    "\n",
    "both are object\n",
    "\n",
    "req ---->>> represent to http request mtlb http request ki saari info isme store hongi aur phir individually unko acees kr skte             hai like req.method, req.url, req.body etc\n",
    "\n",
    "res ---->>> represent to http response mtlb http response ki saari info isme store hongi jaise response failed or successful and             what exactly response is\n",
    "\n"
   ]
  },
  {
   "cell_type": "markdown",
   "id": "92e41fdf",
   "metadata": {},
   "source": [
    "# app.use()\n",
    "\n",
    "1. it is a express method that is used to mount middleware function ya yu kahu ki agr mhe middlewre function use krna hai then      we need to invoke/define them inside this method\n",
    "\n",
    "2. har ek middleware function ke pass req and res ka access hota hai simple "
   ]
  },
  {
   "cell_type": "markdown",
   "id": "9217ba42",
   "metadata": {},
   "source": [
    "# morgan\n",
    "\n",
    "it is a middleware that used for logging http request and error ya yu kahu ki it is a tool that keep track what is going on or what is happening in out application like\n",
    "\n",
    "mtlb jab koi visit/access our app ya yu kahu ki made request for something to our server then tab tab har baar hr http request ko morgan log kr leta hai jisse hme kuchh ess type ki information mil skti hai see below \n",
    "\n",
    "1.who visited or requested to our server(IP address and browser info ) ya who visired our website\n",
    "2.what type of request they made like(GET, POST etc)\n",
    "3.URL\n",
    "4.how long it took(response time and date)\n",
    "5.error(if anything went wrong)\n",
    "6.code status \n",
    "7.device info like it is mac or window aur opearting system bhi \n",
    "8.kaunsa route/URL triggered hua hai\n",
    "\n",
    "see kuchh aisa console me log ho jaaat hai for each http request if we are using morgan see below\n",
    "\n",
    "\n",
    "::1 - - [03/Dec/2023:12:34:56 +0000] \"GET /example HTTP/1.1\" 200 1234 \"-\" \"Mozilla/5.0 (Windows NT 10.0; Win64; x64) AppleWebKit/537.36 (KHTML, like Gecko) Chrome/123.0.4567.89 Safari/537.36\"\n",
    "\n",
    "\n",
    "Here's a breakdown of what each part represents in the log entry:\n",
    "\n",
    "::1: Remote IP address (in this case, it's the localhost or loopback address).\n",
    "\n",
    "-: Remote user (usually not applicable and represented by a hyphen).\n",
    "\n",
    "\"GET /example HTTP/1.1\": Request method, requested URL, and HTTP version.\n",
    "\n",
    "200: Status code indicating a successful response.\n",
    "1234: Size of the response in bytes.\n",
    "\"- \": Referrer (usually not applicable and represented by a hyphen).\n",
    "\"Mozilla/5.0 (Windows NT 10.0; Win64; x64) AppleWebKit/537.36 (KHTML, like Gecko) Chrome/123.0.4567.89 Safari/537.36\": User agent indicating the client's browser."
   ]
  }
 ],
 "metadata": {
  "kernelspec": {
   "display_name": "Python 3 (ipykernel)",
   "language": "python",
   "name": "python3"
  },
  "language_info": {
   "codemirror_mode": {
    "name": "ipython",
    "version": 3
   },
   "file_extension": ".py",
   "mimetype": "text/x-python",
   "name": "python",
   "nbconvert_exporter": "python",
   "pygments_lexer": "ipython3",
   "version": "3.9.13"
  }
 },
 "nbformat": 4,
 "nbformat_minor": 5
}
