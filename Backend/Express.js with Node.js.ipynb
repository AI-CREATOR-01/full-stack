{
 "cells": [
  {
   "cell_type": "markdown",
   "id": "4926e94d",
   "metadata": {},
   "source": [
    "# express.js\n",
    "\n",
    "actual me this is the javascript framework not node.js because node.js is a runtime environment that help us to execute the JS code outside of web browser and by combining the power of node.js and express.js we can build backend, web app , appp etc\n",
    "\n",
    "1.so basically node.js is like a tool that allow us to use javascript on any computer not within the browser only mtlb agar       node.js nhi hota to kelw browser ke pass ability hai to execute the JS code mtlb agr hme JS use krni hai to kewl browser me kr   skte hai \n",
    "\n",
    "2.so finaly we can say that node.js allow us to use JS to perform many tasks but same task can be achieved easily if we use       framework like expreess rather than using vanilla JS \n",
    "\n",
    "3.so finally i can say that express.js use both node.js and javascript to make things easier and fast \n",
    "\n",
    "NOTE:\n",
    "\n",
    "jo tasks hm express.js ki help se kr skte hai same kaam hm node(using pure/vanilla JS) se bhi kr skte hai but express.js make task much easier and more readable"
   ]
  },
  {
   "cell_type": "markdown",
   "id": "d24d32d5",
   "metadata": {},
   "source": [
    "# creating server\n",
    "\n",
    "jaisa ki hm jaante hai ki backend bole to :\n",
    "\n",
    "Backend ==== server(24/7 running computers) + application(bole to index.js file/files jisme JS codes likhe hue honge to perform              task such as aane  waali request aur data ko handle ) + database(a computer system and we need it in case of more                copmplex data)\n",
    "\n",
    "so creating server refer to application/logic taiyar krna aur phir ess application/logic ko apne local machine ya ksi bade server pr run krna ban gya server ya yhi server kahlata hai see how actually a server is created using express.js \n",
    "\n",
    "1.create a directory\n",
    "2.create index.js file\n",
    "3.initialize NPM\n",
    "4.install the express package\n",
    "5.import express into index.js file\n",
    "6.write server application in index.js\n",
    "7.start server (by simply running index.js file how like this node index.js)"
   ]
  },
  {
   "cell_type": "markdown",
   "id": "2819946b",
   "metadata": {},
   "source": [
    "# client/client-side vs server/server-side\n",
    "\n",
    "client/client-side ------>>> bole to any desktop/mobile/laptop/phone or simply any computer that making http request to server\n",
    "server/server-side ------>>> bole to any computer/computer system jispe hamara likha hua code bole to index.js                                                file(application/logic) run kr rha hai saath me database ho bhi skta hai aur nhi bhi depend how                                  complex data we want to handle"
   ]
  },
  {
   "cell_type": "markdown",
   "id": "820103e8",
   "metadata": {},
   "source": [
    "# http(hypertext transfer protocol):\n",
    "\n",
    "1.jaise agr hme apne thoughts share krne hote hai ek dusre se to we use general language like english,hindi etc\n",
    "\n",
    "2.a language bole to set of rules and guidelines that help us for communication(to share our thoughts to each other)\n",
    "\n",
    "3.so finally can i say that a general language is a thought transfer protocol yes i can\n",
    "\n",
    "4.protocol ka mltb hota hai set of rules and guidelines jinka hme dhyaan rkhna hota hai ya follow krna hota hai if we want \n",
    "\n",
    "communication or share our thoughts(any mesaage/information) thik ussi prakaar http is a language (not exactly a language)       that define the set of rules and guidelines for communication between computers mtlb agr hm computers ke bich communication     chahte hai over the internet hm chahate hai ki computers/devices over the internet ek dusre se data transfer kr paaye request kr paaye to hme/computers ko kuchh particular set of rules /guidelines ka dhyaan rakhna padta hai ya  yu kahu ki follow krna hota hai tabhi computers/devices can communicate to each other otherwise nhi kr payenge aur enhi set of rules/guidelines ko http bolte hai \n",
    "\n",
    "NOTE:\n",
    "HTTP stand for hypertext transfer protocol is a fundamental protocol that enable the communication between computers over the internet ya yu kahu enable the communication between client and server taaaki client can make request for something(any specific action or resource) to server and then server can response to those all request.  "
   ]
  },
  {
   "cell_type": "markdown",
   "id": "3f83b2df",
   "metadata": {},
   "source": [
    "# request and response\n",
    "\n",
    "both are messages then phark kya hai:\n",
    "\n",
    "request  : a message sent by client to server,asking for a specific action to be performed or requesting a particular resource.\n",
    "\n",
    "response : An HTTP response is the message sent by a server to a client in reply to an HTTP request. It contains the requested              resource or an indication of the success or failure of the requested action."
   ]
  },
  {
   "cell_type": "markdown",
   "id": "a933c20b",
   "metadata": {},
   "source": [
    "# request methods\n",
    "1.get()\n",
    "2.post()\n",
    "3.put()\n",
    "4.patch()\n",
    "5.delete()\n",
    "\n",
    "aaiye sdamjhte hai kya mtlb hota hai inka with get() see below\n",
    "\n",
    "NOTE:\n",
    "\n",
    "app.get(\"/\", (req, res) => {  ------>>>>\n",
    "    //code                    ------>>>> iska mtlb ye hai ki jabhi client will make request at specified endpoint/root ('/')                                   ------>>>> ya yu kahu ki jabhi server will receive the request at specified root/endpoint that is                                          \"/\" then curly bracket ke ander specified operation ko perform krega jaise ki koi                                                action peform krna ya phir koi resources ko send krna in reply of request                              \n",
    "});                             \n"
   ]
  },
  {
   "cell_type": "markdown",
   "id": "8716a9be",
   "metadata": {},
   "source": [
    "# nodemon\n",
    "whenever we changes somehting in our server then each time we need to stop(exist srver) and start(run index.js file) server but hm chahte hai ki server ek baar start ho jaaye aur phir jo bhi aur jitne bhi chnages ho wah automatically detect ho jaaye  aur server apne app restart ho jaaye hme baar baaar exit aur  restart na krna pde for each chnages simple so to solve this problem wew use nodemon tool  how see\n",
    "1.npm i -g nodemon\n",
    "2.nodemon index.js rather than node index.js"
   ]
  },
  {
   "cell_type": "markdown",
   "id": "9ed2f699",
   "metadata": {},
   "source": [
    "# postman"
   ]
  },
  {
   "cell_type": "markdown",
   "id": "3014c5d7",
   "metadata": {},
   "source": [
    "# http response status codes\n",
    "\n",
    "http response status codes indicate whether a specific http request has been successfully completed or not responses are grouped into five classe/category see ya yu kahu ki jo bhi request or response thi unka kya hua succesful hue ya fail ho gyi \n",
    "\n",
    "1.informational response (100-199)\n",
    "\n",
    "2.successful response (200-299)\n",
    "\n",
    "3.redirection messages (300-399)   ---->> means requested action or response has been moved to another location/endpoint/url so                                           we need to redirect\n",
    "\n",
    "4.client error responses (400-499) ---->> while making request there was some error on client side\n",
    "\n",
    "5.server error responses (500-599) ---->> These codes indicate that there was an error on the server's side while trying to                                               fulfill the request.\n",
    "\n",
    "1xx - Informational: Request received, continuing process.\n",
    "2xx - Successful: The action was successfully received, understood, and accepted.\n",
    "3xx - Redirection: Further action needs to be taken in order to complete the request.\n",
    "4xx - Client Error: The request contains bad syntax or cannot be fulfilled.\n",
    "5xx - Server Error: The server failed to fulfill a valid request.\n",
    "\n",
    "NOTE:\n",
    "user can see only >=300 status code directly in the web browser aisa nhi hai ki baaki ke status code nhi dekh skte dekh skte hai in postman or terminal means backend developer can see all status codes"
   ]
  },
  {
   "cell_type": "code",
   "execution_count": null,
   "id": "6614057e",
   "metadata": {},
   "outputs": [],
   "source": []
  }
 ],
 "metadata": {
  "kernelspec": {
   "display_name": "Python 3 (ipykernel)",
   "language": "python",
   "name": "python3"
  },
  "language_info": {
   "codemirror_mode": {
    "name": "ipython",
    "version": 3
   },
   "file_extension": ".py",
   "mimetype": "text/x-python",
   "name": "python",
   "nbconvert_exporter": "python",
   "pygments_lexer": "ipython3",
   "version": "3.9.13"
  }
 },
 "nbformat": 4,
 "nbformat_minor": 5
}
