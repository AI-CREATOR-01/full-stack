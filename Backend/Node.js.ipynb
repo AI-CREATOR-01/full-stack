{
 "cells": [
  {
   "cell_type": "markdown",
   "id": "b0f53169",
   "metadata": {},
   "source": [
    "# NODE.JS\n",
    "\n",
    "1. Node.js is an open-source, cross-platform JavaScript runtime environment ya software hai that executes JavaScript code          outside of a browser.\n",
    "\n",
    "2. Node.js is used to develop a wide variety of applications, including:\n",
    "\n",
    "   1.Web applications: Node.js is a popular choice for developing web applications, as it is efficient, scalable, and easy to                          use.\n",
    "\n",
    "   2.Networking applications: Node.js is also used to develop networking applications, such as chat servers and real-time data                                 streaming applications. mtlb simple hai ki networking application refer to such software                                         application that enable the communication and interaction between devices taaki hm real-time dataa                               exchange kr paaye like whatsapp or insta etc"
   ]
  },
  {
   "cell_type": "code",
   "execution_count": null,
   "id": "16139a65",
   "metadata": {},
   "outputs": [],
   "source": []
  },
  {
   "cell_type": "markdown",
   "id": "8a3af7f6",
   "metadata": {},
   "source": [
    "# how to use NPM\n",
    "\n",
    "agr hme kisi module/library/tool ka estemaal krna hai into our code jo npm pr available hai to uske liye hme we need to initilaize the npm first into our project by using (npm init) command jaise hi ye command hm dnege waise hi package.json and package-lock.json naam ki ek file/folder hmare porject me appear/install/load ho jaayegi jisme kaafi information hongi about our project aur jisme dependencies aur devdependencies bhi hongi aur jaise hi koi module/library/tool install krenge ek node_modules naam ka folder hmare project me dikhne lgega ya load ho jaayegas aur essi folder me hamare installed module hote hai ya yu kahu ki jo bhi module/library/tool install hoga usss module ka codes/files of codes esss node_modules folder me aa jaayenge  \n",
    "\n",
    "jaise maanlo maine live-server install kiya by using npm install live-server to live-server tool node_modules folder ma aa jaayega\n",
    "\n",
    "apne code ko share krte samay hm node_modules folder ko nhi  share krte hai because it mcontain thousands of modules and it can take a lot of time so while sharing our project we simply delete the node_module \n",
    "\n",
    "to phir jab koi dusra hmare project ko ya phir khud hm ess project ko use krenge to kaise pta chalta hai ki kya module use ho rha hi into this project to yahi pe aata hai concept of dependencies and devdependencies ka jinke paas record hota hai ki kya modules use hue hai for this project aur phir simply one by one we can intalll them aur ek saath bhi bu using (npm i) cmnd\n",
    "\n",
    "hm chahe to kisi bhi module/library/tool ko globally install kr skte hai   "
   ]
  },
  {
   "cell_type": "markdown",
   "id": "478b3ac8",
   "metadata": {},
   "source": [
    "# dependencies vs devdependencies\n",
    "In the context of Node.js and npm (Node Package Manager), dependencies and devDependencies are two types of dependencies/tool that you can specify in your package.json file to manage project dependencies.\n",
    "\n",
    "dependencies are packages/tools that are required for the application to run in production. These are the libraries and modules that your application needs to function correctly when deployed.\n",
    "\n",
    "devDependencies are packages that are only needed for development and testing purposes. These are not required for the production runtime of your application.\n",
    "\n",
    "command:\n",
    "npm install module_name --save ------>>> to install udner dependencies category\n",
    "npm install module_name --save-dev ----->>> to installl under devdependencies "
   ]
  },
  {
   "cell_type": "markdown",
   "id": "20a807c7",
   "metadata": {},
   "source": [
    "# native modules of node.js\n",
    "node.js comes with vast collection of native modules here are fews common and popular ones:\n",
    "1.file system module\n",
    "2.http and https module\n",
    "3.path module\n",
    "\n",
    "4.EcmaScript(E6) module\n",
    "5.etc\n",
    "\n",
    "how to access the native module:\n",
    "\n",
    "const natMod = require(\"module_name\") simple "
   ]
  },
  {
   "cell_type": "markdown",
   "id": "97082320",
   "metadata": {},
   "source": [
    "# NOTE:\n",
    "\n",
    "1.adhere                                             ------>>>> means to follow strictly\n",
    "\n",
    "2.javascript is the implementation of EcmaScript(E6) ------>>>> means javascript adhere to ecmascript means javascript follow to                                                                 set of rules and instructions of ecmascript\n",
    "\n",
    "3.scripting language                                 ------>>>> scritping language refer to a programming language that is                                                                       typically interpreted rather than compiled.\n",
    "\n",
    "4.specification                                      ------>>>> means detailed description of something\n",
    "\n",
    "5.description                                        ------>>>> means statement or representation of something that provide                                                                     detail or infromation about something"
   ]
  },
  {
   "cell_type": "code",
   "execution_count": null,
   "id": "6413bfa5",
   "metadata": {},
   "outputs": [],
   "source": []
  },
  {
   "cell_type": "markdown",
   "id": "ba411304",
   "metadata": {},
   "source": [
    "# 4.EcmaScript(E6)\n",
    "Ecmascript is a scripting language specification, refers to a detailed document that outlines the rules, features, and standards that a scripting language must adhere.jaise ki variable declare krne ka syntax kya hona chahiye , function kaise kaam krenege aur kaise declare kiya jaaat hai, import aur export ka syntax kya hona chahiye etc. because commonjs module have different set of rules for syntax and features"
   ]
  },
  {
   "cell_type": "markdown",
   "id": "7e8e24f2",
   "metadata": {},
   "source": [
    "# EcmaScript(E6) module\n",
    "ECMAScript 6 (ES6) introduced support for modules, allowing you to organize your code into separate files. Use the import and export statements:\n",
    "\n",
    "NOTE:\n",
    "in case of node.js application/project we need to  specify 'type' : 'module' in package.json file to indicate that we are using Ecmascript modules rather than commonJS modules because bydrfault node.js use commonJS modules \n",
    "\n",
    "example1:\n",
    "maanlo hme koi module access krna hai matlb kisi module/file ko kisi dusre file me use krna chahte hai tab we do simply\n",
    "\n",
    "const name1 = require(\"module_name\") in case of commonjs modules but in case of Ecmascript modules we can simpoly use import and  export keyword to import and export the modules \n",
    "\n",
    "NOTE:\n",
    "agr hme node.js applicationm me import and export keyword use krna chahte hai to import and export modules from one to another then  specify 'type':'module' in package.json file "
   ]
  },
  {
   "cell_type": "code",
   "execution_count": null,
   "id": "cee194b1",
   "metadata": {},
   "outputs": [],
   "source": []
  },
  {
   "cell_type": "markdown",
   "id": "dc4b753f",
   "metadata": {},
   "source": [
    "# how to use any NPM package/module/toool\n",
    "\n",
    "1.download Node.js and NPM\n",
    "2.verify both\n",
    "3.initialize NPM into our project\n",
    "4.install package that we want into our project\n",
    "5.import installed package to the file where/in which we want to use \n"
   ]
  },
  {
   "cell_type": "code",
   "execution_count": null,
   "id": "7e50f130",
   "metadata": {},
   "outputs": [],
   "source": []
  }
 ],
 "metadata": {
  "kernelspec": {
   "display_name": "Python 3 (ipykernel)",
   "language": "python",
   "name": "python3"
  },
  "language_info": {
   "codemirror_mode": {
    "name": "ipython",
    "version": 3
   },
   "file_extension": ".py",
   "mimetype": "text/x-python",
   "name": "python",
   "nbconvert_exporter": "python",
   "pygments_lexer": "ipython3",
   "version": "3.9.13"
  }
 },
 "nbformat": 4,
 "nbformat_minor": 5
}
