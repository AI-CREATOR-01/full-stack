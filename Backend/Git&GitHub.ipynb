{
 "cells": [
  {
   "cell_type": "markdown",
   "id": "e2265545",
   "metadata": {},
   "source": [
    "# git \n",
    "\n",
    "version control \n"
   ]
  },
  {
   "cell_type": "code",
   "execution_count": null,
   "id": "55f732bb",
   "metadata": {},
   "outputs": [],
   "source": []
  },
  {
   "cell_type": "code",
   "execution_count": null,
   "id": "5aa86fd6",
   "metadata": {},
   "outputs": [],
   "source": [
    "working directory ----->> staging area ------->> local git repository ---------->> remote repo(github repo)\n",
    "      ^                      ^                        ^                                            ^\n",
    "      |                      |                        |                                            |\n",
    "      |______________________|________________________|____________________________________________|\n",
    "               ^                       ^                                        ^\n",
    "               |                       |                                        |\n",
    "           git add .        git commit -m \"commit message\"        git remote add origin github_repo_url"
   ]
  },
  {
   "cell_type": "code",
   "execution_count": null,
   "id": "16b24a46",
   "metadata": {},
   "outputs": [],
   "source": []
  },
  {
   "cell_type": "markdown",
   "id": "53ac0fd8",
   "metadata": {},
   "source": [
    "# github\n",
    "\n",
    "a website or a platform where we can post our project so finally i  can say that github is used for:\n",
    "1. posting our own project\n",
    "2. collaboration"
   ]
  }
 ],
 "metadata": {
  "kernelspec": {
   "display_name": "Python 3 (ipykernel)",
   "language": "python",
   "name": "python3"
  },
  "language_info": {
   "codemirror_mode": {
    "name": "ipython",
    "version": 3
   },
   "file_extension": ".py",
   "mimetype": "text/x-python",
   "name": "python",
   "nbconvert_exporter": "python",
   "pygments_lexer": "ipython3",
   "version": "3.9.13"
  }
 },
 "nbformat": 4,
 "nbformat_minor": 5
}
