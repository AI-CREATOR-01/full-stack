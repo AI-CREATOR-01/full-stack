{
 "cells": [
  {
   "cell_type": "markdown",
   "id": "e2265545",
   "metadata": {},
   "source": [
    "# git \n",
    "\n",
    "version control \n"
   ]
  },
  {
   "cell_type": "code",
   "execution_count": null,
   "id": "eabb46ca",
   "metadata": {},
   "outputs": [],
   "source": []
  },
  {
   "cell_type": "code",
   "execution_count": null,
   "id": "5aa86fd6",
   "metadata": {},
   "outputs": [],
   "source": [
    "working directory ----->> staging area ------->> local git repository ---------->> remote repo(github repo)\n",
    "      ^                      ^                        ^                                            ^\n",
    "      |                      |                        |                                            |\n",
    "      |______________________|________________________|____________________________________________|\n",
    "               ^                       ^                                        ^\n",
    "               |                       |                                        |\n",
    "           git add .        git commit -m \"commit message\"        git remote add origin github_repo_url"
   ]
  },
  {
   "cell_type": "code",
   "execution_count": null,
   "id": "47ae13b5",
   "metadata": {},
   "outputs": [],
   "source": []
  },
  {
   "cell_type": "markdown",
   "id": "e6810e6a",
   "metadata": {},
   "source": [
    "# github\n",
    "\n",
    "a website or a platform where we can post our project so finally i  can say that github is used for:\n",
    "1. posting our own project\n",
    "2. collaboration"
   ]
  },
  {
   "cell_type": "markdown",
   "id": "5b8d2d3c",
   "metadata": {},
   "source": [
    " \"git rm --cached -r .\"   ---->>>> remove everything from the staging area back in the current directory but do not                                                delete/remove them from current directory"
   ]
  }
 ],
 "metadata": {
  "kernelspec": {
   "display_name": "Python 3 (ipykernel)",
   "language": "python",
   "name": "python3"
  },
  "language_info": {
   "codemirror_mode": {
    "name": "ipython",
    "version": 3
   },
   "file_extension": ".py",
   "mimetype": "text/x-python",
   "name": "python",
   "nbconvert_exporter": "python",
   "pygments_lexer": "ipython3",
   "version": "3.9.13"
  }
 },
 "nbformat": 4,
 "nbformat_minor": 5
}
