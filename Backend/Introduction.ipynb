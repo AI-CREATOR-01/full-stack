{
 "cells": [
  {
   "cell_type": "markdown",
   "id": "03e2cb6b",
   "metadata": {},
   "source": [
    "# kya hai backend\n",
    "\n",
    "backend == Server(web server + application server) + Application(bole to code) + Database\n",
    "\n",
    "server:\n",
    "24/7 run hone waala computer \n",
    "\n",
    "web server:\n",
    "\n",
    "jispe hm apne web pages ko host krte hai bole html,css and js files/codes ko yahi server enn web pages html,css and JS fiules ko browser ko bhejta hai to render them if browser/user request for the web pages\n",
    "\n",
    "\n",
    "Application server:\n",
    "\n",
    "wah server jispe hm application/logic ko host krte hai bole to our backend code/files that can be written by using python,node.js(javascript) etc jo ki resposnible hota hai to response the request,and aane waale data from browser ko database me store krnaa aur database se data ko send krna to browser to display it to user\n",
    "\n",
    "\n",
    "Database:\n",
    "\n",
    "bole to ek computer system that store the data simple ya yu khu ki database refer to well structured and organized collection of data ya yu kahu ki this is where data is being retrieved and stored \n",
    "\n",
    "NOTE:\n",
    "\n",
    "1.at the end we need to connect web server(frontend) and application server(backend) and database to work together to run web     app properly. \n",
    "\n",
    "2.agar hmne ek web app nhi balki ek website banai hai means wehave only thml,css and js waali website tab hme kewl web server ki   need hoti hai but if we have a wep app then we need all three component "
   ]
  },
  {
   "cell_type": "markdown",
   "id": "7acd7d17",
   "metadata": {},
   "source": [
    "# world wide web(web)\n",
    "\n",
    "world wide web ko short term web bolte hai aur world wide web ya web ka mtlb hota hai the collection of interconnected things in case of internet web refer to the collection of inter connected documents(web pages) and other resources by any link or hyperlink simple\n",
    "\n",
    "ya mai simply ye kh skta hu ki internet ka ek aisa hissa/part jo bna hai with vast collection of inter-connected documents(web pages(html, css and js documnets/files)) and other resources(like images,audio and videos etc) by link or hyperlink jha pe hm chizo ki public kr skte hai aur access kr skte hai. aur essi part/hissa of internet ko world wide web ya simply web bolte hai"
   ]
  },
  {
   "cell_type": "markdown",
   "id": "aa5217bd",
   "metadata": {},
   "source": [
    "# backend technologies\n",
    "\n",
    "the tools/technologies that we need to build modern web app ya yu kahu ki backend\n",
    "1.node.js and NPM\n",
    "2.express.js\n",
    "3.EJS(embedded javascript)\n",
    "4.API\n",
    "5.sql\n",
    "6.postgresql\n",
    "7.mongodb with mongoose\n",
    "8.etc"
   ]
  }
 ],
 "metadata": {
  "kernelspec": {
   "display_name": "Python 3 (ipykernel)",
   "language": "python",
   "name": "python3"
  },
  "language_info": {
   "codemirror_mode": {
    "name": "ipython",
    "version": 3
   },
   "file_extension": ".py",
   "mimetype": "text/x-python",
   "name": "python",
   "nbconvert_exporter": "python",
   "pygments_lexer": "ipython3",
   "version": "3.9.13"
  }
 },
 "nbformat": 4,
 "nbformat_minor": 5
}
