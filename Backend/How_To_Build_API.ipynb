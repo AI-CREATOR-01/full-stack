{
 "cells": [
  {
   "cell_type": "markdown",
   "id": "bf5907d8",
   "metadata": {},
   "source": [
    "# alternative of \n",
    "import bodyParser from \"body-parser\";               ---------->>>>>>>>>> app.use(express.json());\n",
    "app.use(bodyParser.urlencoded({ extend: true }));\n",
    "\n",
    "parse ----->>> ka mtlb hota hai to read, analyze,extract relevant info/data and make it available so that we/application could                  interact with that data can perform some operation\n",
    "\n",
    "\n",
    "without app.use(express.json());\n",
    "\n",
    "req.body === undefined mtlb jha req.body hoga waha undefined dega\n",
    "\n",
    "with app.use(express.json());\n",
    "\n",
    "req.body === {key1:\"value1\", key2:\"value2\" etc } an object \n",
    "\n",
    "mtlb req.body property used to access ya yu kahu ki to make available data of request "
   ]
  },
  {
   "cell_type": "markdown",
   "id": "9dff6a86",
   "metadata": {},
   "source": [
    "architecture ------>>> bole to the fundamentals principal/set of rules/concept/design and the way the components of something                          organized and interact to each other to achieve specific goal"
   ]
  },
  {
   "cell_type": "markdown",
   "id": "dde17eff",
   "metadata": {},
   "source": [
    "# rest API\n",
    "\n",
    "also known as restful API so the rest/restful API is the API that follow the rest architecture\n",
    "\n",
    "rules:\n",
    "\n",
    "1. http methods(GET,POST,PUT,PATCH and DELETE) ----->> mtlb restfull api use http methods\n",
    "2. JSON                                        ----->> mtlb api json format me data ko serve kregi\n",
    "3. client-server                               ----->> mtlb client and server are not in same files/folder neither on same                                                              system\n",
    "4. stateless                                   ----->> means server only focus on current request it does not remember previus                                                          one mtlb Every request must contain all the information needed to                                                                understand and fulfill it on server side because it does not remember                                                            anything about previus request\n",
    "\n",
    "5. resource-based                              ----->> means Each resource in a RESTful API is uniquely identified by an URI                                                            (Uniform Resource Identifier)/endpoint\n",
    "\n",
    " "
   ]
  },
  {
   "cell_type": "markdown",
   "id": "1427f3ec",
   "metadata": {},
   "source": [
    "# dynamic endpoint vs static endpoint\n",
    "\n",
    "how they look like:\n",
    "\n",
    "dynamic endpoint ---->> http_method(\"/about/:sanit\")\n",
    "                        and to trigger this method we need to format an url kuchh aise see www.xyz.com/about/anything and then                           we can access this \"anything\" with req.params.sanit property on server side and then can apply condition                         on it that if req.params.sanit==\"this\" tabhi yah method kuch perform krega\n",
    "                        \n",
    "/:sanit          ---->> known to dynamic part of endpoint that represent the path parameter of requested URL\n",
    "\n",
    "static endpoint  ---->> http_method(\"/about\")\n",
    "\n",
    "\n",
    "\n",
    "\n",
    "NOTE:\n",
    "\n",
    "dynamic endpoint is created to handle such a requested URL that include path parameter but a requested URL that include query parameter can be handled by static endpoint"
   ]
  },
  {
   "cell_type": "markdown",
   "id": "0efb9e14",
   "metadata": {},
   "source": [
    "# NOTE:\n",
    "\n",
    "1. whenever a client make request to an URL tab tab main index.js(file server) execute hoti hai ya yu kahu main index.js ka har    ek line of code execute hota hai and request har ek http method ke thorough hote hue gujarti hai jabtak ki formatted            URL(requested url) http methods ke specified endpoint/url se match na kr jaaye \n",
    "\n",
    "2. req.query ----->>> prperty used to access the query specified in requested URL as an JS object\n",
    "\n",
    "3. req.params ------->>>>  property used to access the path parameters of requested URL as an JS object"
   ]
  },
  {
   "cell_type": "code",
   "execution_count": null,
   "id": "83a08c84",
   "metadata": {},
   "outputs": [],
   "source": []
  },
  {
   "cell_type": "markdown",
   "id": "e49e88fd",
   "metadata": {},
   "source": [
    "# get() vs post()\n",
    "\n",
    "get() ----->>> when we don't want to send any data for processing and want server to perform something then use get() method on                server side to handlle these type of request jinke case me data bhejne ki need nhi hoti \n",
    "\n",
    "post() ----->> but when we are making such a request jis case me we need to send data for processing and then we want server to                perform some operation like taking any action or sending resource then use post() method to handle these type of                request\n",
    "\n",
    "otherwise unexpected bahvior dekhne ko milega from server side.\n",
    "\n"
   ]
  },
  {
   "cell_type": "markdown",
   "id": "c64c5172",
   "metadata": {},
   "source": [
    "# NOTE:\n",
    "\n",
    "we can create dynamic endpoint for any kind of http methods on server side agr hme lgta hai ki kisi http method ko trigger krna chahiye with such a requested url that could conatain path parameter(query parameter ho bhi skta hai aur nhi bhi) then for that method create a dynamic endpoint on server side "
   ]
  },
  {
   "cell_type": "markdown",
   "id": "c3a0411d",
   "metadata": {},
   "source": [
    "# locals \n",
    "\n",
    "it is a property of res object jo khud ek object hota hai used to set variables ya yu khu ki to store the data for view folder so that any .ejs files can access these data while rendering ejs files for a request "
   ]
  },
  {
   "cell_type": "markdown",
   "id": "601110c1",
   "metadata": {},
   "source": [
    "# running server\n",
    "\n",
    "1. jaise hi hm server run krte hai bole to when we run main index.js file (that contain entire express.js logic ya yu kahu the      file that make/enable computer to a server ) then each line of code of this file executed and app.use() and app.http_method()    bole bole to middleware function and route handler only prepared not executed mtlb jab client will make request then only        app.use() method and only triggered http_method() will be  executed \n",
    "\n",
    "2. sidhi baaat wah lines of codes jo app.use() method and app.http_method() ke ander nhi hai wo saare lines of code execute        honge aur apna task perform krenge but the lines of codes jo ki app.use() and app.http_method() ke ander hai wo lines of        codes kewl prepared honge and become ready to listen event triggerd mtlb jab clinet will make request then request saare        app.use() method ke through hote hue jaayegi aur phir jab saarer app.use() methods execute ho lenege jis order me unhe          likha tha tab request sidha uss http_method() ke paass jaayegi jiska url/endpoint triggered hua tha \n",
    "\n",
    "3. so finally i can say that app.use() and app.http_method() will be prepared and baaki codes will be executed to set up the        environment of server\n",
    "\n",
    "4. app.use() takle two parameter (url) and a callback function agar ksi ek specific request/url ke liye app.use() ko execute        krna chahte hai to specify that ulr aur agr kewl calback function specify krte hai to har ek aane waali request ke liye          app.use() execute hoga. a callback function is necessary\n",
    "\n",
    "5. jaisa ki app.use() ek callback function leta hai jinko midleware function kha jaaata hai so agar middleware function in-built    function hai to no need to specify next() method within the function aur agar middleware function ek custom function hai then    we need to specify next() within this function otherwise request aage middleware or http_method() tak nhi phuch paayegi to      agge ke naahi middleware execute honge aur naahi triggerd http_method() execute honga aur phir browser me golu golu ghumta      hua dekhne ko milega"
   ]
  }
 ],
 "metadata": {
  "kernelspec": {
   "display_name": "Python 3 (ipykernel)",
   "language": "python",
   "name": "python3"
  },
  "language_info": {
   "codemirror_mode": {
    "name": "ipython",
    "version": 3
   },
   "file_extension": ".py",
   "mimetype": "text/x-python",
   "name": "python",
   "nbconvert_exporter": "python",
   "pygments_lexer": "ipython3",
   "version": "3.9.13"
  }
 },
 "nbformat": 4,
 "nbformat_minor": 5
}
