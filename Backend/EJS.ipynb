{
 "cells": [
  {
   "cell_type": "markdown",
   "id": "567ff93c",
   "metadata": {},
   "source": [
    "# NOTE:\n",
    "\n",
    "date-driven ------>> bole when something is done based on data ya yu kahu ki  when something use data to be happen ya yu kahu ki                      where decisions and actions are based on data analysis and interpretation ya yu kahu In a data-driven                            approach, data is used to take any action ya to make any decision \n",
    "\n",
    "data-driven website ---->>> A data-driven website is a website that utilizes/use data and information to dynamically generate                               ontent, make decisions ya yu kahu ki In a data-driven website, the design, content, and                                         functionality are influenced by real-time or stored data,"
   ]
  },
  {
   "cell_type": "markdown",
   "id": "cfb5733f",
   "metadata": {},
   "source": [
    "# EJS\n",
    "\n",
    "EJS is a templating language ya yu kahu ki templating engine. thik hai but what is key idea behind EJS means why we use it mtlb  yah krta hai ya esse hm kya kr skte hai see\n",
    "\n",
    "ya yu kahu ki EJS is way to mix/write JS code and HTML code together within a common  template(bole tpo pre-defined structure ya yu kahu ki ek aisa arrangenment jisme do ya do se adhik diff chize exist krti ho together )\n",
    "\n",
    "EJS stands for Embedded JavaScript. It is a templating engine/language for JavaScript that allows you to embed JavaScript code directly into your HTML files so that we could generate dynamic web pages/html pages/html files on server side and then could sent to client(browser) to render them ya yu kahu ki to create data-driven website ya data-driven web pages \n",
    "\n",
    "aaaiye isko thoda aur achhe se samajhte hai ::\n",
    "\n",
    "jaisa ki hm jaaante hai ki we create html pages ya yu kahu ki we create html files ya yu kahu we write html code to create/display content on web page/website so hm jo bhi content html tag ke ander likhte hai ya yu kahu ki hm jo kuchh bhi html tag(<tag_name></tag_name>) ke ander likhte hai hmtl usko ju ka tu dispaly kr deta hai but hm chahte hai ki html ke pass ek aisa power/feature ho jiski wajah se html apne ander usss data/information/content ko inject kr paaye jo kahi aur store hai ya kahi aur se aa rhe hai and can vary over the time aur phir enn data/information/content ko analys kr paaye interpret kr paaye aur phir ennko web page/website pe create/display kr paaaye rather than ki jo data/info/content hm statically type krte hai ya likte hai into html tag aur yah power HTML ko milti hai EJS SE so EJS hme kuch  special synatx/tag deta hai jiske ander hm JS code/expression ko like rhe hote hai to inject the data within html/html tag and then analys it interpret it and finaly display it to user \n"
   ]
  },
  {
   "cell_type": "markdown",
   "id": "d1462e78",
   "metadata": {},
   "source": [
    "# NOTE**\n",
    "\n",
    "1. jabhi hme dynamic web/html pages create krna ho then we use to create file with .ejs extension(taaki we could mix/write JS      and html code together) rather than .html aur inko ek views naam ke folders me rkhna hai(because we can not mix/write JS and    hmtl code together in like filname.html files)\n",
    "\n",
    "2. and to send these types of files we don't use sendFile() method balki we use render() method jo ki file ka name leta hai aur    ek JS object(data structure) jha se data ess file ko inject kiya jayega so basically ess object me hm unn data/variable ko      rkhte hai jinko ess file me inject krna chahte hai \n",
    "\n",
    "3. filename.ejs naamk files just html files hi hoti hai ya yu kahu ki .ejs extension is an another way to create html files jo      ki ek dynamic web pages ko create krengi\n",
    "\n",
    "4. so jaise hi hm .ejs extension se html files create krte hai waise hi EJS ki power/feature accessible hote hai to  these html    files aur phir hm we can mix/write JS and html code together \n",
    "\n",
    "5. agr hm dynaimc web page create nhi krna chhahte mtlb ek aisa web page jiska content/data/info static hai to aise web pages ko    create krne ke liye create html files with .html extension rather than .ejs extension\n",
    "\n",
    "6. so finally khudse puchh ki ek dynamic web page create krna chahta hu ya phir ek statuc web page aur phir ussi ke according      html files create krna hai by using .ejs or .html extension kyuki html files hi responsible hoti hai to create web              pages(static or dynamic or both) ya yu kahu ki html files hi responsible hoti hai to create/display content/data/info\n",
    "\n",
    "7. ek website/webapp is a collection of  multiple web pages(can be either static or dynamic or both) and web pages are created      by HTML CSS AND JS files ya yu kahu ki these web pages comes from html css and js files and these html css and js files can      be made up of either pure code or their corresponding libraries\n",
    "\n",
    "8. in main folder(project) craete public naam ka folder jisme static files rkhni hai like .html and css files images files ya      data files aur JS files but not main index.js jo responsible hai to send/render files ya yu kahu ki wah index.js file jisme      server create krne ka codes likha hua aur jo aane waali request aur data ko handle krta hai and also create views naam ka        folder jisme dynamic html files hongi (bole to .ejs files)"
   ]
  },
  {
   "cell_type": "markdown",
   "id": "26306e95",
   "metadata": {},
   "source": [
    "# how to use EJS\n",
    "\n",
    "1. sbse phle install EJS language support pluggin to our editor(vs code)\n",
    "2. install ejs \n",
    "3. create html files with .ejs extension and start writing JS and html code together to make web pages dynamic "
   ]
  }
 ],
 "metadata": {
  "kernelspec": {
   "display_name": "Python 3 (ipykernel)",
   "language": "python",
   "name": "python3"
  },
  "language_info": {
   "codemirror_mode": {
    "name": "ipython",
    "version": 3
   },
   "file_extension": ".py",
   "mimetype": "text/x-python",
   "name": "python",
   "nbconvert_exporter": "python",
   "pygments_lexer": "ipython3",
   "version": "3.9.13"
  }
 },
 "nbformat": 4,
 "nbformat_minor": 5
}
