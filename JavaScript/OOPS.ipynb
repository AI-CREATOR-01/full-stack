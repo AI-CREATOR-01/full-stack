{
 "cells": [
  {
   "cell_type": "markdown",
   "id": "28aae5e7",
   "metadata": {},
   "source": [
    "# programming\n",
    "\n",
    "yah ek process hai of designing and creating/building the set of instructions that a computer/human being follow to solve a particular problem ya can perform a task\n",
    "\n",
    "ya yu kahu ki programming ek tarika hai set of instructions ko taiyar krne ka taaki enn set of instructions ko follow krke hm/computer kisi particullar problem ko solve kr ske \n",
    "\n",
    "ya yu kahu ki programming ek tarika/process hai set of instrcution ko taiyar krne ka jo ki hme ya computer ko batayenge ki kya krna hai aur kaise krna hai mtlb kya/kaunsi problem solve krni hai aur kaise krni hai AUR phir finally computer unn instrcuction ko execute krke uss task ko achievce keleta hai \n",
    "\n",
    "1. designing          ----->> planning and creating of a blueprint\n",
    "2. building/creating  ----->> actual implementation or construction of product\n",
    "3. instrcution        ----->> bole to a complete sentence/script or set of sentences that tell us or to computer what to do and                               how to do\n",
    "4. sentence           ----->> bole to collection/sequence of written or spoken words/characters \n",
    "\n",
    "NOTE: \n",
    "1. action/operation/activity/process bole to what to do and how to do\n",
    "2. so finally i can say that :-\n",
    "\n",
    "3. so finsally instrcution bole to kuchh bolna ya likhna ya simple kahu ki kuchh words/characters/sentences ko bolna ya likhna      jinko follow krke kisi problem ko solve kiya jaa ske mtlb computer kr ske usko instruction bolte hai\n",
    "\n",
    "NOTE:\n",
    "\n",
    "1. set of instruction ko hi code/codes bolte hai and vice versa \n",
    "2. set of instructions taiyar krna === writting and organizing the codes and vice versa\n",
    "\n",
    "NOTE:\n",
    "\n",
    "1. jab hm saare instrcutions ko taiyar kr lete hai jo milke ek problem ko solve kr rhe hote hai ya ek task ya multiple tasks        perform kr rhe hota hai tab unn instruction ko collectively program/application/app/software bolte hai \n",
    "\n",
    "2. so jabhi koi bole set of instruction/instruction taiyar krna  ya codes likhna ya program likhna all are same things \n",
    "\n",
    "final touch:\n",
    "\n",
    "1. programming is all about designing and building the set of instructions(also known as writing and organizing the codes) that    computer follow to solve a particular problem ya yu kahu ki to perform a task\n",
    "\n",
    "2. set of instruction taiyar krna ya command taiyar krna ya yu kahu ki computer ko set of instrcution dena ya command dena          knowna as prograsmming aur phir unn diye gye set of  instruction/commands ko execute krta hai to perform that task jiske liye    enn set of iunstcruction/commnd ko diya/taiyar kiya gya tha"
   ]
  },
  {
   "cell_type": "markdown",
   "id": "757d9318",
   "metadata": {},
   "source": [
    "# NOTE\n",
    "\n",
    "1. ab jaisa ki hm jaante hai ki kisi bhi problem ko solve krne ke liye ya kisi bhi task ko perform krne ke liye ya yu kahu ki      computer se krwane ke liye we buiild set of instrcution that computer follow/execute to perform a task \n",
    "\n",
    "2. ab ek instruction ko build krne ke kai tarike/approach ho skte hai aur enn approach/tariko ko techicaly paradigm bolte hai      aur further enn paradigm ko naaam bhi dete hai jaise OOPS, procedural, functional programming etc."
   ]
  },
  {
   "cell_type": "markdown",
   "id": "e998b4fa",
   "metadata": {},
   "source": [
    "# NOTE:\n",
    "\n",
    "1. designing and building the set of instrcution also known as writing and organizing the codes jinko computer follow/execute      krta hai to solve a particular problem or perform a task\n",
    "\n",
    "2. now designing and building a instrcution ya yu kahu ki writing and organizing the codes can have different ways/approach also    named as paradigm/programming paradigm and further these paradigm have different names like OOPS, PROCEDURAL,FUCTIONAL          PROGRAMMING ETC.\n",
    "\n"
   ]
  },
  {
   "cell_type": "markdown",
   "id": "53f8e3fb",
   "metadata": {},
   "source": [
    "# NOTE:\n",
    "3. programming paradigm ----->>> bole to how we design and build the set of instrcution ya yu kahu how we write and organize the                                  codes that we/computer follow to solve a particular problem or to perform a task kyuki ek hi                                    instruction ko desing and build krne ke kai tarike/method/approach ho skte hai that's the                                        reason a programing lanmguage have multiple programming paradigm(way/approach/tarike/method)\n",
    "\n",
    "4. why multiple programming paradigm developed or exist:\n",
    "\n",
    "   there is only one reason or goal behind developing and existence of multiple programming paradigm and that is  organizing the    codes/instructions to make it more flexible and easier to maintain"
   ]
  },
  {
   "cell_type": "markdown",
   "id": "0ac7b019",
   "metadata": {},
   "source": [
    "# OOPS\n",
    "\n",
    "1. oops is programming paradigm that use object ya yu kahu oops is programming paradigm in  which we use object to solve a          problem by designing and building the set of instruction \n",
    "\n",
    "1.  Object-oriented programming (OOP) is a programming paradigm that uses the concept of \"objects\" to write and organize code.\n",
    "\n",
    "2. object may contain data(properties) and code(method) by using object we can pack data and corresponding behaviour into one      block\n",
    "\n",
    "3. objects are self contained pieces/blocks of code\n",
    "\n",
    "4. so jo bhi datas and instructions/codes(methods) ki need hoti hai to solve a particular problem  unn sabhi datas and              instructions/codes(methods) ko ek ya ek se adhik block me pack kr dete hai by using objects \n",
    "\n",
    "5. further objects can interact with one another  through API\n",
    "\n",
    "6. but ye object bnte kaise hai ya yu kahu ki ye object bnate kaise hai taaaki datas and methods ko ek block me pack kr ske by      using them then OOPS me objects ko bnate hai class ki help se \n",
    "\n",
    "7. ab ye class kya hai so class ek blueprint hai blueprint bole to a well detailed plan where nothing is tangible used to create    objects\n",
    "\n",
    "8. but how do we actually design a class ya yu kahu ki how do we actually model(describe) real-world datas and corresponding        methods into class taaki further unn datas and correspondings methods ko ek block me ya yu kahu ki ek object me pack kr ske      then we do so by using four fundamentals oops principals  \n",
    "\n",
    "9. so finally classe is used to :-\n",
    "   1. model(describe) the datas and correspondings methods into it\n",
    "   2. to create objects \n",
    "   \n",
    "10. but how :\n",
    "    class me datas and corrrespondings methods ko model/describe krte hai aur jaise hi uss class se object creaate krte hai wo       saare data and correspondings methods usss created object me pack ho jaate hai and now we communicate with that object to       perform a task aur aise kreke hm bde se codes ko chhote chhote unit/block/object me pack/tod skte hai taaki entire codes ek     dusre pe dependent ne rhe aur essi ko bolte hai that oop use object to organize the codes to make it more flexible and           mainainable"
   ]
  },
  {
   "cell_type": "markdown",
   "id": "e4539b3d",
   "metadata": {},
   "source": [
    "# concept\n",
    "\n",
    "1. OOPS EK programming paradigm hai aur ek programing paradigm ko ek hi purposeke liye developed kiya jaaata hai and that is to    organize the code to make it more flexible and maintainable.\n",
    "\n",
    "2. so oop use object to organize the code. "
   ]
  },
  {
   "cell_type": "code",
   "execution_count": null,
   "id": "f2aa30e9",
   "metadata": {},
   "outputs": [],
   "source": []
  },
  {
   "cell_type": "markdown",
   "id": "b5d3fa34",
   "metadata": {},
   "source": [
    "# OOPS IN JS\n",
    "\n",
    "1. oops in js work little bit different than traditional oops kyuki\n",
    "\n",
    "2. jaisa ki hm jkaaante hai ki datas(attributres and methods) ko describe krne ke liye and object create krne ke liye classe ko    build/use krte hai\n",
    "\n",
    "3. but in case of js we don't use classe instead we use construction function to describe the datas and to create objects to        pack those datas into a single block/unit \n",
    "\n",
    "4. inheritance work different because in js ek object dusre special object se properties ko inherit krta hai jisko prototype        object bolte hai \n"
   ]
  },
  {
   "cell_type": "code",
   "execution_count": null,
   "id": "7e32c523",
   "metadata": {},
   "outputs": [],
   "source": []
  },
  {
   "cell_type": "markdown",
   "id": "a38b7a08",
   "metadata": {},
   "source": [
    "# NOTE:***************************************\n",
    "\n",
    "simple sa funda hai jo datas(attributes and methods) ya yu kahu ki jo line of codes hm procedural way me likhte hai mtlb in global scope aur in any function unn sabhi line of codes ko ek class/constructor function me likho instead of global scope and function aur phir uss class/constructor function se object create krlo taaki jobhi data(attributes and methods) ko usss class/constructor function me model/describe kiya tha  unko ek created object me pack kr ske aur phir created object se communicate kre to perform a  task yahi hai OOPS"
   ]
  },
  {
   "cell_type": "code",
   "execution_count": null,
   "id": "bcd4ccde",
   "metadata": {},
   "outputs": [],
   "source": []
  },
  {
   "cell_type": "markdown",
   "id": "11eb15b0",
   "metadata": {},
   "source": [
    "# everything is object\n",
    "\n",
    "means except primitive everything is just an object in JS mtlb set,array,map and function all are just an object mtlb jaise hm ek object ko properties add krte hai by using dot(.) thik ussi prakar we can add properites to array,set,map and function using dot(.) notation"
   ]
  },
  {
   "cell_type": "markdown",
   "id": "83b78369",
   "metadata": {},
   "source": [
    "# methods\n",
    "\n",
    "1. indexOf(para1,para2)\n",
    "2. hasOwnProperty(para1)"
   ]
  },
  {
   "cell_type": "markdown",
   "id": "018c29fe",
   "metadata": {},
   "source": [
    "# arguments keyword"
   ]
  },
  {
   "cell_type": "markdown",
   "id": "f279b3f0",
   "metadata": {},
   "source": [
    "# new keyword\n",
    "\n",
    "new kwyword ka use construction function ko call krne ke liye use krte hai aur jaise hi new kwyword ka use krte hai 5 chize hoti hai:-\n",
    "\n",
    "1. empty object created \n",
    "2. set this keyword to empty object mtlb jo this keyword constructiion function ke ander use hua hai usko set to newly created      empty object\n",
    "3. link to prototype mtlb newly created empty object ko construction function ke prototyoe se link krna\n",
    "4. execution of construction function\n",
    "5. return of that object mtlb jha pr constrcuioin funcion call hua using new keyword wha pr object return ho jaayega"
   ]
  },
  {
   "cell_type": "code",
   "execution_count": null,
   "id": "3e77c3ba",
   "metadata": {},
   "outputs": [],
   "source": []
  },
  {
   "cell_type": "markdown",
   "id": "a2d7699c",
   "metadata": {},
   "source": [
    "# Student.prototype==Object.create(Person.prototype)\n",
    "\n",
    "let understand it what exactly happening here or we are trying to do:-\n",
    "\n",
    "1. phli baat ki Student and Person are constructor function\n",
    "2. jabhi hm ek constructor function build krte hai tab uss constructor function ka prototype property gone set to an empty          object initially aur yah empty object further last prototype object se connected/linkauft hota and that is Object.prototype\n",
    "\n",
    "3. ab jaisa ki hm jaan gye hai ki initially prototype property of a constcructor function gone set to an empty object to kyu na    hm manually ek empty object ko set kre to prototype property of that constructor function taaki ees empty object ko last        prototype object se phle kisi aur object se link kr paaye aur phir yah object jaake last prototype object se link ho\n",
    "   so aise krke hmne kuchh aisi chain bnali see\n",
    "   \n",
    "   prototype:empty_object---(link to)-->>>another_object or another_prototype------(link to)------>>Object.prototype\n"
   ]
  },
  {
   "cell_type": "markdown",
   "id": "d090ea6a",
   "metadata": {},
   "source": [
    "# NOTE:\n",
    "\n",
    "1. let we create an object using a constructor function then that object is known as instance of that constructor function but      agr wahi object aur bhi constructor function ke prototype se link hai tab wahi object unn sabhi constrcutor function ka bhi      instance kahlaayega\n",
    "\n",
    "2. A.prototype == Object.create(B.prototype) ess case me \n",
    "   A.prototype.constructor will be equal to B not A so we need to do one more thing manuallly that is \n",
    "   A.prototype.constructor==A agr hm kuchh aisa krte hai to see A.prototype == Object.create(B.prototype)"
   ]
  }
 ],
 "metadata": {
  "kernelspec": {
   "display_name": "Python 3 (ipykernel)",
   "language": "python",
   "name": "python3"
  },
  "language_info": {
   "codemirror_mode": {
    "name": "ipython",
    "version": 3
   },
   "file_extension": ".py",
   "mimetype": "text/x-python",
   "name": "python",
   "nbconvert_exporter": "python",
   "pygments_lexer": "ipython3",
   "version": "3.9.13"
  }
 },
 "nbformat": 4,
 "nbformat_minor": 5
}
