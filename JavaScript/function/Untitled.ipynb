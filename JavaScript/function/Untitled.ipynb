{
 "cells": [
  {
   "cell_type": "markdown",
   "id": "50e54851",
   "metadata": {},
   "source": [
    "# default parameter\n",
    "\n",
    "basically ek parameter hi hota hai jiske pass default value ya any executable JS codes ho skta hai ya fuction bhi  "
   ]
  },
  {
   "cell_type": "code",
   "execution_count": null,
   "id": "84954600",
   "metadata": {},
   "outputs": [],
   "source": []
  },
  {
   "cell_type": "markdown",
   "id": "0b95f85b",
   "metadata": {},
   "source": [
    "# how passsing arguments works\n",
    "\n",
    "1. case 1 passing primitive\n",
    "   chahe"
   ]
  },
  {
   "cell_type": "code",
   "execution_count": null,
   "id": "d491d33b",
   "metadata": {},
   "outputs": [],
   "source": []
  },
  {
   "cell_type": "markdown",
   "id": "4b477e93",
   "metadata": {},
   "source": [
    "# call,apply and bind"
   ]
  }
 ],
 "metadata": {
  "kernelspec": {
   "display_name": "Python 3 (ipykernel)",
   "language": "python",
   "name": "python3"
  },
  "language_info": {
   "codemirror_mode": {
    "name": "ipython",
    "version": 3
   },
   "file_extension": ".py",
   "mimetype": "text/x-python",
   "name": "python",
   "nbconvert_exporter": "python",
   "pygments_lexer": "ipython3",
   "version": "3.9.13"
  }
 },
 "nbformat": 4,
 "nbformat_minor": 5
}
