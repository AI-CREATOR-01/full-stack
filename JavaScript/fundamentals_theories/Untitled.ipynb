{
 "cells": [
  {
   "cell_type": "markdown",
   "id": "b9a8c344",
   "metadata": {},
   "source": [
    "# linking JS\n",
    "\n",
    "\n",
    "1. inline way\n",
    "\n",
    "   <script>\n",
    "    write here JS logic\n",
    "   <script/>\n",
    "    place this tag just before body tag\n",
    "    \n",
    "2. external way\n",
    "    \n",
    "   <script src=\"JS_file_path\"><script/>"
   ]
  },
  {
   "cell_type": "markdown",
   "id": "e744a6e7",
   "metadata": {},
   "source": [
    "# ////////////////////////// VALUES AND VARIABLES /////////////////////////////\n",
    "\n",
    "value       --->>> is just a piece of data/information\n",
    "variable    --->>> named storage location that hold values\n",
    "\n",
    "NAMING CONVENTION:\n",
    "\n",
    "1. variable name should be in camel case see\n",
    "   firstName,latsName etc\n",
    "\n",
    "2. variable should containe only letters,numbers,underscore(_) and dollar sign($)\n",
    "\n",
    "3. but a variable can never start with number \n",
    "\n",
    "4. variable name should not match with any reserved keyword of JS like name is a reserved keyword but legal to use but for          sometimes it can give unexpected error\n",
    "\n",
    "5. variable name should be descriptive bole to meaningfull"
   ]
  },
  {
   "cell_type": "markdown",
   "id": "e26494cd",
   "metadata": {},
   "source": [
    "# data types\n",
    "\n",
    "type of category of data/value that varaible can  represent/hold ya simple kahu ki ek variable me kis type/category ke data/value/info ko store kr sakte hai then in JS onloy there are two types of data/value that we can store to a variable kyuki jab hm ek variabke banate hai tab usss variable me kuch bhi store nhi kr skte hai \n",
    "\n",
    "NOTE:\n",
    "\n",
    "in case of JS value ya to object hoti hai ya phir primitive \n",
    "\n",
    "NOTE:\n",
    "\n"
   ]
  },
  {
   "cell_type": "markdown",
   "id": "1e7ed6e1",
   "metadata": {},
   "source": [
    "# dynamic typing:\n",
    "\n",
    "mtlb while storing the value to a variable we don't need to manually define the type of value aur iska ek fayda ye hai ki agr kisi ek variable me phle number store tha then later we can store a string to that variable no issue but it can also lead a source of difficulty to find bug in our code"
   ]
  },
  {
   "cell_type": "code",
   "execution_count": null,
   "id": "b9351d22",
   "metadata": {},
   "outputs": [],
   "source": []
  },
  {
   "cell_type": "markdown",
   "id": "75be76ee",
   "metadata": {},
   "source": [
    "# type conversion and coesrion\n",
    "\n",
    "\n",
    "1. when we have string that can be converted to a valid numeric value see\n",
    "   '100'+,-,/,* '100'\n",
    "   '100'+,/,*,%,**,- 100 kuchh aisa tab implicit conversion hota hai \n",
    "   \n",
    "   a. +     --->> convert number to string beacuse show concatenation\n",
    "   b. -,*,/ --->> convert string to number \n",
    "\n",
    "2. when we place extra + or - sign just before any value\n",
    "\n",
    "   a. in case of + sign \n",
    "   \n",
    "      when we place a + sign just before any value/operand then it conevert that to number If the operand is a string that can         be converted to a valid numeric value like \"100\" etc \n",
    "   \n",
    "   b. in case of - sign \n",
    "      it convert the operand to a negative number If the operand is a string that can be converted to a valid numeric value\n",
    "      \n",
    "NOTE:\n",
    "\n",
    "just apply the concept of (-a)x(b) == -ab \n",
    "                          (-a)x(-b)==  ab\n",
    "                          \n",
    "so finally i can say that when we place + ya - sign just before nay value/operand then both convert them into a number If the operand is a string that can be converted to a valid numeric value ab ab value +ve hongi ya -ve dpend upon the above concept \n",
    "because +'40'==(+1)x('40')== 40 not actually but we can think something like that \n",
    "        -'40'==(-1)x('40')== -40 baaki remember first concept\n",
    "\n",
    "NOTE: If the operand is a string but that can not be converted to a valid numeric value like \"hello6438hey\" etc the we will get       NaN mtlb +'hello' apni jagah NaN return krega but +'100' will return 100 int simple \n",
    "      NaN --->>> not a number aur yah ek number data type hota hai\n",
    "      NULL -->>> datatype object\n",
    "      undefined ---->> datatype undefined and a value as well "
   ]
  },
  {
   "cell_type": "markdown",
   "id": "3177edda",
   "metadata": {},
   "source": [
    "# Operators\n",
    "are special symbols that can perform an action/actions on operands/values/conditions jaise + operator jo ki ek arithmatic operator hai yah do ya do se adhik numerical values ko combine krta hai aur phir unka addition return krta hai as unified/integrated result"
   ]
  },
  {
   "cell_type": "markdown",
   "id": "dab4afb0",
   "metadata": {},
   "source": [
    "# truthy and falsy value\n",
    "falsy values are values that are not exactly false balki when we try to convert them into a boolean then they become false\n",
    "\n",
    "five falsy values:\n",
    "\n",
    "1. empty string\n",
    "2. 0\n",
    "3. undefined\n",
    "4. null \n",
    "5. NaN\n",
    "6. false\n",
    "\n",
    "inke alawa baaki sb truthy values hoti hai "
   ]
  },
  {
   "cell_type": "markdown",
   "id": "dd61e518",
   "metadata": {},
   "source": [
    "# boolean logic and boolean/logical operator\n",
    "\n",
    "1. boolean values             ---->> true and false\n",
    "1. boolean/logical operator   ---->> &&(AND), ||(OR) and !(NOT)\n",
    "\n",
    "1. boolean logic is branch of computer scienece that use boolean values(true and false values) and boolean/logical                  operators(&&,|| and !) to solve complex logical problem \n",
    "\n",
    "2. the situation/problem for which we use true and false values with logical operator to solve them known as logical problems\n",
    "\n",
    "3. boolean/logic operators are symbols that are used to combine the boolean values ya simply  kahu ki used to bring                condition/values/operands/operations together to give a unified/integrated result to  solve complex logical operator jaise      +,-,etc used to combine numerical values to give a unified/integrated result\n"
   ]
  },
  {
   "cell_type": "code",
   "execution_count": null,
   "id": "de32a218",
   "metadata": {},
   "outputs": [],
   "source": []
  },
  {
   "cell_type": "code",
   "execution_count": null,
   "id": "2fa35c38",
   "metadata": {},
   "outputs": [],
   "source": []
  }
 ],
 "metadata": {
  "kernelspec": {
   "display_name": "Python 3 (ipykernel)",
   "language": "python",
   "name": "python3"
  },
  "language_info": {
   "codemirror_mode": {
    "name": "ipython",
    "version": 3
   },
   "file_extension": ".py",
   "mimetype": "text/x-python",
   "name": "python",
   "nbconvert_exporter": "python",
   "pygments_lexer": "ipython3",
   "version": "3.9.13"
  }
 },
 "nbformat": 4,
 "nbformat_minor": 5
}
