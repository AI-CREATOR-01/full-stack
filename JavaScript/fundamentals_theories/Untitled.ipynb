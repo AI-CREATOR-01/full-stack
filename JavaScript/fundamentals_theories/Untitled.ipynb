{
 "cells": [
  {
   "cell_type": "markdown",
   "id": "b9a8c344",
   "metadata": {},
   "source": [
    "# linking JS\n",
    "\n",
    "\n",
    "1. inline way\n",
    "\n",
    "   <script>\n",
    "    write here JS logic\n",
    "   <script/>\n",
    "    place this tag just before body tag\n",
    "    \n",
    "2. external way\n",
    "    \n",
    "   <script src=\"JS_file_path\"><script/>"
   ]
  },
  {
   "cell_type": "markdown",
   "id": "e744a6e7",
   "metadata": {},
   "source": [
    "# ////////////////////////// VALUES AND VARIABLES /////////////////////////////\n",
    "\n",
    "value       --->>> is just a piece of data/information\n",
    "variable    --->>> named storage location that hold values\n",
    "\n",
    "NAMING CONVENTION:\n",
    "\n",
    "1. variable name should be in camel case see\n",
    "   firstName,latsName etc\n",
    "\n",
    "2. variable should containe only letters,numbers,underscore(_) and dollar sign($)\n",
    "\n",
    "3. but a variable can never start with number \n",
    "\n",
    "4. variable name should not match with any reserved keyword of JS like name is a reserved keyword but legal to use but for          sometimes it can give unexpected error\n",
    "\n",
    "5. variable name should be descriptive bole to meaningfull"
   ]
  },
  {
   "cell_type": "markdown",
   "id": "e26494cd",
   "metadata": {},
   "source": [
    "# data types\n",
    "\n",
    "type of category of data/value that varaible can  represent/hold ya simple kahu ki ek variable me kis type/category ke data/value/info ko store kr sakte hai then in JS onloy there are two types of data/value that we can store to a variable kyuki jab hm ek variabke banate hai tab usss variable me kuch bhi store nhi kr skte hai \n",
    "\n",
    "NOTE:\n",
    "\n",
    "in case of JS value ya to object hoti hai ya phir primitive \n",
    "\n",
    "NOTE:\n",
    "\n"
   ]
  },
  {
   "cell_type": "markdown",
   "id": "1e7ed6e1",
   "metadata": {},
   "source": [
    "# dynamic typing:\n",
    "\n",
    "mtlb while storing the value to a variable we don't need to manually define the type of value aur iska ek fayda ye hai ki agr kisi ek variable me phle number store tha then later we can store a string to that variable no issue but it can also lead a source of difficulty to find bug in our code"
   ]
  },
  {
   "cell_type": "code",
   "execution_count": null,
   "id": "b9351d22",
   "metadata": {},
   "outputs": [],
   "source": []
  },
  {
   "cell_type": "markdown",
   "id": "75be76ee",
   "metadata": {},
   "source": [
    "# type conversion and coesrion\n",
    "\n",
    "\n",
    "1. when we have string that can be converted to a valid numeric value see\n",
    "   '100'+,-,/,* '100'\n",
    "   '100'+,/,*,%,**,- 100 kuchh aisa tab implicit conversion hota hai \n",
    "   \n",
    "   a. +     --->> convert number to string beacuse show concatenation\n",
    "   b. -,*,/ --->> convert string to number \n",
    "\n",
    "2. when we place extra + or - sign just before any value\n",
    "\n",
    "   a. in case of + sign \n",
    "   \n",
    "      when we place a + sign just before any value/operand then it conevert that to number If the operand is a string that can         be converted to a valid numeric value like \"100\" etc \n",
    "   \n",
    "   b. in case of - sign \n",
    "      it convert the operand to a negative number If the operand is a string that can be converted to a valid numeric value\n",
    "      \n",
    "NOTE:\n",
    "\n",
    "just apply the concept of (-a)x(b) == -ab \n",
    "                          (-a)x(-b)==  ab\n",
    "                          \n",
    "so finally i can say that when we place + ya - sign just before nay value/operand then both convert them into a number If the operand is a string that can be converted to a valid numeric value ab ab value +ve hongi ya -ve dpend upon the above concept \n",
    "because +'40'==(+1)x('40')== 40 not actually but we can think something like that \n",
    "        -'40'==(-1)x('40')== -40 baaki remember first concept\n",
    "\n",
    "NOTE: If the operand is a string but that can not be converted to a valid numeric value like \"hello6438hey\" etc the we will get       NaN mtlb +'hello' apni jagah NaN return krega but +'100' will return 100 int simple \n",
    "      NaN --->>> not a number aur yah ek number data type hota hai\n",
    "      NULL -->>> datatype object\n",
    "      undefined ---->> datatype undefined and a value as well "
   ]
  },
  {
   "cell_type": "markdown",
   "id": "3177edda",
   "metadata": {},
   "source": [
    "# Operators\n",
    "are special symbols that can perform an action/actions on operands/values/conditions jaise + operator jo ki ek arithmatic operator hai yah do ya do se adhik numerical values ko combine krta hai aur phir unka addition return krta hai as unified/integrated result"
   ]
  },
  {
   "cell_type": "markdown",
   "id": "dab4afb0",
   "metadata": {},
   "source": [
    "# truthy and falsy value\n",
    "falsy values are values that are not exactly false balki when we try to convert them into a boolean then they become false\n",
    "\n",
    "five falsy values:\n",
    "\n",
    "1. empty string\n",
    "2. 0\n",
    "3. undefined\n",
    "4. null \n",
    "5. NaN\n",
    "6. false\n",
    "\n",
    "inke alawa baaki sb truthy values hoti hai "
   ]
  },
  {
   "cell_type": "markdown",
   "id": "dd61e518",
   "metadata": {},
   "source": [
    "# boolean logic and boolean/logical operator\n",
    "\n",
    "1. boolean values             ---->> true and false\n",
    "1. boolean/logical operator   ---->> &&(AND), ||(OR) and !(NOT)\n",
    "\n",
    "1. boolean logic is branch of computer scienece that use boolean values(true and false values) and boolean/logical                  operators(&&,|| and !) to solve complex logical problem \n",
    "\n",
    "2. the situation/problem for which we use true and false values with logical operator to solve them known as logical problems\n",
    "\n",
    "3. boolean/logic operators are symbols that are used to combine the boolean values ya simply  kahu ki used to bring                condition/values/operands/operations together to give a unified/integrated result to  solve complex logical operator jaise      +,-,etc used to combine numerical values to give a unified/integrated result\n"
   ]
  },
  {
   "cell_type": "code",
   "execution_count": null,
   "id": "de32a218",
   "metadata": {},
   "outputs": [],
   "source": []
  },
  {
   "cell_type": "markdown",
   "id": "7f317110",
   "metadata": {},
   "source": [
    "# Object\n",
    "\n",
    "1. an object can have either attribute or methods or both \n",
    "2. key: exp pair\n",
    "2. attribute and methods collectively known as properties\n",
    "3. when we try to access any object property using either dot(.) or square bracket[] then uss key ke corresponding jo kuchh bhi    store honga wah apni jagah return krdega\n",
    "\n",
    "4. agr hme kisi object ki properties ko use krna hai for a funcction/method jisko yah object call kr rha hai then we can use        this.property_name\n",
    "\n",
    "5. this keyword has access of all properties of the object that call method in which we have specified the this keyword \n",
    "\n",
    "6. an object can call any function/method whether that function/method belong to the callling object or to an another object or    even that is any exeternal regular function/method\n"
   ]
  },
  {
   "cell_type": "code",
   "execution_count": null,
   "id": "ac4a7263",
   "metadata": {},
   "outputs": [],
   "source": []
  },
  {
   "cell_type": "markdown",
   "id": "f68ba946",
   "metadata": {},
   "source": [
    "# higher order function and it's callback function\n",
    "\n",
    "// Higher-order function\n",
    "\n",
    "function higherOrderFunction(callback) {\n",
    "  // Step 1: Some logic or operations before the callback\n",
    "\n",
    "  // Step 2: Invoking the callback function\n",
    "  let result = callback(3, 4);\n",
    "\n",
    "  // Step 3: More logic or operations after the callback\n",
    "\n",
    "  // Step 4: Returning a result or using it in some way\n",
    "  return result;\n",
    "}\n",
    "\n",
    "// Callback function\n",
    "\n",
    "function callbackFunction(x, y) {\n",
    "  // Step 5: Logic within the callback function\n",
    "  return x * y;\n",
    "}\n",
    "\n",
    "// Using the higher-order function with the callback\n",
    "let finalResult = higherOrderFunction(callbackFunction);\n",
    "\n",
    "// Step 6: Logging the final result\n",
    "console.log(finalResult);\n",
    "\n",
    "\n",
    "1. mtlb simple hai jaise ki hm jaante hai ki ek callback function ek certain time ke baad ya certain operation perform hone ke      baaad hi higher order function isko call/execute krta hai wo kaise hota hai so simple jo bhi operation callback function ke      execute se phle chahte hai unko within higher order function callback ke invoke se phle likhdo simple aise hi HOF and it's      callback function work\n",
    "\n",
    "2. jabhi hm koi function ko pass krte hai as an argument to another function(HOF) then decide ki kaunsa parameter of HOF wil        point/represent that function we can also pass directly arrow function as an argument aur phir jo parameter ess function ko      represent krerga usko  ek function ki tarah invoke krna pdega tabhi passed kiya gya function as an argument will work see how\n",
    "\n",
    "// Custom Higher-Order Function with Inline Callback\n",
    "function processNumbers(numbers, callback) {\n",
    "  const processedNumbers = [];\n",
    "\n",
    "  // Loop through the array and apply the inline callback to each element\n",
    "  for (let i = 0; i < numbers.length; i++) {\n",
    "    processedNumbers.push(callback(numbers[i]));\n",
    "  }\n",
    "\n",
    "  // Return the result\n",
    "  return processedNumbers;\n",
    "}\n",
    "\n",
    "// Example Usage with Inline Callback\n",
    "const inputNumbers = [1, 2, 3, 4, 5];\n",
    "const squaredNumbers = processNumbers(inputNumbers, (number) => number * number);\n",
    "\n",
    "console.log(squaredNumbers);\n",
    "\n"
   ]
  },
  {
   "cell_type": "markdown",
   "id": "7c397a09",
   "metadata": {},
   "source": [
    "# kahaaani callback function ki \n",
    "\n",
    "\n",
    "jaisa ki hm jaante hai ki jab hm ek function ko call/invoke krte hai tab usss function ke line of code/operation one by one execute hote hai but hm chahte hai ki kuchh lines of codes/operation uss function se phle execute ho aur ye lines of codes/operations and that functiuon  ek function ke ander hone chahiye aur uss function ko as an argument pass krna hai "
   ]
  },
  {
   "cell_type": "code",
   "execution_count": null,
   "id": "92745e5f",
   "metadata": {},
   "outputs": [],
   "source": []
  },
  {
   "cell_type": "markdown",
   "id": "72dacaac",
   "metadata": {},
   "source": [
    "# data structure\n",
    "\n",
    "atomic structure ----->> bole to atom ka structure mtlb how parts of an atom are arranged and organized aur phir uss complete                            structure ko hm atomic structure bulate hai\n",
    "\n",
    "data structure  ------>> data bole to collection of chhote chhote piece of information/fact and structure bole to how this                                chhote chhote piece of information are arranged and organized then the complete structure we get to see                          after the arrangement of all parts known as data structure \n",
    "\n",
    "data structure is a way to store and organize the data aur jab hm data ko store and organize krlete hai tab data bka ek proper structure nazar aa rha hota hai to uss structure ko ek naam dete hai ya yu kahu ki uss data structure ko ek naam dete hai jaise agar hm apne data ko ek [] square bracket ke ander store and organize krte hai tab hm usss structure/data structure ko array bulate hai \n",
    "\n",
    "NOTE:\n",
    "\n",
    "so finally i can say that we build/create data structure to represent/store the data ya we store the data into a data strcuture dono ek hi baat hai "
   ]
  },
  {
   "cell_type": "markdown",
   "id": "51cf8169",
   "metadata": {},
   "source": []
  },
  {
   "cell_type": "markdown",
   "id": "6e0e4bf3",
   "metadata": {},
   "source": [
    "# compilation vs interpretation vs JIT\n",
    "\n",
    "1. RAM is act as intermediate between hard drive(ssd bole to long term memory that store the data/info permananently)and CPU \n",
    "   When you open an application or run a program, the relevant data and instructions are loaded into RAM from the hard drive.\n",
    "   \n",
    "2. everything jsut stored in hard drive or hard drive dsik HDD bole to long term memory like SSDs means all info/data/non-          executable file /executable file /any prograam are stored in hard drive aur jabhi hum kuchh run krte hai ya yu kahu ki jabhi    CPU koi programm run krta hai tab uss entire programm ko ya phir related info/file/data upload kr dtea hai to RAM aur phir      execute/run krta hai taaki baar baar required chizo ko hard drive se na lena pade\n",
    "\n",
    "let understand thorugh with examples:\n",
    "\n",
    "let i run a chrome the cpu upload all related info/codes to ram to run it aur chunki v8 engine bhi chrome ka part hai to v8 engine bhi upload ho  jaata hai \n",
    "\n",
    "compilation:\n",
    "\n",
    "sbse phle hm apna code likhte hai jo ki ek file me save hota hai aur yah file obiously hard drive me hoti hai so jaise hi hm ess file ko run krte hai CPU upload this file to RAM first aur V8 engine bhi aur phir V8 engine start executing this file/codes so now v8 engine esss entire source code ko machine code me convert krta hai aur ess entire machine codes ko ek portable file me save/store kr deta hai aur yah file hoti hai in hard drive naaaki RAM me (kyuki har chiiz hard me hi store hoti hai kewl runtime ke samay hi uploaded to RAM) aur jab ess file ko run/open/start krte hai tab yah file uploaded to RAM and then final execution start \n",
    "\n",
    "\n",
    "interpretation:\n",
    "\n",
    "likha gya codes hard drive ke kisi file/folder me store/save hota hai jaise hi ess file ko run krte hai this file uploaded to RAM aur phir v8 engine execute codes line by line mtlb v8 engine jaise ek line of code ko machine code me convert me krta hai tab  wah line of code hard drive ke kisi file me save/store nhi ki jaati/hoti hai balki RAM me hi hoti aur usko CPU turant execute kr deta hai \n",
    "\n",
    "\n",
    "compilation:\n",
    "\n",
    "ess case me likha gya codes hard drive ke kisi file/folder me save/store hota hai ya yu kahu ki save/store kiya jaata hai aur jaise hi hm esss file ko run/open/start krte hai this file uploaded to RAM aur phir v8 engine convert the entire source code into machine code at once aur isko hard drive ke ksi file me save krne ki jagah entire machine code RAM me hi hota hai aur CPU usss machine code immediately execute krne lgta hai "
   ]
  },
  {
   "cell_type": "code",
   "execution_count": null,
   "id": "8563b0a6",
   "metadata": {},
   "outputs": [],
   "source": []
  },
  {
   "cell_type": "markdown",
   "id": "4993c888",
   "metadata": {},
   "source": [
    "# how v8 engine  execute the codes \n",
    "\n",
    "parsing --------->>> compilation(JIT) ------->>> final execution  \n",
    "\n",
    "parsing ------->>>1. bole to scanning/reading and lexical analysis (tokenization means breaking down the entire source code into                      smallest unit of code known as tokens taaki enko ek data structure me store kiya ja ske ya kahu ki koi data                      structure inko represent kr ske)\n",
    "\n",
    "                  2. AST generation matlb ek aisa data structure that represent/store the tokens taaki inko machine code me                          convert kiya ske \n",
    "                  \n",
    "compilation(JIT)--->>> bole to AST ko machine code me convert krna yu kahu ki AST ek data structure hai that represent/store the                        tokens in very structured way taaki unn tokens ko aassani se access kiya jaa ske aur phir machine code me                        convert kiya jaa ske\n",
    "\n",
    "final execution --->>> now machine code will be executed by CPU "
   ]
  },
  {
   "cell_type": "markdown",
   "id": "1d383232",
   "metadata": {},
   "source": [
    "The AST is quickly turned into machine code so the program can run. This initial code is unoptimized, meaning it's not as fast as it could be. aur essi liye compilation  and execution ke bich ek aur step aata hai that is optimization "
   ]
  },
  {
   "cell_type": "markdown",
   "id": "c4c840e3",
   "metadata": {},
   "source": [
    "# NOTE:\n",
    "\n",
    "parsing, compilation, optimization and execution ye sabhi v8 engine ke call stack ke ander ho rhe hote hai  ya simply yu kahu ki\n",
    "javascript code v8 engine ke call stack ke execution context me execute hote hai "
   ]
  },
  {
   "cell_type": "code",
   "execution_count": null,
   "id": "aec3f6fd",
   "metadata": {},
   "outputs": [],
   "source": []
  },
  {
   "cell_type": "markdown",
   "id": "ffff54d4",
   "metadata": {},
   "source": [
    "# scope vs scoping vs lexical scoping \n",
    "\n",
    "scoping ----->> means where we can access a certain  variable and where we can not\n",
    "\n",
    "but how scoping is decided or determined then scoping is decided/determined by lexical scoping now what is lexical scoping\n",
    "\n",
    "lexical scoping ----->> means scoping is controlled/decided/determined by actual placement/location of variable declaration in                           source code\n",
    "\n",
    "scope           ----->> means the space/region/environment in which a certain variable is declared \n",
    "\n",
    "scope of a variable ----->> the region of our code where  a certain variable can be accessed \n",
    "\n",
    "\n",
    "NOTE:\n",
    "\n",
    "when someone say that something access something from it's lexical scope/scoping it means he/she want to say that that thing access something from it's outer/parent scope "
   ]
  },
  {
   "cell_type": "code",
   "execution_count": null,
   "id": "fd862cf7",
   "metadata": {},
   "outputs": [],
   "source": []
  },
  {
   "cell_type": "markdown",
   "id": "236e50cb",
   "metadata": {},
   "source": [
    "# TDZ\n",
    "\n",
    "jaise ki hm jaante hai ki agr koi variable function scope hai to wah variable uss scope me kahi bhi access kiya jaa skta hai kya sach me aisa hai bilkul nhi kyuki agr ekl variable ko ussi ke scope me uske initialization se phle access krenge to we get error specially in case of let and const so wah region of that scope known as TDZ\n",
    "\n",
    "so finally i can say that the region of scope of a variable from starting of scope to just in initializtion of that variable "
   ]
  },
  {
   "cell_type": "code",
   "execution_count": null,
   "id": "aa4877bf",
   "metadata": {},
   "outputs": [],
   "source": []
  },
  {
   "cell_type": "markdown",
   "id": "f8d4604b",
   "metadata": {},
   "source": [
    "# NOTE\n",
    "\n",
    "parsing and compilation  ke baad actual execution exceution context me hota hai mtlb each line of codes are executed in a specific execution context and each execution context have main three component \n",
    "1. variable environment\n",
    "2. scope chain\n",
    "3. this keyword \n",
    "\n"
   ]
  },
  {
   "cell_type": "markdown",
   "id": "50996b6a",
   "metadata": {},
   "source": [
    "# this\n",
    "\n",
    "1. chahe hm strict mode me ho ya na ho agar this keyword kisi function ke ander nhi hai mtlb that can be considered as a top        level code tab this keyword refer to global object \n",
    "\n",
    "   a. in case of window browser global object called/represented as window\n",
    "   b. in case of node.js environment global object represented as {}\n",
    "\n",
    "2. agr this keyword kisi function(except arrow function) ke ander hai then the value of this keyword depend upon how that          function is called and strict mode \n",
    "\n",
    "3. in case of arrow function kewl ya dekhna hai ki arrow function hain kha mtlb kis scope me hai wah ussi scope ka this keyword    pick krta hai mtlb from it's parent scope so dekhna hai ki arrow function kisi function ke ander hai ya phir global scope me    hai \n",
    "\n",
    "NOTE:\n",
    "\n",
    "1. jabhi hm kisi variable ko var se declare krte hai tab wah varaible become a property of global object and  can be  access        like that see this.variable_name\n",
    "\n",
    "2. agr this keyword se related kuchh bhi testing krni hai then do in web browser environment not in vs code in vs code get          unexpected behaviour "
   ]
  },
  {
   "cell_type": "markdown",
   "id": "6a2441a6",
   "metadata": {},
   "source": [
    "# NOTE:\n",
    "\n",
    "the curly braces of an JS object don't create it's own scope \n"
   ]
  },
  {
   "cell_type": "code",
   "execution_count": null,
   "id": "4a15ab10",
   "metadata": {},
   "outputs": [],
   "source": []
  },
  {
   "cell_type": "markdown",
   "id": "ee7bfd00",
   "metadata": {},
   "source": [
    "# top-level code\n",
    "\n",
    "wah sabhi codes jo kisi function ke ander nhi hai wo sabhi top level code consider kiye jaate hai "
   ]
  },
  {
   "cell_type": "code",
   "execution_count": null,
   "id": "0bc6bbe5",
   "metadata": {},
   "outputs": [],
   "source": []
  },
  {
   "cell_type": "markdown",
   "id": "3658fc77",
   "metadata": {},
   "source": [
    "# spread vs rest pattern vs rest parameter\n",
    "\n",
    "spread operator                  --->>> used to unpack the elements from an array or object\n",
    "rest patten and rest parameter   --->>> both used to pack the elements to an array or object"
   ]
  },
  {
   "cell_type": "code",
   "execution_count": null,
   "id": "2903a6aa",
   "metadata": {},
   "outputs": [],
   "source": []
  },
  {
   "cell_type": "markdown",
   "id": "8c0802e0",
   "metadata": {},
   "source": [
    "# RegEx(regular expression)\n",
    "\n",
    "1. Creating a RegExp Object:\n",
    "\n",
    "You can create a regular expression using either a literal (e.g., /pattern/) or the RegExp constructor (e.g., new RegExp('pattern')).\n",
    "\n",
    "\n",
    "2. Basic Patterns:\n",
    "\n",
    "Regular characters match themselves. For example, /abc/ matches any string containing \"abc.\"\n",
    "\n",
    "2. Metacharacters (e.g., ^, $, ., *, +, ?, |, (), [], {},\\) have special meanings.\n",
    "\n",
    "\n",
    "3. Modifiers:\n",
    "\n",
    "i makes the pattern case-insensitive.\n",
    "g searches for all occurrences in the input string.\n",
    "m allows ^ and $ to match the start/end of lines in a multiline string.\n",
    "\n",
    "\n",
    "4. Character Classes:\n",
    "\n",
    "[aeiou] matches any vowel. [0-9] matches any digit.\n",
    "\n",
    "\n",
    "5. Quantifiers:\n",
    "\n",
    "* (0 or more), + (1 or more), ? (0 or 1).\n",
    "\n",
    "\n",
    "\n",
    "\n",
    "6. Anchors:\n",
    "\n",
    "^ matches the start, $ matches the end.\n",
    "\n",
    "\n",
    "\n",
    "\n",
    "7. Escape Special Characters:\n",
    "\n",
    "Use \\ to match special characters literally (e.g., \\. matches a dot).\n",
    "\n",
    "\n",
    "\n",
    "\n",
    "8. Capturing Groups:\n",
    "\n",
    "( ) create capturing groups to extract matched portions."
   ]
  },
  {
   "cell_type": "code",
   "execution_count": null,
   "id": "110fb756",
   "metadata": {},
   "outputs": [],
   "source": []
  },
  {
   "cell_type": "markdown",
   "id": "24d8748e",
   "metadata": {},
   "source": [
    "# map() vs reduce() vs filter() \n",
    "\n",
    "1. they all are higher order function\n",
    "2. they all accept a callback function and further callback function accept upto four args\n",
    "3. they execute callback function for each iteration mtlb har ek iteration ke liye callback function ke lines of codes execute      honge \n",
    "4. they all return an array except reduce it return a value\n",
    "5. callback function har iteration ke liye jo return krta hai array hold those all result/return "
   ]
  },
  {
   "cell_type": "markdown",
   "id": "c46c1501",
   "metadata": {},
   "source": [
    "# find()\n",
    "\n",
    "1. callback function jo bhi return krta hai happen following see:\n",
    "\n",
    "2. find() check that return value/exp is truthy or falsy\n",
    "\n",
    "3. if return value/exp is truthy then  find() try to match this return with all elements of array jaise hi macthing occur uss      matched element ko return krdega aur agr kuchh nhi match hua to first element will be returned from find()\n",
    "\n",
    "4. if return value/exp from callback function is falsy value/exp then immiadetly undefined return hoga from find() method"
   ]
  },
  {
   "cell_type": "code",
   "execution_count": null,
   "id": "14070b44",
   "metadata": {},
   "outputs": [],
   "source": []
  },
  {
   "cell_type": "markdown",
   "id": "c868c22e",
   "metadata": {},
   "source": [
    "# NOTE:\n",
    "\n",
    "1. jo function explicitly kuchhh nhi return krta hai wah implicitly undefined krta hai \n",
    "2. single liner callback function return that exp"
   ]
  },
  {
   "cell_type": "markdown",
   "id": "c46fa7d7",
   "metadata": {},
   "source": [
    "\n",
    "\n",
    " "
   ]
  },
  {
   "cell_type": "markdown",
   "id": "43ef343c",
   "metadata": {},
   "source": [
    "# scrolling concept\n",
    "\n",
    "1. document/web page edges vs current viewport edges\n",
    "2. we can know how far an element is from webpage edges and current viewport edges\n",
    "3. we can also find the height and width of current viewport\n",
    "4. scrollTo(x,y)---->>> mtlb webpage ke top most edge se y itna part vertically move/scroll krdo "
   ]
  },
  {
   "cell_type": "code",
   "execution_count": null,
   "id": "921f2b80",
   "metadata": {},
   "outputs": [],
   "source": []
  },
  {
   "cell_type": "markdown",
   "id": "940434ab",
   "metadata": {},
   "source": [
    "# addEventListner(event,callback,boolean)\n",
    "\n",
    "1. it take three arguments \n",
    "\n",
    "event --->> bole to an action/event jikso eventlistner() respond krta hai ya yu kahu tahi wo event/action hota hai jo ess                   eventlistner ko trigger krta hai ya yu kahau yah event eventlistner() ke callback ko execute krdega "
   ]
  },
  {
   "cell_type": "code",
   "execution_count": null,
   "id": "28d01c5c",
   "metadata": {},
   "outputs": [],
   "source": []
  }
 ],
 "metadata": {
  "kernelspec": {
   "display_name": "Python 3 (ipykernel)",
   "language": "python",
   "name": "python3"
  },
  "language_info": {
   "codemirror_mode": {
    "name": "ipython",
    "version": 3
   },
   "file_extension": ".py",
   "mimetype": "text/x-python",
   "name": "python",
   "nbconvert_exporter": "python",
   "pygments_lexer": "ipython3",
   "version": "3.9.13"
  }
 },
 "nbformat": 4,
 "nbformat_minor": 5
}
