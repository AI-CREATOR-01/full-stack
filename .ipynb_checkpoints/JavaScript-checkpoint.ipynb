{
 "cells": [
  {
   "cell_type": "markdown",
   "id": "189265ac",
   "metadata": {},
   "source": [
    "#                                      adding JS to website\n",
    "\n",
    "1.inline JS(like onClick=\"\", onLoad=\"\")\n",
    "2.internal JS (<script><script/> just before body tag)\n",
    "3.external JS (a sepearte file and then include the file by uaing script <script src=\"index.js\" charset=\"\"></script> and place     just from body tag)"
   ]
  },
  {
   "cell_type": "code",
   "execution_count": null,
   "id": "e1930046",
   "metadata": {},
   "outputs": [],
   "source": []
  },
  {
   "cell_type": "markdown",
   "id": "5165eb6d",
   "metadata": {},
   "source": [
    "#                                                          DOM\n",
    "\n",
    "document ----- document word ka mtlb hai an entire html document/file\n",
    "\n",
    "1.innerHtml\n",
    "2.textContent\n",
    "\n",
    "remember only these things:\n",
    "\n",
    "1.how to select any html elements \n",
    "2.after selecting html element how can i style it \n",
    "3.after selecting the hmtl element how can i manipulate the content and textconetnt of that element\n",
    "4.after selecting html eleement how can i manipulate the attribute of that element \n"
   ]
  }
 ],
 "metadata": {
  "kernelspec": {
   "display_name": "Python 3 (ipykernel)",
   "language": "python",
   "name": "python3"
  },
  "language_info": {
   "codemirror_mode": {
    "name": "ipython",
    "version": 3
   },
   "file_extension": ".py",
   "mimetype": "text/x-python",
   "name": "python",
   "nbconvert_exporter": "python",
   "pygments_lexer": "ipython3",
   "version": "3.9.13"
  }
 },
 "nbformat": 4,
 "nbformat_minor": 5
}
