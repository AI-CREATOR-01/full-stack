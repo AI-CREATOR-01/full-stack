{
 "cells": [
  {
   "cell_type": "markdown",
   "id": "9dff4cae",
   "metadata": {},
   "source": [
    "# CRUD operation\n",
    "\n",
    "c  --> create\n",
    "r  --> read\n",
    "u  --> update\n",
    "d  --> delete \n",
    "\n",
    "CREATE:\n",
    "\n",
    "insertOne(data,option)                                  ---->> both are used to insert document into collection\n",
    "insertMany(data,option)\n",
    "\n",
    "\n",
    "READ:\n",
    "\n",
    "find(filter,options)                                    ---->> both are used to read documents of a collection\n",
    "findOne(filter,options)\n",
    "\n",
    "\n",
    "UPDATE:\n",
    "\n",
    "updateOne (filter,data,optional..etc)\n",
    "updateMany(filter,data,optional..etc)                   ----->> are used to update document ya yu kahu used to insert                                                                           fields into document/documents of a collection\n",
    "replaceOne(filter,data,optional..etc)\n",
    "\n",
    "\n",
    "DELETE:\n",
    "\n",
    "deleteOne(filter,option)\n",
    "deleteMany(filter,option)\n",
    "\n",
    "\n",
    "let understand wiht examples:\n",
    "\n",
    "\n",
    "1. use database_name                                         ---->> it will switch to database_name if does not exist then                                                                           created database_name on database server or locally\n",
    "\n",
    "2. db.flightData.insertOne({name:'creator',sirname:'sanit'}) ---->> it will insert a document with two field into flightData                                                                         collection \n",
    "\n",
    "3.  db.flightData.insertMany([{},{},{},{}])\n",
    "\n",
    "4. db.flightData.find({}).pretty()                             ---->> it will show the all documents of flightData collection\n",
    "\n",
    "5. db.flightData.findOne({name:'creator'})\n",
    "\n",
    "6. db.flightData.deleOne({name:'sanit'})\n",
    "7. db.flightData.deleteMany({})\n",
    "\n",
    "\n",
    "NOTE:\n",
    "\n",
    "filter ---> bole to which document so bascally we mention a field/fields like that {name:'sanit'} so jis bhi document me yah                 field present hoga wah sabhi document/documents update/delete/read ho jaayenge \n",
    "\n",
    "{}     ---> if we pass just an empty {} as a filter it means it indicating to entire documents "
   ]
  },
  {
   "cell_type": "code",
   "execution_count": null,
   "id": "bce8983a",
   "metadata": {},
   "outputs": [],
   "source": []
  },
  {
   "cell_type": "markdown",
   "id": "be088716",
   "metadata": {},
   "source": [
    "# NOTE:\n",
    "\n",
    "1. agr kisi collection me ek document/documents insert/add krna ho then go for insertOne() and insertMany()\n",
    "2. agr kisi collection ke kisi specific document me fields ko add/remove/update krna ho then go for updateOne() and updateMany()\n",
    "3. agr kisi collection ke document/documents ko delete krna ho then go for deleteOne() and deleteMany()\n",
    "4. agr kisi collection ke document/documents ko read krna ho then go for find() and findOne()"
   ]
  },
  {
   "cell_type": "code",
   "execution_count": null,
   "id": "62857036",
   "metadata": {},
   "outputs": [],
   "source": []
  },
  {
   "cell_type": "markdown",
   "id": "ebda5688",
   "metadata": {},
   "source": [
    "# NOTE:****\n",
    "\n",
    "hmare pass ek ya ek se adhik databases hote hai so now\n",
    "\n",
    "database hota hai database ke ander collections hote hai aur collections ke ander ek array hota hai aur ess array ke ander documents hote hai let undrstand it with file system aaiye\n",
    "\n",
    "sbse phle ek main folder/container(database) create krte hai aur phir ess main folder/container ke ander sub-folders/sub-containers(collections) create krte hai aur phir enn collection ke ander datas/documents hai in an array  "
   ]
  },
  {
   "cell_type": "code",
   "execution_count": null,
   "id": "dd670dfc",
   "metadata": {},
   "outputs": [],
   "source": []
  },
  {
   "cell_type": "markdown",
   "id": "069cd460",
   "metadata": {},
   "source": [
    "# find() and cursor object\n",
    "\n",
    "when we use find() query to retriev/read get the docunents/records from a collection then it does not return entire documents/records of the collection balki it return a cursor and a cursor is neither strictly an array nor a simple object.\n",
    "It's a special type of object provided by the MongoDB driver or shell that allow developer to iterate over that cursor means getting/fetching documents/records one by one and perform operation coresponding to each rather than having all at once see\n",
    "\n",
    "1. db.flighdata.find().forEach((docs)=>printjson(docs))\n",
    "\n",
    "1. agar saara documents/records display/retrieve/get krna hai at one then use db.flightdata.find().toArray() to retrieve entire    documents/records to an array not as an cursor\n",
    "\n",
    "2. if we use find() not find().toArray() to retrieve the data then as we know that find() query return a cursor not an array of    entire documents and cursor retrieve/show/display/get it's first 20 documents of the colllection and then stop to                rerieve/show next documents isliye shell me type \"it\" for more likha hua aata hai in case of retrieving a collection having      more than 20 documents\n",
    "\n",
    "NOTE:\n",
    "\n",
    "1. kabhi kabhi insertMany() ke case me we don't unexpected error when we passs many documnets ot it like more than 20 documents\n",
    "\n",
    "2. findOne() return firts matching documents not a cursor so we can't apply pretty() method on it because it is cursor property\n",
    "\n",
    "3. so finally db.collection_name.find() by default ek cursor return krta hai jo ki ek special kind of object hota hai aur this      object can be iterate/loop over means get/fetch/retriev documents one by one and then to do something with each documents        jaise ek array se elements ko one by one fetch krte hai and perform some opeartion corresponding to each \n",
    "\n",
    "\n",
    "4. when we command:\n",
    "\n",
    "   db.flightData1.find()\n",
    "[\n",
    "\n",
    "  { _id: ObjectId('658bbcc59c24ec524778191a'), name1: 'Alice' },\n",
    "  \n",
    "  { _id: ObjectId('658bbcc59c24ec524778191b'), name2: 'Bob' },\n",
    "  { _id: ObjectId('658bbcc59c24ec524778191c'), name3: 'Charlie' }\n",
    "]\n",
    "\n",
    "VS\n",
    "\n",
    "\n",
    "  db.flighdata1.find().forEach((docs)=>printjson(docs))\n",
    "  \n",
    "  { _id: ObjectId('658bbcc59c24ec524778191a'), name1: 'Alice' }\n",
    "  \n",
    "  { _id: ObjectId('658bbcc59c24ec524778191b'), name2: 'Bob' }\n",
    "  \n",
    "  { _id: ObjectId('658bbcc59c24ec524778191c'), name3: 'Charlie' }\n",
    "\n",
    "mtlb documents one by one fetch hue ek not as an array of documents "
   ]
  },
  {
   "cell_type": "code",
   "execution_count": null,
   "id": "9ba263f0",
   "metadata": {},
   "outputs": [],
   "source": []
  },
  {
   "cell_type": "markdown",
   "id": "66208209",
   "metadata": {},
   "source": [
    "# projection\n",
    "\n",
    "projection refers to the process of specifying or limiting the fields that should be returned in the result let understand with example:\n",
    "\n",
    "projection is a way to include and exclude the fields while retrieving the documents from a co0llection mtlb when we get/fetch/retrieve the documents tab document/documents ke kis field ko include krna hai aur kisko nhi by default _id field automatically included because it is special field for all documents\n",
    "\n",
    "db.flightdate1.find({},{name:1}).pretty()  ---->> mtlb retrieve all the documents of flightdata1 collection but document should                                                   have only their name field rest of fields will be excluded maanlo kuchh aise                                                     document hai jinke pass yah name field hai hi nhi tabhi wo document retrieve                                                     honge with their _id field only ur agar _id field ko exclude kr diya tabhi wo                                                   document retrieve honge(kabhi kabhi nhi hote) but empty\n",
    "\n",
    "db.flightdata1.find({},{name:0,sirname:0}) ---->> mtlb reterieve all the documents but name and sirname fileds documents me nhi                                                   hone chahiye baaki sab fields honge \n",
    "\n",
    "NOTE:\n",
    "\n",
    "1. 1 and 0 used to indicate inclusssion and exclussion of fields \n",
    "2. document array ke ander different different JSON object hote hai \n",
    " "
   ]
  },
  {
   "cell_type": "code",
   "execution_count": null,
   "id": "9b355206",
   "metadata": {},
   "outputs": [],
   "source": []
  },
  {
   "cell_type": "markdown",
   "id": "96366318",
   "metadata": {},
   "source": [
    "# NOTE:\n",
    "\n",
    "1. findOne()            ---->> return document bole to array ka first matching object\n",
    "2. find()               ---->> retrun the cursor aur jab cursor ko loop over krenge tab we will get document one by one "
   ]
  },
  {
   "cell_type": "code",
   "execution_count": null,
   "id": "2e228915",
   "metadata": {},
   "outputs": [],
   "source": []
  },
  {
   "cell_type": "markdown",
   "id": "122b15c9",
   "metadata": {},
   "source": [
    "# curtsor methods\n",
    "\n",
    "1. forEach(callback)       : Iterates over the documents in the cursor and applies the specified callback function to each                                    document.\n",
    "\n",
    "2. toArray()               : Converts the cursor to an array of documents.\n",
    "\n",
    "3. next()                  : Returns the next document in the cursor.\n",
    "\n",
    "4. limit(n)                : Limits the number of documents returned by the cursor to the specified value.\n",
    "\n",
    "5. skip(n)                 : Skips the first n documents in the cursor.\n",
    "\n",
    "6. sort(sortDocument)      : Sorts the documents in the cursor based on the specified sort criteria.\n",
    "\n",
    "7. count(applySkipLimit)   : Returns the number of documents in the cursor. If applySkipLimit is true, it takes into account the                              skip and limit settings.\n",
    "\n",
    "8. explain(verbosity)      : Provides information on the execution plan and performance of the query."
   ]
  },
  {
   "cell_type": "code",
   "execution_count": null,
   "id": "419b8575",
   "metadata": {},
   "outputs": [],
   "source": []
  },
  {
   "cell_type": "markdown",
   "id": "7bd22fa3",
   "metadata": {},
   "source": [
    "# NOTE:\n",
    "\n",
    "db.collectionName.find({ name: { $exists: true } })\n",
    "This query will return only those documents in the collectionName collection where the name field exists. The $exists operator checks for the existence of a field in a document.\n",
    "\n",
    "If you also want to make sure that the name field is not null or an empty string, you can add an additional condition:\n",
    "db.collectionName.find({ name: { $exists: true, $ne: \"\" } })\n"
   ]
  },
  {
   "cell_type": "code",
   "execution_count": null,
   "id": "0a44be09",
   "metadata": {},
   "outputs": [],
   "source": []
  },
  {
   "cell_type": "markdown",
   "id": "8a8a18bf",
   "metadata": {},
   "source": [
    "# know about filters and operators in  mongodb\n",
    "\n",
    "filters and operators are term used to describe critreia and condtion to retrieve the documents"
   ]
  },
  {
   "cell_type": "code",
   "execution_count": null,
   "id": "a9c47650",
   "metadata": {},
   "outputs": [],
   "source": []
  },
  {
   "cell_type": "markdown",
   "id": "ea5d52c8",
   "metadata": {},
   "source": [
    "#                                                      what to do\n",
    "opne chatgtp and command to create a complex mongodb database and then ask basic to advanced question over that database and have a practice what i have learnt"
   ]
  },
  {
   "cell_type": "code",
   "execution_count": null,
   "id": "93713eeb",
   "metadata": {},
   "outputs": [],
   "source": []
  },
  {
   "cell_type": "markdown",
   "id": "3a69bf37",
   "metadata": {},
   "source": [
    "#                                                summary\n",
    "\n",
    "1. jaisa ki hm  jaante hai ki when we use find() to retrieve the documents of a collection then hme aisa lgta hai ki it return      an actual array/object of documents but it does not return actual document balki it return a cursor jo ki ek special object      hota hai\n",
    "   \n",
    "   special obejct ka mtlb ye hai ki the structure of this object can be anything that what we expect that this special object      would be looking like this or that aur isliye \n",
    "   \n",
    "   we can't directly access its elements(documents) using square brackets [] or dot notation . as we  would do with a regular      JavaScript object or array\n",
    "   \n",
    "   agar hme elements(documents ya further document ke kisi field ko) access krna hai then we have two ways see :-\n",
    "   \n",
    "   a. convert cursor to an arrray of documents by using toArray() property of cursor object see\n",
    "   \n",
    "      db.collection_name.find().toArray() --->> now ab yah query apni jagah ek array of documents return krega and now we can                                                   access the elements(documents) directly by using curly braces {} or dot(.) ya \n",
    "                                                we can loop/iterate over this array to access the elements(documents) for() loop                                                 or even forEach() method\n",
    "                                                \n",
    "   b. aur agr hm chahte hai ki sidha cursor se elements(documents) ko access kre then we have only one way and that is                 looping/iterating over the cursor using forEach() method even we can't directly use for() loop \n",
    "   \n",
    "   \n",
    "   \n",
    "2. findOne() ----->> always return first matching actual document bole to actual JSON so that's why we could directly access the                      fields of this document using curly braces {} or dot(.)\n",
    "   "
   ]
  }
 ],
 "metadata": {
  "kernelspec": {
   "display_name": "Python 3 (ipykernel)",
   "language": "python",
   "name": "python3"
  },
  "language_info": {
   "codemirror_mode": {
    "name": "ipython",
    "version": 3
   },
   "file_extension": ".py",
   "mimetype": "text/x-python",
   "name": "python",
   "nbconvert_exporter": "python",
   "pygments_lexer": "ipython3",
   "version": "3.9.13"
  }
 },
 "nbformat": 4,
 "nbformat_minor": 5
}
