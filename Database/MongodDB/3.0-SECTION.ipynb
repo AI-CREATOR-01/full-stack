{
 "cells": [
  {
   "cell_type": "markdown",
   "id": "63ad7c55",
   "metadata": {},
   "source": [
    "# schema\n",
    "schema is a blueprint that define how document is going to structure and organize bole to how document is going to look like ya simply kahu ki jo documnets hai unka data strcuture kya rhne waala hai\n",
    "\n",
    "Mongodb is a schemaless database mtlb within a collection the structure and organization of documents can be similar  or totally different it totally depend upon us mtlb within a collection a documents can look like totaly different to each other mtlb aisa koi strict rule nhi hai ki within a collection all document should have field namne same and no of fields shold be same aisa kuchh bhi nhi hai we can put diffe field name and can have diffe field no to each document"
   ]
  },
  {
   "cell_type": "code",
   "execution_count": null,
   "id": "76f89b58",
   "metadata": {},
   "outputs": [],
   "source": []
  },
  {
   "cell_type": "markdown",
   "id": "408af39d",
   "metadata": {},
   "source": [
    "# data-type\n",
    "\n",
    "1. text     ---->> \"antthing\"\n",
    "2. boolean  ---->> true/false\n",
    "3. Number   ---->> any real number(mtlb in case of JS int and floating point are equivalent)"
   ]
  },
  {
   "cell_type": "code",
   "execution_count": null,
   "id": "304537f9",
   "metadata": {},
   "outputs": [],
   "source": []
  },
  {
   "cell_type": "markdown",
   "id": "6881a572",
   "metadata": {},
   "source": [
    "# data schema and data modelling\n",
    "\n",
    "data schema        ---->> blueprint or pre-defined structure of something \n",
    "\n",
    "data modelling     ---->> Modeling data refers to the process of designing and structuring the way that how info/data is stored,                           organized, and represented in a database and it also involve defining relationships between different                           pieces of data and determining how data entities are stored and accessed.\n",
    "\n",
    "NOTE:\n",
    "\n",
    "1. establish relations either through embedded approach or refernces approach iska simple mtlb hai linking documents of            different collections beacuse data/info of those documents are related bhale hi wo documnets different collections se belong    krte hai\n",
    "\n",
    "   a. in case of embedded approach:\n",
    "      we directly embed the related document within other related document\n",
    "   \n",
    "   b. in case of referneces:\n",
    "      we store the value of _id of one document to a field of other reloated document and then we write logic to access them\n",
    "      ya simply yu kahu ki the value of _id of one document should be equal to value of other document field or vice-versa\n",
    "      \n",
    "2. kisi bhi ek document ke field ki value dusre related document ke field ko as a value store krdo then both documents gone        linked to each other "
   ]
  },
  {
   "cell_type": "code",
   "execution_count": null,
   "id": "0ccd4689",
   "metadata": {},
   "outputs": [],
   "source": []
  },
  {
   "cell_type": "markdown",
   "id": "51f8c5a8",
   "metadata": {},
   "source": [
    "# analogy to understand relations\n",
    "\n",
    "1. database      ---->> is like a unversal set jiske har ek elements ek collection ko repreesent krte hai\n",
    "2. collections   ---->> are like individual sets \n",
    "3. documents     ---->> are like elements of a set \n",
    "\n",
    "now it's easy to uderstand one to one, one to many and many to many relations \n",
    "\n",
    "one to one:\n",
    "\n",
    "each element/document of first set/collection should be associated with exactly one element/document of second set/collection\n",
    "\n",
    "one to many :\n",
    "\n",
    "each element/document of first set/collection should be associated with multiples element/document of second set/collection but not vice versa\n",
    "\n",
    "many to many :\n",
    "\n",
    "each element/document of first set/collection should be associated with multiples element/document of second set/collection and vice versa as well\n",
    "\n",
    "nested/embedded documents  ---->> group data together logically\n",
    "\n",
    "references                 ---->> split related data across collections "
   ]
  },
  {
   "cell_type": "code",
   "execution_count": null,
   "id": "370523a0",
   "metadata": {},
   "outputs": [],
   "source": []
  }
 ],
 "metadata": {
  "kernelspec": {
   "display_name": "Python 3 (ipykernel)",
   "language": "python",
   "name": "python3"
  },
  "language_info": {
   "codemirror_mode": {
    "name": "ipython",
    "version": 3
   },
   "file_extension": ".py",
   "mimetype": "text/x-python",
   "name": "python",
   "nbconvert_exporter": "python",
   "pygments_lexer": "ipython3",
   "version": "3.9.13"
  }
 },
 "nbformat": 4,
 "nbformat_minor": 5
}
