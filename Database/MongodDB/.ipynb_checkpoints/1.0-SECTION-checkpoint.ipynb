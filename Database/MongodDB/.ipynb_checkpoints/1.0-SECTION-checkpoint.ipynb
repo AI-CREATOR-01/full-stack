{
 "cells": [
  {
   "cell_type": "markdown",
   "id": "0e68f9a1",
   "metadata": {},
   "source": [
    "# INTRODUCTION"
   ]
  },
  {
   "cell_type": "markdown",
   "id": "033c6bb7",
   "metadata": {},
   "source": [
    "database                 --->> The way of storing structured collection of data ya simply kahu ki database is a structured                                      collection of data\n",
    "\n",
    "computer/Database Server --->> bole to wah computer/server jispe collection of data(database) stored hai\n",
    "\n",
    "DBMS                     --->> bole to ek software/application running on the database server to handle/manipulate the databases\n",
    "                               or\n",
    "                               Database solution\n",
    "                               \n",
    "SQL                      --->> ek programming/query language used to communicate with DBMS by creating queries directly in shell                                or in any DBMS corresponding GUI"
   ]
  },
  {
   "cell_type": "code",
   "execution_count": null,
   "id": "30728b74",
   "metadata": {},
   "outputs": [],
   "source": []
  },
  {
   "cell_type": "markdown",
   "id": "eea486ec",
   "metadata": {},
   "source": [
    "# TYPES OF DATABASE"
   ]
  },
  {
   "cell_type": "code",
   "execution_count": null,
   "id": "c2eb2158",
   "metadata": {},
   "outputs": [],
   "source": [
    "primarly there are two types of database:\n",
    "\n",
    "1. SQL/relational database (like mySQL, postGREsql etc..)\n",
    "2. NOSQL/no-relational database(MongoDB)"
   ]
  },
  {
   "cell_type": "code",
   "execution_count": null,
   "id": "6c094abc",
   "metadata": {},
   "outputs": [],
   "source": []
  },
  {
   "cell_type": "markdown",
   "id": "51ccb98c",
   "metadata": {},
   "source": [
    "# WHAT IS MongoDB"
   ]
  },
  {
   "cell_type": "markdown",
   "id": "734353df",
   "metadata": {},
   "source": [
    "1. MongoDB is a database solution mtlb jaisa ki hm jaaante hai ki Database ek tarika hai to store the structured collection of      database but how we can do that ya yu kahu ki how we can achieve that way to store the structured collection of databases\n",
    "\n",
    "2. the conmpany behind the mongoDB is also known as Mongodb \n",
    "\n",
    "3. we can also say that mongodb provide a server and environment jha pe aur jiski help se hm databases create kr paate hai \n",
    "\n",
    "4. mongodb is database solution. with the help of mongodb we able to create and manipulate databases on a database server(remote    computer/machine/device) and all the tools(software + hardware) that we use to do so known as database mnanagement system"
   ]
  },
  {
   "cell_type": "markdown",
   "id": "8edda5c8",
   "metadata": {},
   "source": [
    "# SCHEMA\n",
    "\n",
    "A schema is like a blueprint or plan that defines how information is structured and organized in a database jaise ki SQL databse ke case me sbse phle hm ek table plan krte hai jisme hm further plan krte hai ki kitn columns aur rows ess table me rkhenge aur phir jaake kahi hm dtaa put kr paaate hai but NOSQL database ke case me aisa nhi hota isliye hm Mongodb ko schemaless database bolte hai "
   ]
  },
  {
   "cell_type": "code",
   "execution_count": null,
   "id": "52c47dc0",
   "metadata": {},
   "outputs": [],
   "source": []
  },
  {
   "cell_type": "markdown",
   "id": "3a23ec90",
   "metadata": {},
   "source": [
    "# commands"
   ]
  },
  {
   "cell_type": "markdown",
   "id": "e8ee699e",
   "metadata": {},
   "source": [
    "1. show dbs   ---->> to show all databases\n",
    "2. use database_name ---->>> to switche/create to a database\n",
    "3. show collections  ---->>> to list all collection of currently switched database\n",
    "4. db.collection_name.find() -->> to show the documents ya yu kahu ki to list the entire documents of  collection_name\n",
    "\n",
    "NOTE:\n",
    "1. db -->> represent current database\n",
    "\n",
    "2. jaise hi hm use database_name type krte hai switched to that databaxse aur agr ess nama ka koi database exist nhi krta then      ess name ka database create ho jaayega aur agar hm iske baad show dbs command dete hai to created database nhi dikhega list      me kyuki ess created database me koi document insert nhi kya hai ya simply yu kahu ki koi bhi collection(may be empty or non-    empty) create nhi kiya within this database so jaise hi koi collection create krenge and type again show dbs then list me        newly created database dikhne lgega  "
   ]
  },
  {
   "cell_type": "code",
   "execution_count": null,
   "id": "9f136ae3",
   "metadata": {},
   "outputs": [],
   "source": []
  },
  {
   "cell_type": "markdown",
   "id": "63a92f25",
   "metadata": {},
   "source": [
    "# mongodb shell vs mongodb driver\n",
    "\n",
    "yahi wo tarike hai mongodb tak queries phuchane ke ya simply yu kahu ki mongodb recieve the queries from them "
   ]
  },
  {
   "cell_type": "code",
   "execution_count": null,
   "id": "53bebdc7",
   "metadata": {},
   "outputs": [],
   "source": []
  },
  {
   "cell_type": "markdown",
   "id": "fa1235ec",
   "metadata": {},
   "source": [
    "# NOTE:\n",
    "\n",
    "mongodb first talk to storage engine then storage engine read and write data in memory first anmd then finallly read and write data to database files"
   ]
  },
  {
   "cell_type": "code",
   "execution_count": null,
   "id": "c4676f4d",
   "metadata": {},
   "outputs": [],
   "source": []
  },
  {
   "cell_type": "markdown",
   "id": "11c1d9b3",
   "metadata": {},
   "source": [
    "# database vs collection vs document vs field\n",
    "\n",
    "database   --->> bole to main contaniner\n",
    "collection --->> bole to like a table in sql database\n",
    "document   --->> bole to key-value pair object like JSON within collection\n",
    "field      --->> bole to key-value pair within document "
   ]
  },
  {
   "cell_type": "code",
   "execution_count": null,
   "id": "769f550f",
   "metadata": {},
   "outputs": [],
   "source": []
  },
  {
   "cell_type": "markdown",
   "id": "8a598b39",
   "metadata": {},
   "source": [
    "# NOTE:\n",
    "\n",
    "document === JSON mtlb document ek JSON hi hota hai aur document ko entity bhi bolte hai "
   ]
  },
  {
   "cell_type": "code",
   "execution_count": null,
   "id": "7a20513a",
   "metadata": {},
   "outputs": [],
   "source": []
  },
  {
   "cell_type": "markdown",
   "id": "eed9a14a",
   "metadata": {},
   "source": [
    "#                                                        # what to do\n",
    "\n",
    "whenever i stcukn= somewhere then what i need to do \n",
    "let i can't understand some topic then i need to give this prompt to AI see\n",
    "\n",
    "1. what is topic_name? what exactly does it do? how does it work? why we need/use it? what problems were there before it?how and    what problmes did it solve ? explain everything with example\n",
    "\n",
    "2. explain same things in most simplest way\n",
    "\n",
    "3. explain like i am five years old\n",
    "\n",
    "4. ask to give multipe situations where we need this topic "
   ]
  },
  {
   "cell_type": "markdown",
   "id": "adb396bb",
   "metadata": {},
   "source": [
    "#                                                        summary\n",
    "\n",
    "1. let we create a database named hospital\n",
    "2. now within this database we created two collections named as patients and doctors \n",
    "3. now within patients collection we create multiples documents(JSON) that represent multiple patient info/data\n",
    "\n",
    "so ek database ka structure and organization kuchh aisa rhta hai ok done "
   ]
  }
 ],
 "metadata": {
  "kernelspec": {
   "display_name": "Python 3 (ipykernel)",
   "language": "python",
   "name": "python3"
  },
  "language_info": {
   "codemirror_mode": {
    "name": "ipython",
    "version": 3
   },
   "file_extension": ".py",
   "mimetype": "text/x-python",
   "name": "python",
   "nbconvert_exporter": "python",
   "pygments_lexer": "ipython3",
   "version": "3.9.13"
  }
 },
 "nbformat": 4,
 "nbformat_minor": 5
}
